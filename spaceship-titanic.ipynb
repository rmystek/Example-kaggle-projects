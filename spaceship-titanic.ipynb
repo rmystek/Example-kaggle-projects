{
 "cells": [
  {
   "cell_type": "code",
   "execution_count": 1,
   "id": "a7c8c6e8",
   "metadata": {
    "_cell_guid": "b1076dfc-b9ad-4769-8c92-a6c4dae69d19",
    "_uuid": "8f2839f25d086af736a60e9eeb907d3b93b6e0e5",
    "execution": {
     "iopub.execute_input": "2024-03-28T22:23:41.861956Z",
     "iopub.status.busy": "2024-03-28T22:23:41.861134Z",
     "iopub.status.idle": "2024-03-28T22:23:42.706529Z",
     "shell.execute_reply": "2024-03-28T22:23:42.705392Z"
    },
    "papermill": {
     "duration": 0.869812,
     "end_time": "2024-03-28T22:23:42.709161",
     "exception": false,
     "start_time": "2024-03-28T22:23:41.839349",
     "status": "completed"
    },
    "tags": []
   },
   "outputs": [
    {
     "name": "stdout",
     "output_type": "stream",
     "text": [
      "/kaggle/input/spaceship-titanic/sample_submission.csv\n",
      "/kaggle/input/spaceship-titanic/train.csv\n",
      "/kaggle/input/spaceship-titanic/test.csv\n"
     ]
    }
   ],
   "source": [
    "# This Python 3 environment comes with many helpful analytics libraries installed\n",
    "# It is defined by the kaggle/python Docker image: https://github.com/kaggle/docker-python\n",
    "# For example, here's several helpful packages to load\n",
    "\n",
    "import numpy as np # linear algebra\n",
    "import pandas as pd # data processing, CSV file I/O (e.g. pd.read_csv)\n",
    "\n",
    "# Input data files are available in the read-only \"../input/\" directory\n",
    "# For example, running this (by clicking run or pressing Shift+Enter) will list all files under the input directory\n",
    "\n",
    "import os\n",
    "for dirname, _, filenames in os.walk('/kaggle/input'):\n",
    "    for filename in filenames:\n",
    "        print(os.path.join(dirname, filename))\n",
    "\n",
    "# You can write up to 20GB to the current directory (/kaggle/working/) that gets preserved as output when you create a version using \"Save & Run All\" \n",
    "# You can also write temporary files to /kaggle/temp/, but they won't be saved outside of the current session"
   ]
  },
  {
   "cell_type": "code",
   "execution_count": 2,
   "id": "a43abca3",
   "metadata": {
    "execution": {
     "iopub.execute_input": "2024-03-28T22:23:42.754809Z",
     "iopub.status.busy": "2024-03-28T22:23:42.754313Z",
     "iopub.status.idle": "2024-03-28T22:23:42.843001Z",
     "shell.execute_reply": "2024-03-28T22:23:42.841615Z"
    },
    "papermill": {
     "duration": 0.113858,
     "end_time": "2024-03-28T22:23:42.845922",
     "exception": false,
     "start_time": "2024-03-28T22:23:42.732064",
     "status": "completed"
    },
    "tags": []
   },
   "outputs": [],
   "source": [
    "X_train = pd.read_csv('/kaggle/input/spaceship-titanic/train.csv')\n",
    "X_test = pd.read_csv('/kaggle/input/spaceship-titanic/test.csv')\n",
    "sample_submission = pd.read_csv('/kaggle/input/spaceship-titanic/sample_submission.csv')"
   ]
  },
  {
   "cell_type": "code",
   "execution_count": 3,
   "id": "2aec84bb",
   "metadata": {
    "execution": {
     "iopub.execute_input": "2024-03-28T22:23:42.888365Z",
     "iopub.status.busy": "2024-03-28T22:23:42.887391Z",
     "iopub.status.idle": "2024-03-28T22:23:42.923851Z",
     "shell.execute_reply": "2024-03-28T22:23:42.922682Z"
    },
    "papermill": {
     "duration": 0.06093,
     "end_time": "2024-03-28T22:23:42.927230",
     "exception": false,
     "start_time": "2024-03-28T22:23:42.866300",
     "status": "completed"
    },
    "tags": []
   },
   "outputs": [
    {
     "data": {
      "text/html": [
       "<div>\n",
       "<style scoped>\n",
       "    .dataframe tbody tr th:only-of-type {\n",
       "        vertical-align: middle;\n",
       "    }\n",
       "\n",
       "    .dataframe tbody tr th {\n",
       "        vertical-align: top;\n",
       "    }\n",
       "\n",
       "    .dataframe thead th {\n",
       "        text-align: right;\n",
       "    }\n",
       "</style>\n",
       "<table border=\"1\" class=\"dataframe\">\n",
       "  <thead>\n",
       "    <tr style=\"text-align: right;\">\n",
       "      <th></th>\n",
       "      <th>PassengerId</th>\n",
       "      <th>HomePlanet</th>\n",
       "      <th>CryoSleep</th>\n",
       "      <th>Cabin</th>\n",
       "      <th>Destination</th>\n",
       "      <th>Age</th>\n",
       "      <th>VIP</th>\n",
       "      <th>RoomService</th>\n",
       "      <th>FoodCourt</th>\n",
       "      <th>ShoppingMall</th>\n",
       "      <th>Spa</th>\n",
       "      <th>VRDeck</th>\n",
       "      <th>Name</th>\n",
       "      <th>Transported</th>\n",
       "    </tr>\n",
       "  </thead>\n",
       "  <tbody>\n",
       "    <tr>\n",
       "      <th>0</th>\n",
       "      <td>0001_01</td>\n",
       "      <td>Europa</td>\n",
       "      <td>False</td>\n",
       "      <td>B/0/P</td>\n",
       "      <td>TRAPPIST-1e</td>\n",
       "      <td>39.0</td>\n",
       "      <td>False</td>\n",
       "      <td>0.0</td>\n",
       "      <td>0.0</td>\n",
       "      <td>0.0</td>\n",
       "      <td>0.0</td>\n",
       "      <td>0.0</td>\n",
       "      <td>Maham Ofracculy</td>\n",
       "      <td>False</td>\n",
       "    </tr>\n",
       "    <tr>\n",
       "      <th>1</th>\n",
       "      <td>0002_01</td>\n",
       "      <td>Earth</td>\n",
       "      <td>False</td>\n",
       "      <td>F/0/S</td>\n",
       "      <td>TRAPPIST-1e</td>\n",
       "      <td>24.0</td>\n",
       "      <td>False</td>\n",
       "      <td>109.0</td>\n",
       "      <td>9.0</td>\n",
       "      <td>25.0</td>\n",
       "      <td>549.0</td>\n",
       "      <td>44.0</td>\n",
       "      <td>Juanna Vines</td>\n",
       "      <td>True</td>\n",
       "    </tr>\n",
       "    <tr>\n",
       "      <th>2</th>\n",
       "      <td>0003_01</td>\n",
       "      <td>Europa</td>\n",
       "      <td>False</td>\n",
       "      <td>A/0/S</td>\n",
       "      <td>TRAPPIST-1e</td>\n",
       "      <td>58.0</td>\n",
       "      <td>True</td>\n",
       "      <td>43.0</td>\n",
       "      <td>3576.0</td>\n",
       "      <td>0.0</td>\n",
       "      <td>6715.0</td>\n",
       "      <td>49.0</td>\n",
       "      <td>Altark Susent</td>\n",
       "      <td>False</td>\n",
       "    </tr>\n",
       "    <tr>\n",
       "      <th>3</th>\n",
       "      <td>0003_02</td>\n",
       "      <td>Europa</td>\n",
       "      <td>False</td>\n",
       "      <td>A/0/S</td>\n",
       "      <td>TRAPPIST-1e</td>\n",
       "      <td>33.0</td>\n",
       "      <td>False</td>\n",
       "      <td>0.0</td>\n",
       "      <td>1283.0</td>\n",
       "      <td>371.0</td>\n",
       "      <td>3329.0</td>\n",
       "      <td>193.0</td>\n",
       "      <td>Solam Susent</td>\n",
       "      <td>False</td>\n",
       "    </tr>\n",
       "    <tr>\n",
       "      <th>4</th>\n",
       "      <td>0004_01</td>\n",
       "      <td>Earth</td>\n",
       "      <td>False</td>\n",
       "      <td>F/1/S</td>\n",
       "      <td>TRAPPIST-1e</td>\n",
       "      <td>16.0</td>\n",
       "      <td>False</td>\n",
       "      <td>303.0</td>\n",
       "      <td>70.0</td>\n",
       "      <td>151.0</td>\n",
       "      <td>565.0</td>\n",
       "      <td>2.0</td>\n",
       "      <td>Willy Santantines</td>\n",
       "      <td>True</td>\n",
       "    </tr>\n",
       "    <tr>\n",
       "      <th>...</th>\n",
       "      <td>...</td>\n",
       "      <td>...</td>\n",
       "      <td>...</td>\n",
       "      <td>...</td>\n",
       "      <td>...</td>\n",
       "      <td>...</td>\n",
       "      <td>...</td>\n",
       "      <td>...</td>\n",
       "      <td>...</td>\n",
       "      <td>...</td>\n",
       "      <td>...</td>\n",
       "      <td>...</td>\n",
       "      <td>...</td>\n",
       "      <td>...</td>\n",
       "    </tr>\n",
       "    <tr>\n",
       "      <th>8688</th>\n",
       "      <td>9276_01</td>\n",
       "      <td>Europa</td>\n",
       "      <td>False</td>\n",
       "      <td>A/98/P</td>\n",
       "      <td>55 Cancri e</td>\n",
       "      <td>41.0</td>\n",
       "      <td>True</td>\n",
       "      <td>0.0</td>\n",
       "      <td>6819.0</td>\n",
       "      <td>0.0</td>\n",
       "      <td>1643.0</td>\n",
       "      <td>74.0</td>\n",
       "      <td>Gravior Noxnuther</td>\n",
       "      <td>False</td>\n",
       "    </tr>\n",
       "    <tr>\n",
       "      <th>8689</th>\n",
       "      <td>9278_01</td>\n",
       "      <td>Earth</td>\n",
       "      <td>True</td>\n",
       "      <td>G/1499/S</td>\n",
       "      <td>PSO J318.5-22</td>\n",
       "      <td>18.0</td>\n",
       "      <td>False</td>\n",
       "      <td>0.0</td>\n",
       "      <td>0.0</td>\n",
       "      <td>0.0</td>\n",
       "      <td>0.0</td>\n",
       "      <td>0.0</td>\n",
       "      <td>Kurta Mondalley</td>\n",
       "      <td>False</td>\n",
       "    </tr>\n",
       "    <tr>\n",
       "      <th>8690</th>\n",
       "      <td>9279_01</td>\n",
       "      <td>Earth</td>\n",
       "      <td>False</td>\n",
       "      <td>G/1500/S</td>\n",
       "      <td>TRAPPIST-1e</td>\n",
       "      <td>26.0</td>\n",
       "      <td>False</td>\n",
       "      <td>0.0</td>\n",
       "      <td>0.0</td>\n",
       "      <td>1872.0</td>\n",
       "      <td>1.0</td>\n",
       "      <td>0.0</td>\n",
       "      <td>Fayey Connon</td>\n",
       "      <td>True</td>\n",
       "    </tr>\n",
       "    <tr>\n",
       "      <th>8691</th>\n",
       "      <td>9280_01</td>\n",
       "      <td>Europa</td>\n",
       "      <td>False</td>\n",
       "      <td>E/608/S</td>\n",
       "      <td>55 Cancri e</td>\n",
       "      <td>32.0</td>\n",
       "      <td>False</td>\n",
       "      <td>0.0</td>\n",
       "      <td>1049.0</td>\n",
       "      <td>0.0</td>\n",
       "      <td>353.0</td>\n",
       "      <td>3235.0</td>\n",
       "      <td>Celeon Hontichre</td>\n",
       "      <td>False</td>\n",
       "    </tr>\n",
       "    <tr>\n",
       "      <th>8692</th>\n",
       "      <td>9280_02</td>\n",
       "      <td>Europa</td>\n",
       "      <td>False</td>\n",
       "      <td>E/608/S</td>\n",
       "      <td>TRAPPIST-1e</td>\n",
       "      <td>44.0</td>\n",
       "      <td>False</td>\n",
       "      <td>126.0</td>\n",
       "      <td>4688.0</td>\n",
       "      <td>0.0</td>\n",
       "      <td>0.0</td>\n",
       "      <td>12.0</td>\n",
       "      <td>Propsh Hontichre</td>\n",
       "      <td>True</td>\n",
       "    </tr>\n",
       "  </tbody>\n",
       "</table>\n",
       "<p>8693 rows × 14 columns</p>\n",
       "</div>"
      ],
      "text/plain": [
       "     PassengerId HomePlanet CryoSleep     Cabin    Destination   Age    VIP  \\\n",
       "0        0001_01     Europa     False     B/0/P    TRAPPIST-1e  39.0  False   \n",
       "1        0002_01      Earth     False     F/0/S    TRAPPIST-1e  24.0  False   \n",
       "2        0003_01     Europa     False     A/0/S    TRAPPIST-1e  58.0   True   \n",
       "3        0003_02     Europa     False     A/0/S    TRAPPIST-1e  33.0  False   \n",
       "4        0004_01      Earth     False     F/1/S    TRAPPIST-1e  16.0  False   \n",
       "...          ...        ...       ...       ...            ...   ...    ...   \n",
       "8688     9276_01     Europa     False    A/98/P    55 Cancri e  41.0   True   \n",
       "8689     9278_01      Earth      True  G/1499/S  PSO J318.5-22  18.0  False   \n",
       "8690     9279_01      Earth     False  G/1500/S    TRAPPIST-1e  26.0  False   \n",
       "8691     9280_01     Europa     False   E/608/S    55 Cancri e  32.0  False   \n",
       "8692     9280_02     Europa     False   E/608/S    TRAPPIST-1e  44.0  False   \n",
       "\n",
       "      RoomService  FoodCourt  ShoppingMall     Spa  VRDeck               Name  \\\n",
       "0             0.0        0.0           0.0     0.0     0.0    Maham Ofracculy   \n",
       "1           109.0        9.0          25.0   549.0    44.0       Juanna Vines   \n",
       "2            43.0     3576.0           0.0  6715.0    49.0      Altark Susent   \n",
       "3             0.0     1283.0         371.0  3329.0   193.0       Solam Susent   \n",
       "4           303.0       70.0         151.0   565.0     2.0  Willy Santantines   \n",
       "...           ...        ...           ...     ...     ...                ...   \n",
       "8688          0.0     6819.0           0.0  1643.0    74.0  Gravior Noxnuther   \n",
       "8689          0.0        0.0           0.0     0.0     0.0    Kurta Mondalley   \n",
       "8690          0.0        0.0        1872.0     1.0     0.0       Fayey Connon   \n",
       "8691          0.0     1049.0           0.0   353.0  3235.0   Celeon Hontichre   \n",
       "8692        126.0     4688.0           0.0     0.0    12.0   Propsh Hontichre   \n",
       "\n",
       "      Transported  \n",
       "0           False  \n",
       "1            True  \n",
       "2           False  \n",
       "3           False  \n",
       "4            True  \n",
       "...           ...  \n",
       "8688        False  \n",
       "8689        False  \n",
       "8690         True  \n",
       "8691        False  \n",
       "8692         True  \n",
       "\n",
       "[8693 rows x 14 columns]"
      ]
     },
     "execution_count": 3,
     "metadata": {},
     "output_type": "execute_result"
    }
   ],
   "source": [
    "X_train"
   ]
  },
  {
   "cell_type": "markdown",
   "id": "006434ca",
   "metadata": {
    "papermill": {
     "duration": 0.019599,
     "end_time": "2024-03-28T22:23:42.966911",
     "exception": false,
     "start_time": "2024-03-28T22:23:42.947312",
     "status": "completed"
    },
    "tags": []
   },
   "source": [
    "Let's check missing data"
   ]
  },
  {
   "cell_type": "code",
   "execution_count": 4,
   "id": "c0aab7c9",
   "metadata": {
    "execution": {
     "iopub.execute_input": "2024-03-28T22:23:43.009186Z",
     "iopub.status.busy": "2024-03-28T22:23:43.008100Z",
     "iopub.status.idle": "2024-03-28T22:23:43.021955Z",
     "shell.execute_reply": "2024-03-28T22:23:43.020849Z"
    },
    "papermill": {
     "duration": 0.03724,
     "end_time": "2024-03-28T22:23:43.024146",
     "exception": false,
     "start_time": "2024-03-28T22:23:42.986906",
     "status": "completed"
    },
    "tags": []
   },
   "outputs": [
    {
     "data": {
      "text/plain": [
       "PassengerId       0\n",
       "HomePlanet      201\n",
       "CryoSleep       217\n",
       "Cabin           199\n",
       "Destination     182\n",
       "Age             179\n",
       "VIP             203\n",
       "RoomService     181\n",
       "FoodCourt       183\n",
       "ShoppingMall    208\n",
       "Spa             183\n",
       "VRDeck          188\n",
       "Name            200\n",
       "Transported       0\n",
       "dtype: int64"
      ]
     },
     "execution_count": 4,
     "metadata": {},
     "output_type": "execute_result"
    }
   ],
   "source": [
    "X_train.isna().sum()"
   ]
  },
  {
   "cell_type": "markdown",
   "id": "ade13c57",
   "metadata": {
    "papermill": {
     "duration": 0.019691,
     "end_time": "2024-03-28T22:23:43.063921",
     "exception": false,
     "start_time": "2024-03-28T22:23:43.044230",
     "status": "completed"
    },
    "tags": []
   },
   "source": [
    "Clearly there is a some missing data in each category. We will have to handle it later."
   ]
  },
  {
   "cell_type": "markdown",
   "id": "00ab91c1",
   "metadata": {
    "papermill": {
     "duration": 0.019703,
     "end_time": "2024-03-28T22:23:43.103604",
     "exception": false,
     "start_time": "2024-03-28T22:23:43.083901",
     "status": "completed"
    },
    "tags": []
   },
   "source": [
    "Let's explore expenditures, perhaps it makes sense to create a feature 'Total expenditure'?"
   ]
  },
  {
   "cell_type": "code",
   "execution_count": 5,
   "id": "2ab25b9f",
   "metadata": {
    "execution": {
     "iopub.execute_input": "2024-03-28T22:23:43.146598Z",
     "iopub.status.busy": "2024-03-28T22:23:43.146185Z",
     "iopub.status.idle": "2024-03-28T22:23:44.288124Z",
     "shell.execute_reply": "2024-03-28T22:23:44.287132Z"
    },
    "papermill": {
     "duration": 1.165751,
     "end_time": "2024-03-28T22:23:44.290709",
     "exception": false,
     "start_time": "2024-03-28T22:23:43.124958",
     "status": "completed"
    },
    "tags": []
   },
   "outputs": [
    {
     "data": {
      "image/png": "[encoded data removed]",
      "text/plain": [
       "<Figure size 640x480 with 5 Axes>"
      ]
     },
     "metadata": {},
     "output_type": "display_data"
    }
   ],
   "source": [
    "import matplotlib.pyplot as plt\n",
    "%matplotlib inline\n",
    "\n",
    "rooms = ['RoomService', 'FoodCourt', 'ShoppingMall', 'Spa', 'VRDeck']\n",
    "\n",
    "fig = plt.figure()\n",
    "\n",
    "\n",
    "for i, room in enumerate(rooms):\n",
    "    X_train[room+'_rank'] = X_train[room].rank(method = 'first')\n",
    "    X_train[room+'_cut'] = pd.qcut(X_train[room + '_rank'], q = 10, labels = list(range(10)))\n",
    "    X_train.drop(columns = room +'_rank',inplace=True)\n",
    "    \n",
    "    fig.add_subplot(2,3,i+1)\n",
    "    transport_chances = [len(X_train.loc[(X_train[room+'_cut'] == i) & (X_train['Transported'] == True)])/len(X_train.loc[(X_train[room+'_cut'] == i)]) for i in range(10)]\n",
    "    plt.plot(transport_chances)\n",
    "    plt.title(room)\n",
    "    plt.xlabel('expenditure group')\n",
    "    plt.ylabel('chances of being transported')\n",
    "    \n",
    "    '''for i in range(10):\n",
    "        print(f'transport chance for room {room} bin {i}',len(X_train.loc[(X_train[room+'_cut'] == i) & (X_train['Transported'] == True)])/len(X_train.loc[(X_train[room+'_cut'] == i)]))'''\n",
    "    X_train.drop(columns = room+ '_cut',inplace=True)\n",
    "    \n",
    "fig.tight_layout()"
   ]
  },
  {
   "cell_type": "markdown",
   "id": "d841297b",
   "metadata": {
    "papermill": {
     "duration": 0.020942,
     "end_time": "2024-03-28T22:23:44.332909",
     "exception": false,
     "start_time": "2024-03-28T22:23:44.311967",
     "status": "completed"
    },
    "tags": []
   },
   "source": [
    "It is clearly visible that 'RoomSerive', 'Spa' and 'VRDeck' follow roughly the same curve, just as 'FoodCourt' and 'ShoppingMall' do. It is interesting. Let's check correlations."
   ]
  },
  {
   "cell_type": "code",
   "execution_count": 6,
   "id": "642cc2a5",
   "metadata": {
    "execution": {
     "iopub.execute_input": "2024-03-28T22:23:44.377581Z",
     "iopub.status.busy": "2024-03-28T22:23:44.376946Z",
     "iopub.status.idle": "2024-03-28T22:23:44.392365Z",
     "shell.execute_reply": "2024-03-28T22:23:44.391186Z"
    },
    "papermill": {
     "duration": 0.04055,
     "end_time": "2024-03-28T22:23:44.394806",
     "exception": false,
     "start_time": "2024-03-28T22:23:44.354256",
     "status": "completed"
    },
    "tags": []
   },
   "outputs": [
    {
     "data": {
      "text/html": [
       "<div>\n",
       "<style scoped>\n",
       "    .dataframe tbody tr th:only-of-type {\n",
       "        vertical-align: middle;\n",
       "    }\n",
       "\n",
       "    .dataframe tbody tr th {\n",
       "        vertical-align: top;\n",
       "    }\n",
       "\n",
       "    .dataframe thead th {\n",
       "        text-align: right;\n",
       "    }\n",
       "</style>\n",
       "<table border=\"1\" class=\"dataframe\">\n",
       "  <thead>\n",
       "    <tr style=\"text-align: right;\">\n",
       "      <th></th>\n",
       "      <th>RoomService</th>\n",
       "      <th>FoodCourt</th>\n",
       "      <th>ShoppingMall</th>\n",
       "      <th>Spa</th>\n",
       "      <th>VRDeck</th>\n",
       "    </tr>\n",
       "  </thead>\n",
       "  <tbody>\n",
       "    <tr>\n",
       "      <th>RoomService</th>\n",
       "      <td>1.000000</td>\n",
       "      <td>-0.015889</td>\n",
       "      <td>0.054480</td>\n",
       "      <td>0.010080</td>\n",
       "      <td>-0.019581</td>\n",
       "    </tr>\n",
       "    <tr>\n",
       "      <th>FoodCourt</th>\n",
       "      <td>-0.015889</td>\n",
       "      <td>1.000000</td>\n",
       "      <td>-0.014228</td>\n",
       "      <td>0.221891</td>\n",
       "      <td>0.227995</td>\n",
       "    </tr>\n",
       "    <tr>\n",
       "      <th>ShoppingMall</th>\n",
       "      <td>0.054480</td>\n",
       "      <td>-0.014228</td>\n",
       "      <td>1.000000</td>\n",
       "      <td>0.013879</td>\n",
       "      <td>-0.007322</td>\n",
       "    </tr>\n",
       "    <tr>\n",
       "      <th>Spa</th>\n",
       "      <td>0.010080</td>\n",
       "      <td>0.221891</td>\n",
       "      <td>0.013879</td>\n",
       "      <td>1.000000</td>\n",
       "      <td>0.153821</td>\n",
       "    </tr>\n",
       "    <tr>\n",
       "      <th>VRDeck</th>\n",
       "      <td>-0.019581</td>\n",
       "      <td>0.227995</td>\n",
       "      <td>-0.007322</td>\n",
       "      <td>0.153821</td>\n",
       "      <td>1.000000</td>\n",
       "    </tr>\n",
       "  </tbody>\n",
       "</table>\n",
       "</div>"
      ],
      "text/plain": [
       "              RoomService  FoodCourt  ShoppingMall       Spa    VRDeck\n",
       "RoomService      1.000000  -0.015889      0.054480  0.010080 -0.019581\n",
       "FoodCourt       -0.015889   1.000000     -0.014228  0.221891  0.227995\n",
       "ShoppingMall     0.054480  -0.014228      1.000000  0.013879 -0.007322\n",
       "Spa              0.010080   0.221891      0.013879  1.000000  0.153821\n",
       "VRDeck          -0.019581   0.227995     -0.007322  0.153821  1.000000"
      ]
     },
     "execution_count": 6,
     "metadata": {},
     "output_type": "execute_result"
    }
   ],
   "source": [
    "X_train[rooms].corr()"
   ]
  },
  {
   "cell_type": "markdown",
   "id": "c59e6c87",
   "metadata": {
    "papermill": {
     "duration": 0.081493,
     "end_time": "2024-03-28T22:23:44.497701",
     "exception": false,
     "start_time": "2024-03-28T22:23:44.416208",
     "status": "completed"
    },
    "tags": []
   },
   "source": [
    "No striking correlation. Perhaps if we sum up variables following the same pattern we will have similiar curves? Let's see, out of curiosoty."
   ]
  },
  {
   "cell_type": "code",
   "execution_count": 7,
   "id": "c7523e9e",
   "metadata": {
    "_kg_hide-input": false,
    "_kg_hide-output": false,
    "execution": {
     "iopub.execute_input": "2024-03-28T22:23:44.543204Z",
     "iopub.status.busy": "2024-03-28T22:23:44.542785Z",
     "iopub.status.idle": "2024-03-28T22:23:45.056509Z",
     "shell.execute_reply": "2024-03-28T22:23:45.055341Z"
    },
    "jupyter": {
     "source_hidden": true
    },
    "papermill": {
     "duration": 0.539525,
     "end_time": "2024-03-28T22:23:45.058892",
     "exception": false,
     "start_time": "2024-03-28T22:23:44.519367",
     "status": "completed"
    },
    "tags": []
   },
   "outputs": [
    {
     "data": {
      "image/png": "[encoded data removed]",
      "text/plain": [
       "<Figure size 426.667x240 with 2 Axes>"
      ]
     },
     "metadata": {},
     "output_type": "display_data"
    }
   ],
   "source": [
    "fig = plt.figure(figsize = [6.4*(2/3), 4.8/2])\n",
    "\n",
    "FoodAndMall = ['FoodCourt', 'ShoppingMall']\n",
    "Other = ['Spa','VRDeck', 'RoomService']\n",
    "\n",
    "summed = ['FoodAndMall', 'Other']\n",
    "\n",
    "X_train['FoodAndMall'] = X_train.loc[:,FoodAndMall].sum(axis = 1)\n",
    "X_train['Other'] = X_train.loc[:,Other].sum(axis = 1)\n",
    "\n",
    "for i, room in enumerate(summed):\n",
    "    X_train[room+'_rank'] = X_train[room].rank(method = 'first')\n",
    "    X_train[room+'_cut'] = pd.qcut(X_train[room + '_rank'], q = 10, labels = list(range(10)))\n",
    "    X_train.drop(columns = room +'_rank',inplace=True)\n",
    "    \n",
    "    fig.add_subplot(1,2,i+1)\n",
    "    transport_chances = [len(X_train.loc[(X_train[room+'_cut'] == i) & (X_train['Transported'] == True)])/len(X_train.loc[(X_train[room+'_cut'] == i)]) for i in range(10)]\n",
    "    plt.plot(transport_chances)\n",
    "    plt.title(room)\n",
    "    plt.xlabel('expenditure group')\n",
    "    plt.ylabel('chances of being transported')\n",
    "    \n",
    "    '''for i in range(10):\n",
    "        print(f'transport chance for room {room} bin {i}',len(X_train.loc[(X_train[room+'_cut'] == i) & (X_train['Transported'] == True)])/len(X_train.loc[(X_train[room+'_cut'] == i)]))'''\n",
    "    X_train.drop(columns = room+ '_cut',inplace=True)\n",
    "    \n",
    "fig.tight_layout()"
   ]
  },
  {
   "cell_type": "markdown",
   "id": "08e353c0",
   "metadata": {
    "papermill": {
     "duration": 0.021504,
     "end_time": "2024-03-28T22:23:45.102165",
     "exception": false,
     "start_time": "2024-03-28T22:23:45.080661",
     "status": "completed"
    },
    "tags": []
   },
   "source": [
    "Let's see the distribution of values"
   ]
  },
  {
   "cell_type": "code",
   "execution_count": 8,
   "id": "b183de98",
   "metadata": {
    "execution": {
     "iopub.execute_input": "2024-03-28T22:23:45.148290Z",
     "iopub.status.busy": "2024-03-28T22:23:45.147898Z",
     "iopub.status.idle": "2024-03-28T22:23:47.279479Z",
     "shell.execute_reply": "2024-03-28T22:23:47.278248Z"
    },
    "jupyter": {
     "source_hidden": true
    },
    "papermill": {
     "duration": 2.157186,
     "end_time": "2024-03-28T22:23:47.282025",
     "exception": false,
     "start_time": "2024-03-28T22:23:45.124839",
     "status": "completed"
    },
    "tags": []
   },
   "outputs": [
    {
     "data": {
      "image/png": "[encoded data removed]",
      "text/plain": [
       "<Figure size 640x480 with 5 Axes>"
      ]
     },
     "metadata": {},
     "output_type": "display_data"
    }
   ],
   "source": [
    "fig = plt.figure()\n",
    "\n",
    "for i, room in enumerate(rooms):\n",
    "    expenditure = X_train[[room]].sort_values(by = room).reset_index()\n",
    "    fig.add_subplot(2,3,i+1)\n",
    "    plt.yscale('log')\n",
    "    plt.plot(expenditure.index,expenditure[room])\n"
   ]
  },
  {
   "cell_type": "code",
   "execution_count": 9,
   "id": "9ba52a3b",
   "metadata": {
    "execution": {
     "iopub.execute_input": "2024-03-28T22:23:47.328593Z",
     "iopub.status.busy": "2024-03-28T22:23:47.328223Z",
     "iopub.status.idle": "2024-03-28T22:23:48.085972Z",
     "shell.execute_reply": "2024-03-28T22:23:48.085062Z"
    },
    "papermill": {
     "duration": 0.783542,
     "end_time": "2024-03-28T22:23:48.088084",
     "exception": false,
     "start_time": "2024-03-28T22:23:47.304542",
     "status": "completed"
    },
    "tags": []
   },
   "outputs": [
    {
     "data": {
      "image/png": "[encoded data removed]",
      "text/plain": [
       "<Figure size 640x480 with 5 Axes>"
      ]
     },
     "metadata": {},
     "output_type": "display_data"
    }
   ],
   "source": [
    "fig = plt.figure()\n",
    "\n",
    "for i, room in enumerate(rooms):\n",
    "    expenditure = X_train[[room]].sort_values(by = room).reset_index()\n",
    "    fig.add_subplot(2,3,i+1)\n",
    "    plt.plot(expenditure.index,np.log1p(expenditure[room]))"
   ]
  },
  {
   "cell_type": "markdown",
   "id": "b8fd364b",
   "metadata": {
    "papermill": {
     "duration": 0.023399,
     "end_time": "2024-03-28T22:23:48.134531",
     "exception": false,
     "start_time": "2024-03-28T22:23:48.111132",
     "status": "completed"
    },
    "tags": []
   },
   "source": [
    "From above it is clear that we need to transform these features with **np.log1p** to get more managable input for the model. We will fill NAs with '**mean**', because graphs point to 'mean' being the most neutral value.\n",
    "**Correction**: impute to 0, because in crysleep you don't spend"
   ]
  },
  {
   "cell_type": "markdown",
   "id": "e4510a0e",
   "metadata": {
    "papermill": {
     "duration": 0.024623,
     "end_time": "2024-03-28T22:23:48.182223",
     "exception": false,
     "start_time": "2024-03-28T22:23:48.157600",
     "status": "completed"
    },
    "tags": []
   },
   "source": [
    "Let's look at '**Destination**'"
   ]
  },
  {
   "cell_type": "code",
   "execution_count": 10,
   "id": "12fa4cf4",
   "metadata": {
    "execution": {
     "iopub.execute_input": "2024-03-28T22:23:48.243023Z",
     "iopub.status.busy": "2024-03-28T22:23:48.242653Z",
     "iopub.status.idle": "2024-03-28T22:23:48.250315Z",
     "shell.execute_reply": "2024-03-28T22:23:48.249484Z"
    },
    "papermill": {
     "duration": 0.040511,
     "end_time": "2024-03-28T22:23:48.252668",
     "exception": false,
     "start_time": "2024-03-28T22:23:48.212157",
     "status": "completed"
    },
    "tags": []
   },
   "outputs": [
    {
     "data": {
      "text/plain": [
       "array(['TRAPPIST-1e', 'PSO J318.5-22', '55 Cancri e', nan], dtype=object)"
      ]
     },
     "execution_count": 10,
     "metadata": {},
     "output_type": "execute_result"
    }
   ],
   "source": [
    "X_train.Destination.unique()"
   ]
  },
  {
   "cell_type": "code",
   "execution_count": 11,
   "id": "e26c8d21",
   "metadata": {
    "execution": {
     "iopub.execute_input": "2024-03-28T22:23:48.308794Z",
     "iopub.status.busy": "2024-03-28T22:23:48.308362Z",
     "iopub.status.idle": "2024-03-28T22:23:48.330354Z",
     "shell.execute_reply": "2024-03-28T22:23:48.328901Z"
    },
    "papermill": {
     "duration": 0.048394,
     "end_time": "2024-03-28T22:23:48.332507",
     "exception": false,
     "start_time": "2024-03-28T22:23:48.284113",
     "status": "completed"
    },
    "tags": []
   },
   "outputs": [
    {
     "name": "stdout",
     "output_type": "stream",
     "text": [
      "0.47117497886728654\n",
      "0.5037688442211056\n",
      "0.61\n",
      "0.5036236051995858\n"
     ]
    }
   ],
   "source": [
    "dests = ['TRAPPIST-1e', 'PSO J318.5-22', '55 Cancri e']\n",
    "\n",
    "for dest in dests:\n",
    "    print(len(X_train.loc[(X_train.Destination == dest) & X_train.Transported == True])/len(X_train.loc[X_train.Destination == dest]))\n",
    "    \n",
    "print(len(X_train[X_train.Transported == True])/len(X_train))"
   ]
  },
  {
   "cell_type": "markdown",
   "id": "22436c7d",
   "metadata": {
    "papermill": {
     "duration": 0.022603,
     "end_time": "2024-03-28T22:23:48.378193",
     "exception": false,
     "start_time": "2024-03-28T22:23:48.355590",
     "status": "completed"
    },
    "tags": []
   },
   "source": [
    "**'PSO J318.5-22'** gives 50% chance of being Transported, same as overall chance of being Transported, so let's fill NAs with this."
   ]
  },
  {
   "cell_type": "markdown",
   "id": "8a036e8f",
   "metadata": {
    "papermill": {
     "duration": 0.022634,
     "end_time": "2024-03-28T22:23:48.423861",
     "exception": false,
     "start_time": "2024-03-28T22:23:48.401227",
     "status": "completed"
    },
    "tags": []
   },
   "source": [
    "Now consider the VIP status in similar fashion"
   ]
  },
  {
   "cell_type": "code",
   "execution_count": 12,
   "id": "cfdb2c30",
   "metadata": {
    "execution": {
     "iopub.execute_input": "2024-03-28T22:23:48.472238Z",
     "iopub.status.busy": "2024-03-28T22:23:48.471439Z",
     "iopub.status.idle": "2024-03-28T22:23:48.487940Z",
     "shell.execute_reply": "2024-03-28T22:23:48.486881Z"
    },
    "papermill": {
     "duration": 0.042966,
     "end_time": "2024-03-28T22:23:48.490211",
     "exception": false,
     "start_time": "2024-03-28T22:23:48.447245",
     "status": "completed"
    },
    "tags": []
   },
   "outputs": [
    {
     "name": "stdout",
     "output_type": "stream",
     "text": [
      "0.38190954773869346\n",
      "0.5063321674104451\n",
      "0.5036236051995858\n"
     ]
    }
   ],
   "source": [
    "for status in [True,False]:\n",
    "    print(len(X_train.loc[(X_train.VIP == status) & X_train.Transported == True])/len(X_train.loc[X_train.VIP == status]))\n",
    "    \n",
    "print(len(X_train[X_train.Transported == True])/len(X_train))"
   ]
  },
  {
   "cell_type": "markdown",
   "id": "7e052e3e",
   "metadata": {
    "papermill": {
     "duration": 0.023346,
     "end_time": "2024-03-28T22:23:48.536879",
     "exception": false,
     "start_time": "2024-03-28T22:23:48.513533",
     "status": "completed"
    },
    "tags": []
   },
   "source": [
    "Apparently VIPs are on average too important to be transported from our spaceship, but Non-VIP status does not affect the chance. We will fill NAs from **VIP with False**"
   ]
  },
  {
   "cell_type": "markdown",
   "id": "3c4ce808",
   "metadata": {
    "papermill": {
     "duration": 0.022936,
     "end_time": "2024-03-28T22:23:48.583161",
     "exception": false,
     "start_time": "2024-03-28T22:23:48.560225",
     "status": "completed"
    },
    "tags": []
   },
   "source": [
    "Let us consider 'Age'. Perhaps it will be a good idea to split it into some buckets."
   ]
  },
  {
   "cell_type": "code",
   "execution_count": 13,
   "id": "b05c2b7e",
   "metadata": {
    "execution": {
     "iopub.execute_input": "2024-03-28T22:23:48.631371Z",
     "iopub.status.busy": "2024-03-28T22:23:48.630948Z",
     "iopub.status.idle": "2024-03-28T22:23:48.638867Z",
     "shell.execute_reply": "2024-03-28T22:23:48.637508Z"
    },
    "papermill": {
     "duration": 0.034258,
     "end_time": "2024-03-28T22:23:48.640864",
     "exception": false,
     "start_time": "2024-03-28T22:23:48.606606",
     "status": "completed"
    },
    "tags": []
   },
   "outputs": [
    {
     "name": "stdout",
     "output_type": "stream",
     "text": [
      "0.0 79.0\n"
     ]
    }
   ],
   "source": [
    "print(min(X_train.Age),max(X_train.Age))"
   ]
  },
  {
   "cell_type": "code",
   "execution_count": 14,
   "id": "44887538",
   "metadata": {
    "execution": {
     "iopub.execute_input": "2024-03-28T22:23:48.697812Z",
     "iopub.status.busy": "2024-03-28T22:23:48.697413Z",
     "iopub.status.idle": "2024-03-28T22:23:48.712624Z",
     "shell.execute_reply": "2024-03-28T22:23:48.711454Z"
    },
    "papermill": {
     "duration": 0.048406,
     "end_time": "2024-03-28T22:23:48.715398",
     "exception": false,
     "start_time": "2024-03-28T22:23:48.666992",
     "status": "completed"
    },
    "tags": []
   },
   "outputs": [
    {
     "name": "stdout",
     "output_type": "stream",
     "text": [
      "0 0.7682403433476395\n",
      "1 0.5699721964782206\n",
      "2 0.47567800258286697\n"
     ]
    }
   ],
   "source": [
    "age_buckets = [0,5,18,80]\n",
    "\n",
    "for i in range(len(age_buckets) - 1):\n",
    "    gr = X_train[X_train.Age.between(age_buckets[i],age_buckets[i+1],inclusive = 'left')]\n",
    "    print(i, len(gr[gr.Transported == True])/len(gr))\n",
    "    "
   ]
  },
  {
   "cell_type": "markdown",
   "id": "1509aa06",
   "metadata": {
    "papermill": {
     "duration": 0.024894,
     "end_time": "2024-03-28T22:23:48.772613",
     "exception": false,
     "start_time": "2024-03-28T22:23:48.747719",
     "status": "completed"
    },
    "tags": []
   },
   "source": [
    "Looking at Transport chance by **age** we can roughly identify 3 groups: <5, 5-17, 18>= (**[0,5,18,80]**) and we will bucket Age into them. **Mean** age seems to be good value to fill NAs."
   ]
  },
  {
   "cell_type": "markdown",
   "id": "05ae80d5",
   "metadata": {
    "papermill": {
     "duration": 0.023799,
     "end_time": "2024-03-28T22:23:48.821339",
     "exception": false,
     "start_time": "2024-03-28T22:23:48.797540",
     "status": "completed"
    },
    "tags": []
   },
   "source": [
    "Let's look at 'CryoSleep'"
   ]
  },
  {
   "cell_type": "code",
   "execution_count": 15,
   "id": "148b9429",
   "metadata": {
    "execution": {
     "iopub.execute_input": "2024-03-28T22:23:48.871579Z",
     "iopub.status.busy": "2024-03-28T22:23:48.871033Z",
     "iopub.status.idle": "2024-03-28T22:23:48.889055Z",
     "shell.execute_reply": "2024-03-28T22:23:48.887609Z"
    },
    "papermill": {
     "duration": 0.045692,
     "end_time": "2024-03-28T22:23:48.891280",
     "exception": false,
     "start_time": "2024-03-28T22:23:48.845588",
     "status": "completed"
    },
    "tags": []
   },
   "outputs": [
    {
     "name": "stdout",
     "output_type": "stream",
     "text": [
      "0.8175831412578202\n",
      "0.3289207574921861\n",
      "0.5036236051995858\n"
     ]
    }
   ],
   "source": [
    "for status in [True,False]:\n",
    "    print(len(X_train.loc[(X_train.CryoSleep == status) & X_train.Transported == True])/len(X_train.loc[X_train.CryoSleep == status]))\n",
    "    \n",
    "print(len(X_train[X_train.Transported == True])/len(X_train))"
   ]
  },
  {
   "cell_type": "markdown",
   "id": "392d7fd5",
   "metadata": {
    "papermill": {
     "duration": 0.023507,
     "end_time": "2024-03-28T22:23:48.938941",
     "exception": false,
     "start_time": "2024-03-28T22:23:48.915434",
     "status": "completed"
    },
    "tags": []
   },
   "source": [
    "Cryosleep has massive impact on the chance of being Transported. We should either drop rows with NAs or **encode them with zeroes******. Let's do the latter, because test data can also have this column missing."
   ]
  },
  {
   "cell_type": "markdown",
   "id": "2d02eba9",
   "metadata": {
    "papermill": {
     "duration": 0.024492,
     "end_time": "2024-03-28T22:23:48.987432",
     "exception": false,
     "start_time": "2024-03-28T22:23:48.962940",
     "status": "completed"
    },
    "tags": []
   },
   "source": [
    "Let's finally consider 'HomePlanet'"
   ]
  },
  {
   "cell_type": "code",
   "execution_count": 16,
   "id": "6146ccdf",
   "metadata": {
    "execution": {
     "iopub.execute_input": "2024-03-28T22:23:49.036641Z",
     "iopub.status.busy": "2024-03-28T22:23:49.036255Z",
     "iopub.status.idle": "2024-03-28T22:23:49.043636Z",
     "shell.execute_reply": "2024-03-28T22:23:49.042489Z"
    },
    "papermill": {
     "duration": 0.034493,
     "end_time": "2024-03-28T22:23:49.045875",
     "exception": false,
     "start_time": "2024-03-28T22:23:49.011382",
     "status": "completed"
    },
    "tags": []
   },
   "outputs": [
    {
     "data": {
      "text/plain": [
       "array(['Europa', 'Earth', 'Mars', nan], dtype=object)"
      ]
     },
     "execution_count": 16,
     "metadata": {},
     "output_type": "execute_result"
    }
   ],
   "source": [
    "X_train.HomePlanet.unique()"
   ]
  },
  {
   "cell_type": "code",
   "execution_count": 17,
   "id": "7aa9a9f7",
   "metadata": {
    "execution": {
     "iopub.execute_input": "2024-03-28T22:23:49.094619Z",
     "iopub.status.busy": "2024-03-28T22:23:49.094262Z",
     "iopub.status.idle": "2024-03-28T22:23:49.114560Z",
     "shell.execute_reply": "2024-03-28T22:23:49.113334Z"
    },
    "papermill": {
     "duration": 0.047759,
     "end_time": "2024-03-28T22:23:49.116952",
     "exception": false,
     "start_time": "2024-03-28T22:23:49.069193",
     "status": "completed"
    },
    "tags": []
   },
   "outputs": [
    {
     "name": "stdout",
     "output_type": "stream",
     "text": [
      "0.65884561238855\n",
      "0.42394611038678837\n",
      "0.5230244457077885\n",
      "0.5036236051995858\n"
     ]
    }
   ],
   "source": [
    "homes = ['Europa', 'Earth', 'Mars']\n",
    "\n",
    "for home in homes:\n",
    "    print(len(X_train.loc[(X_train.HomePlanet == home) & X_train.Transported == True])/len(X_train.loc[X_train.HomePlanet == home]))\n",
    "    \n",
    "print(len(X_train[X_train.Transported == True])/len(X_train))"
   ]
  },
  {
   "cell_type": "markdown",
   "id": "d1a7bb1d",
   "metadata": {
    "papermill": {
     "duration": 0.023484,
     "end_time": "2024-03-28T22:23:49.164263",
     "exception": false,
     "start_time": "2024-03-28T22:23:49.140779",
     "status": "completed"
    },
    "tags": []
   },
   "source": [
    "From the above, we will fill '**HomePlanet**' with '**Mars**'"
   ]
  },
  {
   "cell_type": "markdown",
   "id": "273a51b5",
   "metadata": {
    "papermill": {
     "duration": 0.023656,
     "end_time": "2024-03-28T22:23:49.211449",
     "exception": false,
     "start_time": "2024-03-28T22:23:49.187793",
     "status": "completed"
    },
    "tags": []
   },
   "source": [
    "Columns 'PassengerId' and 'Name' require to be examined together as both give as some information about interrelations between the passengers. From surnames we can infer belonging to the same family. Perhaps when many people have same surname, we can split them into families only by knowing, which are in the same group, extracted from PassengerId?"
   ]
  },
  {
   "cell_type": "code",
   "execution_count": 18,
   "id": "d19ecc6c",
   "metadata": {
    "execution": {
     "iopub.execute_input": "2024-03-28T22:23:49.261046Z",
     "iopub.status.busy": "2024-03-28T22:23:49.260655Z",
     "iopub.status.idle": "2024-03-28T22:23:49.284603Z",
     "shell.execute_reply": "2024-03-28T22:23:49.283789Z"
    },
    "papermill": {
     "duration": 0.051431,
     "end_time": "2024-03-28T22:23:49.286994",
     "exception": false,
     "start_time": "2024-03-28T22:23:49.235563",
     "status": "completed"
    },
    "tags": []
   },
   "outputs": [],
   "source": [
    "X_train['PassengerGroupId'] = X_train['PassengerId'].str[:4]\n",
    "X_train['Surname'] = X_train['Name'].str.extract(pat=r' (\\w+)$')"
   ]
  },
  {
   "cell_type": "code",
   "execution_count": 19,
   "id": "16331ec9",
   "metadata": {
    "execution": {
     "iopub.execute_input": "2024-03-28T22:23:49.336484Z",
     "iopub.status.busy": "2024-03-28T22:23:49.335794Z",
     "iopub.status.idle": "2024-03-28T22:23:49.358065Z",
     "shell.execute_reply": "2024-03-28T22:23:49.357178Z"
    },
    "papermill": {
     "duration": 0.049457,
     "end_time": "2024-03-28T22:23:49.360312",
     "exception": false,
     "start_time": "2024-03-28T22:23:49.310855",
     "status": "completed"
    },
    "tags": []
   },
   "outputs": [
    {
     "data": {
      "text/html": [
       "<div>\n",
       "<style scoped>\n",
       "    .dataframe tbody tr th:only-of-type {\n",
       "        vertical-align: middle;\n",
       "    }\n",
       "\n",
       "    .dataframe tbody tr th {\n",
       "        vertical-align: top;\n",
       "    }\n",
       "\n",
       "    .dataframe thead th {\n",
       "        text-align: right;\n",
       "    }\n",
       "</style>\n",
       "<table border=\"1\" class=\"dataframe\">\n",
       "  <thead>\n",
       "    <tr style=\"text-align: right;\">\n",
       "      <th></th>\n",
       "      <th>PassengerId</th>\n",
       "      <th>HomePlanet</th>\n",
       "      <th>CryoSleep</th>\n",
       "      <th>Cabin</th>\n",
       "      <th>Destination</th>\n",
       "      <th>Age</th>\n",
       "      <th>VIP</th>\n",
       "      <th>RoomService</th>\n",
       "      <th>FoodCourt</th>\n",
       "      <th>ShoppingMall</th>\n",
       "      <th>Spa</th>\n",
       "      <th>VRDeck</th>\n",
       "      <th>Name</th>\n",
       "      <th>Transported</th>\n",
       "      <th>FoodAndMall</th>\n",
       "      <th>Other</th>\n",
       "      <th>PassengerGroupId</th>\n",
       "      <th>Surname</th>\n",
       "    </tr>\n",
       "  </thead>\n",
       "  <tbody>\n",
       "    <tr>\n",
       "      <th>0</th>\n",
       "      <td>0001_01</td>\n",
       "      <td>Europa</td>\n",
       "      <td>False</td>\n",
       "      <td>B/0/P</td>\n",
       "      <td>TRAPPIST-1e</td>\n",
       "      <td>39.0</td>\n",
       "      <td>False</td>\n",
       "      <td>0.0</td>\n",
       "      <td>0.0</td>\n",
       "      <td>0.0</td>\n",
       "      <td>0.0</td>\n",
       "      <td>0.0</td>\n",
       "      <td>Maham Ofracculy</td>\n",
       "      <td>False</td>\n",
       "      <td>0.0</td>\n",
       "      <td>0.0</td>\n",
       "      <td>0001</td>\n",
       "      <td>Ofracculy</td>\n",
       "    </tr>\n",
       "    <tr>\n",
       "      <th>1</th>\n",
       "      <td>0002_01</td>\n",
       "      <td>Earth</td>\n",
       "      <td>False</td>\n",
       "      <td>F/0/S</td>\n",
       "      <td>TRAPPIST-1e</td>\n",
       "      <td>24.0</td>\n",
       "      <td>False</td>\n",
       "      <td>109.0</td>\n",
       "      <td>9.0</td>\n",
       "      <td>25.0</td>\n",
       "      <td>549.0</td>\n",
       "      <td>44.0</td>\n",
       "      <td>Juanna Vines</td>\n",
       "      <td>True</td>\n",
       "      <td>34.0</td>\n",
       "      <td>702.0</td>\n",
       "      <td>0002</td>\n",
       "      <td>Vines</td>\n",
       "    </tr>\n",
       "    <tr>\n",
       "      <th>2</th>\n",
       "      <td>0003_01</td>\n",
       "      <td>Europa</td>\n",
       "      <td>False</td>\n",
       "      <td>A/0/S</td>\n",
       "      <td>TRAPPIST-1e</td>\n",
       "      <td>58.0</td>\n",
       "      <td>True</td>\n",
       "      <td>43.0</td>\n",
       "      <td>3576.0</td>\n",
       "      <td>0.0</td>\n",
       "      <td>6715.0</td>\n",
       "      <td>49.0</td>\n",
       "      <td>Altark Susent</td>\n",
       "      <td>False</td>\n",
       "      <td>3576.0</td>\n",
       "      <td>6807.0</td>\n",
       "      <td>0003</td>\n",
       "      <td>Susent</td>\n",
       "    </tr>\n",
       "    <tr>\n",
       "      <th>3</th>\n",
       "      <td>0003_02</td>\n",
       "      <td>Europa</td>\n",
       "      <td>False</td>\n",
       "      <td>A/0/S</td>\n",
       "      <td>TRAPPIST-1e</td>\n",
       "      <td>33.0</td>\n",
       "      <td>False</td>\n",
       "      <td>0.0</td>\n",
       "      <td>1283.0</td>\n",
       "      <td>371.0</td>\n",
       "      <td>3329.0</td>\n",
       "      <td>193.0</td>\n",
       "      <td>Solam Susent</td>\n",
       "      <td>False</td>\n",
       "      <td>1654.0</td>\n",
       "      <td>3522.0</td>\n",
       "      <td>0003</td>\n",
       "      <td>Susent</td>\n",
       "    </tr>\n",
       "    <tr>\n",
       "      <th>4</th>\n",
       "      <td>0004_01</td>\n",
       "      <td>Earth</td>\n",
       "      <td>False</td>\n",
       "      <td>F/1/S</td>\n",
       "      <td>TRAPPIST-1e</td>\n",
       "      <td>16.0</td>\n",
       "      <td>False</td>\n",
       "      <td>303.0</td>\n",
       "      <td>70.0</td>\n",
       "      <td>151.0</td>\n",
       "      <td>565.0</td>\n",
       "      <td>2.0</td>\n",
       "      <td>Willy Santantines</td>\n",
       "      <td>True</td>\n",
       "      <td>221.0</td>\n",
       "      <td>870.0</td>\n",
       "      <td>0004</td>\n",
       "      <td>Santantines</td>\n",
       "    </tr>\n",
       "  </tbody>\n",
       "</table>\n",
       "</div>"
      ],
      "text/plain": [
       "  PassengerId HomePlanet CryoSleep  Cabin  Destination   Age    VIP  \\\n",
       "0     0001_01     Europa     False  B/0/P  TRAPPIST-1e  39.0  False   \n",
       "1     0002_01      Earth     False  F/0/S  TRAPPIST-1e  24.0  False   \n",
       "2     0003_01     Europa     False  A/0/S  TRAPPIST-1e  58.0   True   \n",
       "3     0003_02     Europa     False  A/0/S  TRAPPIST-1e  33.0  False   \n",
       "4     0004_01      Earth     False  F/1/S  TRAPPIST-1e  16.0  False   \n",
       "\n",
       "   RoomService  FoodCourt  ShoppingMall     Spa  VRDeck               Name  \\\n",
       "0          0.0        0.0           0.0     0.0     0.0    Maham Ofracculy   \n",
       "1        109.0        9.0          25.0   549.0    44.0       Juanna Vines   \n",
       "2         43.0     3576.0           0.0  6715.0    49.0      Altark Susent   \n",
       "3          0.0     1283.0         371.0  3329.0   193.0       Solam Susent   \n",
       "4        303.0       70.0         151.0   565.0     2.0  Willy Santantines   \n",
       "\n",
       "   Transported  FoodAndMall   Other PassengerGroupId      Surname  \n",
       "0        False          0.0     0.0             0001    Ofracculy  \n",
       "1         True         34.0   702.0             0002        Vines  \n",
       "2        False       3576.0  6807.0             0003       Susent  \n",
       "3        False       1654.0  3522.0             0003       Susent  \n",
       "4         True        221.0   870.0             0004  Santantines  "
      ]
     },
     "execution_count": 19,
     "metadata": {},
     "output_type": "execute_result"
    }
   ],
   "source": [
    "X_train.head(5)"
   ]
  },
  {
   "cell_type": "code",
   "execution_count": 20,
   "id": "cc6df546",
   "metadata": {
    "execution": {
     "iopub.execute_input": "2024-03-28T22:23:49.410762Z",
     "iopub.status.busy": "2024-03-28T22:23:49.410050Z",
     "iopub.status.idle": "2024-03-28T22:23:49.430235Z",
     "shell.execute_reply": "2024-03-28T22:23:49.429431Z"
    },
    "papermill": {
     "duration": 0.048314,
     "end_time": "2024-03-28T22:23:49.432806",
     "exception": false,
     "start_time": "2024-03-28T22:23:49.384492",
     "status": "completed"
    },
    "tags": []
   },
   "outputs": [
    {
     "data": {
      "text/plain": [
       "PassengerId         8693\n",
       "HomePlanet             3\n",
       "CryoSleep              2\n",
       "Cabin               6560\n",
       "Destination            3\n",
       "Age                   80\n",
       "VIP                    2\n",
       "RoomService         1273\n",
       "FoodCourt           1507\n",
       "ShoppingMall        1115\n",
       "Spa                 1327\n",
       "VRDeck              1306\n",
       "Name                8473\n",
       "Transported            2\n",
       "FoodAndMall         1966\n",
       "Other               2332\n",
       "PassengerGroupId    6217\n",
       "Surname             2217\n",
       "dtype: int64"
      ]
     },
     "execution_count": 20,
     "metadata": {},
     "output_type": "execute_result"
    }
   ],
   "source": [
    "X_train.nunique()"
   ]
  },
  {
   "cell_type": "code",
   "execution_count": 21,
   "id": "19960ab7",
   "metadata": {
    "execution": {
     "iopub.execute_input": "2024-03-28T22:23:49.484902Z",
     "iopub.status.busy": "2024-03-28T22:23:49.484465Z",
     "iopub.status.idle": "2024-03-28T22:23:49.495786Z",
     "shell.execute_reply": "2024-03-28T22:23:49.494946Z"
    },
    "papermill": {
     "duration": 0.039498,
     "end_time": "2024-03-28T22:23:49.497792",
     "exception": false,
     "start_time": "2024-03-28T22:23:49.458294",
     "status": "completed"
    },
    "tags": []
   },
   "outputs": [
    {
     "data": {
      "text/plain": [
       "1"
      ]
     },
     "execution_count": 21,
     "metadata": {},
     "output_type": "execute_result"
    }
   ],
   "source": [
    "val_c = X_train['Surname'].value_counts()\n",
    "len(val_c[val_c>16])"
   ]
  },
  {
   "cell_type": "code",
   "execution_count": 22,
   "id": "dea54dd7",
   "metadata": {
    "execution": {
     "iopub.execute_input": "2024-03-28T22:23:49.549449Z",
     "iopub.status.busy": "2024-03-28T22:23:49.548676Z",
     "iopub.status.idle": "2024-03-28T22:23:49.559159Z",
     "shell.execute_reply": "2024-03-28T22:23:49.558379Z"
    },
    "papermill": {
     "duration": 0.038346,
     "end_time": "2024-03-28T22:23:49.561334",
     "exception": false,
     "start_time": "2024-03-28T22:23:49.522988",
     "status": "completed"
    },
    "tags": []
   },
   "outputs": [
    {
     "data": {
      "text/plain": [
       "75"
      ]
     },
     "execution_count": 22,
     "metadata": {},
     "output_type": "execute_result"
    }
   ],
   "source": [
    "val_c2 = X_train['PassengerGroupId'].value_counts()\n",
    "len(val_c2[val_c2>5])"
   ]
  },
  {
   "cell_type": "code",
   "execution_count": 23,
   "id": "39545de5",
   "metadata": {
    "execution": {
     "iopub.execute_input": "2024-03-28T22:23:49.613356Z",
     "iopub.status.busy": "2024-03-28T22:23:49.612704Z",
     "iopub.status.idle": "2024-03-28T22:23:50.937754Z",
     "shell.execute_reply": "2024-03-28T22:23:50.936573Z"
    },
    "papermill": {
     "duration": 1.353822,
     "end_time": "2024-03-28T22:23:50.940263",
     "exception": false,
     "start_time": "2024-03-28T22:23:49.586441",
     "status": "completed"
    },
    "tags": []
   },
   "outputs": [
    {
     "name": "stderr",
     "output_type": "stream",
     "text": [
      "/tmp/ipykernel_18/1759128008.py:2: SettingWithCopyWarning: \n",
      "A value is trying to be set on a copy of a slice from a DataFrame.\n",
      "Try using .loc[row_indexer,col_indexer] = value instead\n",
      "\n",
      "See the caveats in the documentation: https://pandas.pydata.org/pandas-docs/stable/user_guide/indexing.html#returning-a-view-versus-a-copy\n",
      "  surname_groups['Size'] = surname_groups.groupby(by=['Surname']).transform(lambda x: len(x))\n"
     ]
    },
    {
     "name": "stdout",
     "output_type": "stream",
     "text": [
      "[0.49375]\n",
      "[0.53436426]\n",
      "[0.50390625]\n",
      "[0.509375]\n",
      "[0.49903661]\n",
      "[0.48139256]\n",
      "[0.45404412]\n",
      "[0.48253968]\n",
      "[0.51]\n",
      "[0.50545455]\n",
      "[0.42857143]\n",
      "[0.46153846]\n",
      "[0.48214286]\n",
      "[0.6]\n",
      "[0.375]\n",
      "[nan]\n",
      "[0.38888889]\n"
     ]
    }
   ],
   "source": [
    "surname_groups = X_train[['Surname','Transported']]\n",
    "surname_groups['Size'] = surname_groups.groupby(by=['Surname']).transform(lambda x: len(x))\n",
    "\n",
    "for i in range(2,19):\n",
    "    bigger_surname_groups = surname_groups[surname_groups['Size'] == i]\n",
    "    print(bigger_surname_groups.groupby(by=['Surname']).agg(res = ('Transported',lambda x: sum(x == True)/len(x))).mean().values)\n"
   ]
  },
  {
   "cell_type": "markdown",
   "id": "1f5b4c9d",
   "metadata": {
    "papermill": {
     "duration": 0.024577,
     "end_time": "2024-03-28T22:23:50.989752",
     "exception": false,
     "start_time": "2024-03-28T22:23:50.965175",
     "status": "completed"
    },
    "tags": []
   },
   "source": [
    "It would appear that same Surname people aren't targeted..."
   ]
  },
  {
   "cell_type": "code",
   "execution_count": 24,
   "id": "22f09397",
   "metadata": {
    "execution": {
     "iopub.execute_input": "2024-03-28T22:23:51.041117Z",
     "iopub.status.busy": "2024-03-28T22:23:51.040684Z",
     "iopub.status.idle": "2024-03-28T22:23:54.256018Z",
     "shell.execute_reply": "2024-03-28T22:23:54.254869Z"
    },
    "papermill": {
     "duration": 3.243764,
     "end_time": "2024-03-28T22:23:54.258548",
     "exception": false,
     "start_time": "2024-03-28T22:23:51.014784",
     "status": "completed"
    },
    "tags": []
   },
   "outputs": [
    {
     "name": "stderr",
     "output_type": "stream",
     "text": [
      "/tmp/ipykernel_18/1948108172.py:2: SettingWithCopyWarning: \n",
      "A value is trying to be set on a copy of a slice from a DataFrame.\n",
      "Try using .loc[row_indexer,col_indexer] = value instead\n",
      "\n",
      "See the caveats in the documentation: https://pandas.pydata.org/pandas-docs/stable/user_guide/indexing.html#returning-a-view-versus-a-copy\n",
      "  pass_groups['Size'] = pass_groups.groupby(by=['PassengerGroupId']).transform(lambda x: len(x))\n"
     ]
    },
    {
     "name": "stdout",
     "output_type": "stream",
     "text": [
      "[0.45244537]\n",
      "[0.53804994]\n",
      "[0.59313725]\n",
      "[0.6407767]\n",
      "[0.59245283]\n",
      "[0.61494253]\n",
      "[0.54112554]\n",
      "[0.39423077]\n",
      "[nan]\n"
     ]
    }
   ],
   "source": [
    "pass_groups = X_train[['PassengerGroupId','Transported']]\n",
    "pass_groups['Size'] = pass_groups.groupby(by=['PassengerGroupId']).transform(lambda x: len(x))\n",
    "\n",
    "for i in range(1,10):\n",
    "    selected_pass_groups = pass_groups[pass_groups['Size'] == i]\n",
    "    print(selected_pass_groups.groupby(by=['PassengerGroupId']).agg(res = ('Transported',lambda x: sum(x == True)/len(x))).mean().values)"
   ]
  },
  {
   "cell_type": "markdown",
   "id": "44b89526",
   "metadata": {
    "papermill": {
     "duration": 0.024532,
     "end_time": "2024-03-28T22:23:54.307690",
     "exception": false,
     "start_time": "2024-03-28T22:23:54.283158",
     "status": "completed"
    },
    "tags": []
   },
   "source": [
    "Bigger groups (3-6) do seem to have bigger chance of Transportation"
   ]
  },
  {
   "cell_type": "markdown",
   "id": "38d754a7",
   "metadata": {
    "papermill": {
     "duration": 0.024828,
     "end_time": "2024-03-28T22:23:54.357122",
     "exception": false,
     "start_time": "2024-03-28T22:23:54.332294",
     "status": "completed"
    },
    "tags": []
   },
   "source": [
    "Now, let's consider family members in groups"
   ]
  },
  {
   "cell_type": "code",
   "execution_count": 25,
   "id": "87daf2bd",
   "metadata": {
    "execution": {
     "iopub.execute_input": "2024-03-28T22:23:54.408112Z",
     "iopub.status.busy": "2024-03-28T22:23:54.407689Z",
     "iopub.status.idle": "2024-03-28T22:23:57.786051Z",
     "shell.execute_reply": "2024-03-28T22:23:57.784437Z"
    },
    "papermill": {
     "duration": 3.406861,
     "end_time": "2024-03-28T22:23:57.788739",
     "exception": false,
     "start_time": "2024-03-28T22:23:54.381878",
     "status": "completed"
    },
    "tags": []
   },
   "outputs": [
    {
     "name": "stderr",
     "output_type": "stream",
     "text": [
      "/tmp/ipykernel_18/83698122.py:2: SettingWithCopyWarning: \n",
      "A value is trying to be set on a copy of a slice from a DataFrame.\n",
      "Try using .loc[row_indexer,col_indexer] = value instead\n",
      "\n",
      "See the caveats in the documentation: https://pandas.pydata.org/pandas-docs/stable/user_guide/indexing.html#returning-a-view-versus-a-copy\n",
      "  groups['Size'] = groups.groupby(by=['Surname','PassengerGroupId']).transform(lambda x: len(x))\n"
     ]
    },
    {
     "name": "stdout",
     "output_type": "stream",
     "text": [
      "       Surname PassengerGroupId  Transported  Size\n",
      "2       Susent             0003        False   2.0\n",
      "3       Susent             0003        False   2.0\n",
      "6  Jacostaffey             0006         True   2.0\n",
      "7  Jacostaffey             0006         True   2.0\n",
      "9       Flatic             0008         True   3.0\n",
      "[0.45245692]\n",
      "[0.53837597]\n",
      "[0.60119048]\n",
      "[0.62183908]\n",
      "[0.60654762]\n",
      "[0.60333333]\n",
      "[0.56857143]\n",
      "[0.36152211]\n",
      "[nan]\n"
     ]
    }
   ],
   "source": [
    "groups = X_train[['Surname','PassengerGroupId','Transported']]\n",
    "groups['Size'] = groups.groupby(by=['Surname','PassengerGroupId']).transform(lambda x: len(x))\n",
    "\n",
    "print(groups[groups.Size>1].head(5))\n",
    "\n",
    "for i in range(1,10):\n",
    "    selected_groups = groups[pass_groups['Size'] == i]\n",
    "    print(selected_groups.groupby(by=['Surname','PassengerGroupId']).agg(res = ('Transported',lambda x: sum(x == True)/len(x))).mean().values)"
   ]
  },
  {
   "cell_type": "markdown",
   "id": "3c1cdba2",
   "metadata": {
    "papermill": {
     "duration": 0.032907,
     "end_time": "2024-03-28T22:23:57.851214",
     "exception": false,
     "start_time": "2024-03-28T22:23:57.818307",
     "status": "completed"
    },
    "tags": []
   },
   "source": [
    "From the above it appears that 'number of people with same surname sharing the same group' is the important feature.  We can guess that people with the same surname in the same group are family members and apparently there is a bigger chance of multiple getting transported. For this reason we need to create a **feature encoding number of family members on board**. We could perhaps try to create bins like 'between 2 and 5 family members', but let's stay with just a number.\n",
    "Let's **fill NAs with '2'** as this number is closest to average."
   ]
  },
  {
   "cell_type": "markdown",
   "id": "097be7d9",
   "metadata": {
    "papermill": {
     "duration": 0.025025,
     "end_time": "2024-03-28T22:23:57.907256",
     "exception": false,
     "start_time": "2024-03-28T22:23:57.882231",
     "status": "completed"
    },
    "tags": []
   },
   "source": [
    "The last feature to analyze is 'Cabin' and this one will also require feature extraction."
   ]
  },
  {
   "cell_type": "code",
   "execution_count": 26,
   "id": "8523c277",
   "metadata": {
    "execution": {
     "iopub.execute_input": "2024-03-28T22:23:57.959107Z",
     "iopub.status.busy": "2024-03-28T22:23:57.958719Z",
     "iopub.status.idle": "2024-03-28T22:23:57.979305Z",
     "shell.execute_reply": "2024-03-28T22:23:57.978557Z"
    },
    "papermill": {
     "duration": 0.049028,
     "end_time": "2024-03-28T22:23:57.981452",
     "exception": false,
     "start_time": "2024-03-28T22:23:57.932424",
     "status": "completed"
    },
    "tags": []
   },
   "outputs": [
    {
     "data": {
      "text/plain": [
       "array(['B', 'F', 'A', 'G', nan, 'E', 'D', 'C', 'T'], dtype=object)"
      ]
     },
     "execution_count": 26,
     "metadata": {},
     "output_type": "execute_result"
    }
   ],
   "source": [
    "decks = X_train['Cabin'].str.extract(pat='^(.+?)/')\n",
    "X_train['Deck'] = decks\n",
    "decks.iloc[:,0].unique()"
   ]
  },
  {
   "cell_type": "code",
   "execution_count": 27,
   "id": "c48242b8",
   "metadata": {
    "execution": {
     "iopub.execute_input": "2024-03-28T22:23:58.035272Z",
     "iopub.status.busy": "2024-03-28T22:23:58.034244Z",
     "iopub.status.idle": "2024-03-28T22:23:58.057031Z",
     "shell.execute_reply": "2024-03-28T22:23:58.056171Z"
    },
    "papermill": {
     "duration": 0.051657,
     "end_time": "2024-03-28T22:23:58.059145",
     "exception": false,
     "start_time": "2024-03-28T22:23:58.007488",
     "status": "completed"
    },
    "tags": []
   },
   "outputs": [
    {
     "data": {
      "text/plain": [
       "array([0.000e+00, 1.000e+00, 2.000e+00, ..., 1.892e+03, 1.893e+03,\n",
       "       1.894e+03])"
      ]
     },
     "execution_count": 27,
     "metadata": {},
     "output_type": "execute_result"
    }
   ],
   "source": [
    "nums = X_train['Cabin'].str.extract(pat='^[^/]*?/(.+?)/').astype('float64')\n",
    "X_train['CabinNumber'] = nums\n",
    "nums.iloc[:,0].unique()"
   ]
  },
  {
   "cell_type": "code",
   "execution_count": 28,
   "id": "89bc224f",
   "metadata": {
    "execution": {
     "iopub.execute_input": "2024-03-28T22:23:58.111968Z",
     "iopub.status.busy": "2024-03-28T22:23:58.110746Z",
     "iopub.status.idle": "2024-03-28T22:23:58.132188Z",
     "shell.execute_reply": "2024-03-28T22:23:58.131147Z"
    },
    "papermill": {
     "duration": 0.050102,
     "end_time": "2024-03-28T22:23:58.134581",
     "exception": false,
     "start_time": "2024-03-28T22:23:58.084479",
     "status": "completed"
    },
    "tags": []
   },
   "outputs": [
    {
     "data": {
      "text/plain": [
       "array(['P', 'S', nan], dtype=object)"
      ]
     },
     "execution_count": 28,
     "metadata": {},
     "output_type": "execute_result"
    }
   ],
   "source": [
    "sides = X_train['Cabin'].str.extract(pat='/([^/]*)$')\n",
    "X_train['ShipSide'] = sides\n",
    "sides.iloc[:,0].unique()"
   ]
  },
  {
   "cell_type": "code",
   "execution_count": 29,
   "id": "1d7ea389",
   "metadata": {
    "execution": {
     "iopub.execute_input": "2024-03-28T22:23:58.188054Z",
     "iopub.status.busy": "2024-03-28T22:23:58.187623Z",
     "iopub.status.idle": "2024-03-28T22:23:58.192522Z",
     "shell.execute_reply": "2024-03-28T22:23:58.191470Z"
    },
    "papermill": {
     "duration": 0.033603,
     "end_time": "2024-03-28T22:23:58.194782",
     "exception": false,
     "start_time": "2024-03-28T22:23:58.161179",
     "status": "completed"
    },
    "tags": []
   },
   "outputs": [],
   "source": [
    "decks = ['B', 'F', 'A', 'G', 'E', 'D', 'C', 'T']\n",
    "side = ['P', 'S']"
   ]
  },
  {
   "cell_type": "code",
   "execution_count": 30,
   "id": "9d6e13e2",
   "metadata": {
    "execution": {
     "iopub.execute_input": "2024-03-28T22:23:58.247490Z",
     "iopub.status.busy": "2024-03-28T22:23:58.246718Z",
     "iopub.status.idle": "2024-03-28T22:23:58.269378Z",
     "shell.execute_reply": "2024-03-28T22:23:58.268271Z"
    },
    "papermill": {
     "duration": 0.052038,
     "end_time": "2024-03-28T22:23:58.272139",
     "exception": false,
     "start_time": "2024-03-28T22:23:58.220101",
     "status": "completed"
    },
    "tags": []
   },
   "outputs": [
    {
     "name": "stdout",
     "output_type": "stream",
     "text": [
      "               min_cabin_num  max_cabin_num\n",
      "ShipSide Deck                              \n",
      "P        A               0.0           98.0\n",
      "         B               0.0          301.0\n",
      "         C               0.0          309.0\n",
      "         D               0.0          295.0\n",
      "         E               5.0          597.0\n",
      "         F               0.0         1894.0\n",
      "         G               0.0         1508.0\n",
      "         T               0.0            3.0\n",
      "S        A               0.0          107.0\n",
      "         B               1.0          353.0\n",
      "         C               2.0          342.0\n",
      "         D               1.0          276.0\n",
      "         E               0.0          608.0\n",
      "         F               0.0         1793.0\n",
      "         G               0.0         1500.0\n",
      "         T               2.0            2.0\n"
     ]
    },
    {
     "name": "stderr",
     "output_type": "stream",
     "text": [
      "/tmp/ipykernel_18/3791180699.py:2: FutureWarning: The provided callable <built-in function min> is currently using SeriesGroupBy.min. In a future version of pandas, the provided callable will be used directly. To keep current behavior pass the string \"min\" instead.\n",
      "  print(grouped.agg(min_cabin_num = ('CabinNumber', min),max_cabin_num = ('CabinNumber', max)))\n",
      "/tmp/ipykernel_18/3791180699.py:2: FutureWarning: The provided callable <built-in function max> is currently using SeriesGroupBy.max. In a future version of pandas, the provided callable will be used directly. To keep current behavior pass the string \"max\" instead.\n",
      "  print(grouped.agg(min_cabin_num = ('CabinNumber', min),max_cabin_num = ('CabinNumber', max)))\n"
     ]
    }
   ],
   "source": [
    "grouped = X_train.groupby(by=['ShipSide','Deck'])\n",
    "print(grouped.agg(min_cabin_num = ('CabinNumber', min),max_cabin_num = ('CabinNumber', max)))\n"
   ]
  },
  {
   "cell_type": "markdown",
   "id": "04c343f3",
   "metadata": {
    "papermill": {
     "duration": 0.024956,
     "end_time": "2024-03-28T22:23:58.322696",
     "exception": false,
     "start_time": "2024-03-28T22:23:58.297740",
     "status": "completed"
    },
    "tags": []
   },
   "source": [
    "Decks 'F' and 'G' are much bigger then others. Let's bin them by hundreds. Standard decks are perhaps to small to subdivide them further. Deck T is extremely small, too small to use it for prediction. We should refrain from encoding it."
   ]
  },
  {
   "cell_type": "code",
   "execution_count": 31,
   "id": "ff008b33",
   "metadata": {
    "execution": {
     "iopub.execute_input": "2024-03-28T22:23:58.375275Z",
     "iopub.status.busy": "2024-03-28T22:23:58.374875Z",
     "iopub.status.idle": "2024-03-28T22:23:58.712892Z",
     "shell.execute_reply": "2024-03-28T22:23:58.711733Z"
    },
    "papermill": {
     "duration": 0.367251,
     "end_time": "2024-03-28T22:23:58.715340",
     "exception": false,
     "start_time": "2024-03-28T22:23:58.348089",
     "status": "completed"
    },
    "tags": []
   },
   "outputs": [
    {
     "name": "stdout",
     "output_type": "stream",
     "text": [
      "               chance_is_transported\n",
      "ShipSide Deck                       \n",
      "P        A                  0.435897\n",
      "         B                  0.674221\n",
      "         C                  0.580645\n",
      "         D                  0.403226\n",
      "         E                  0.342657\n",
      "         T                  0.250000\n",
      "S        A                  0.546763\n",
      "         B                  0.784038\n",
      "         C                  0.763547\n",
      "         D                  0.465217\n",
      "         E                  0.371365\n",
      "         T                  0.000000\n"
     ]
    },
    {
     "data": {
      "text/plain": [
       "<Axes: xlabel='Deck'>"
      ]
     },
     "execution_count": 31,
     "metadata": {},
     "output_type": "execute_result"
    },
    {
     "data": {
      "image/png": "[encoded data removed]",
      "text/plain": [
       "<Figure size 640x480 with 1 Axes>"
      ]
     },
     "metadata": {},
     "output_type": "display_data"
    }
   ],
   "source": [
    "small_decks = ['B', 'A', 'E', 'D', 'C','T']\n",
    "big_decks = ['F','G']\n",
    "\n",
    "small_grouped = X_train[X_train['Deck'].isin(small_decks)].groupby(['ShipSide','Deck'])\n",
    "small_grouped = small_grouped.agg(chance_is_transported = ('Transported',lambda x: sum(x)/len(x)))\n",
    "print(small_grouped)\n",
    "small_grouped.unstack(level=0).plot()"
   ]
  },
  {
   "cell_type": "code",
   "execution_count": 32,
   "id": "ffd7a597",
   "metadata": {
    "execution": {
     "iopub.execute_input": "2024-03-28T22:23:58.770806Z",
     "iopub.status.busy": "2024-03-28T22:23:58.770150Z",
     "iopub.status.idle": "2024-03-28T22:23:59.266556Z",
     "shell.execute_reply": "2024-03-28T22:23:59.265226Z"
    },
    "papermill": {
     "duration": 0.5267,
     "end_time": "2024-03-28T22:23:59.269308",
     "exception": false,
     "start_time": "2024-03-28T22:23:58.742608",
     "status": "completed"
    },
    "tags": []
   },
   "outputs": [
    {
     "name": "stderr",
     "output_type": "stream",
     "text": [
      "/tmp/ipykernel_18/2467925667.py:3: SettingWithCopyWarning: \n",
      "A value is trying to be set on a copy of a slice from a DataFrame.\n",
      "Try using .loc[row_indexer,col_indexer] = value instead\n",
      "\n",
      "See the caveats in the documentation: https://pandas.pydata.org/pandas-docs/stable/user_guide/indexing.html#returning-a-view-versus-a-copy\n",
      "  small_decks_df['CabinNumber'] = small_decks_df['CabinNumber'].astype('int64')\n",
      "/tmp/ipykernel_18/2467925667.py:5: SettingWithCopyWarning: \n",
      "A value is trying to be set on a copy of a slice from a DataFrame.\n",
      "Try using .loc[row_indexer,col_indexer] = value instead\n",
      "\n",
      "See the caveats in the documentation: https://pandas.pydata.org/pandas-docs/stable/user_guide/indexing.html#returning-a-view-versus-a-copy\n",
      "  small_decks_df['CabinNumberBinned'] = pd.cut(small_decks_df['CabinNumber'], bins = num_bins, labels = list(range(0,600,100)), include_lowest = True )\n",
      "/tmp/ipykernel_18/2467925667.py:7: FutureWarning: The default of observed=False is deprecated and will be changed to True in a future version of pandas. Pass observed=False to retain current behavior or observed=True to adopt the future default and silence this warning.\n",
      "  small_decks_grouped = small_decks_df.groupby(['ShipSide','Deck','CabinNumberBinned'])\n"
     ]
    },
    {
     "data": {
      "text/plain": [
       "<Axes: xlabel='CabinNumberBinned'>"
      ]
     },
     "execution_count": 32,
     "metadata": {},
     "output_type": "execute_result"
    },
    {
     "data": {
      "image/png": "[encoded data removed]",
      "text/plain": [
       "<Figure size 640x480 with 1 Axes>"
      ]
     },
     "metadata": {},
     "output_type": "display_data"
    }
   ],
   "source": [
    "small_decks_df = X_train[X_train['Deck'].isin(small_decks)]\n",
    "small_decks_df.dropna(subset = 'CabinNumber')\n",
    "small_decks_df['CabinNumber'] = small_decks_df['CabinNumber'].astype('int64')\n",
    "num_bins = [100*i for i in range(7)]\n",
    "small_decks_df['CabinNumberBinned'] = pd.cut(small_decks_df['CabinNumber'], bins = num_bins, labels = list(range(0,600,100)), include_lowest = True )\n",
    "\n",
    "small_decks_grouped = small_decks_df.groupby(['ShipSide','Deck','CabinNumberBinned'])\n",
    "small_decks_grouped = small_decks_grouped.agg(chance_is_transported = ('Transported',lambda x: sum(x)/len(x)))\n",
    "#print(big_decks_grouped)\n",
    "small_decks_grouped.unstack(level=[0,1]).plot()"
   ]
  },
  {
   "cell_type": "markdown",
   "id": "b3ec9526",
   "metadata": {
    "papermill": {
     "duration": 0.027483,
     "end_time": "2024-03-28T22:23:59.324806",
     "exception": false,
     "start_time": "2024-03-28T22:23:59.297323",
     "status": "completed"
    },
    "tags": []
   },
   "source": [
    "Starboard gives bigger chance of getting Transported, Decks have a visible effect too. As for number it doesn't seem to play role."
   ]
  },
  {
   "cell_type": "code",
   "execution_count": 33,
   "id": "d11d5e5d",
   "metadata": {
    "execution": {
     "iopub.execute_input": "2024-03-28T22:23:59.381546Z",
     "iopub.status.busy": "2024-03-28T22:23:59.381174Z",
     "iopub.status.idle": "2024-03-28T22:23:59.755735Z",
     "shell.execute_reply": "2024-03-28T22:23:59.754578Z"
    },
    "papermill": {
     "duration": 0.405548,
     "end_time": "2024-03-28T22:23:59.757947",
     "exception": false,
     "start_time": "2024-03-28T22:23:59.352399",
     "status": "completed"
    },
    "tags": []
   },
   "outputs": [
    {
     "name": "stderr",
     "output_type": "stream",
     "text": [
      "/tmp/ipykernel_18/3052370570.py:3: SettingWithCopyWarning: \n",
      "A value is trying to be set on a copy of a slice from a DataFrame.\n",
      "Try using .loc[row_indexer,col_indexer] = value instead\n",
      "\n",
      "See the caveats in the documentation: https://pandas.pydata.org/pandas-docs/stable/user_guide/indexing.html#returning-a-view-versus-a-copy\n",
      "  big_decks_df['CabinNumber'] = big_decks_df['CabinNumber'].astype('int64')\n",
      "/tmp/ipykernel_18/3052370570.py:5: SettingWithCopyWarning: \n",
      "A value is trying to be set on a copy of a slice from a DataFrame.\n",
      "Try using .loc[row_indexer,col_indexer] = value instead\n",
      "\n",
      "See the caveats in the documentation: https://pandas.pydata.org/pandas-docs/stable/user_guide/indexing.html#returning-a-view-versus-a-copy\n",
      "  big_decks_df['CabinNumberBinned'] = pd.cut(big_decks_df['CabinNumber'], bins = num_bins, labels = list(range(0,1900,100)), include_lowest = True )\n",
      "/tmp/ipykernel_18/3052370570.py:7: FutureWarning: The default of observed=False is deprecated and will be changed to True in a future version of pandas. Pass observed=False to retain current behavior or observed=True to adopt the future default and silence this warning.\n",
      "  big_decks_grouped = big_decks_df.groupby(['ShipSide','Deck','CabinNumberBinned'])\n"
     ]
    },
    {
     "data": {
      "text/plain": [
       "<Axes: xlabel='CabinNumberBinned'>"
      ]
     },
     "execution_count": 33,
     "metadata": {},
     "output_type": "execute_result"
    },
    {
     "data": {
      "image/png": "[encoded data removed]",
      "text/plain": [
       "<Figure size 640x480 with 1 Axes>"
      ]
     },
     "metadata": {},
     "output_type": "display_data"
    }
   ],
   "source": [
    "big_decks_df = X_train[X_train['Deck'].isin(big_decks)]\n",
    "big_decks_df.dropna(subset = 'CabinNumber')\n",
    "big_decks_df['CabinNumber'] = big_decks_df['CabinNumber'].astype('int64')\n",
    "num_bins = [100*i for i in range(20)]\n",
    "big_decks_df['CabinNumberBinned'] = pd.cut(big_decks_df['CabinNumber'], bins = num_bins, labels = list(range(0,1900,100)), include_lowest = True )\n",
    "\n",
    "big_decks_grouped = big_decks_df.groupby(['ShipSide','Deck','CabinNumberBinned'])\n",
    "big_decks_grouped = big_decks_grouped.agg(chance_is_transported = ('Transported',lambda x: sum(x)/len(x)))\n",
    "#print(big_decks_grouped)\n",
    "big_decks_grouped.unstack(level=[0,1]).plot()\n"
   ]
  },
  {
   "cell_type": "markdown",
   "id": "3ecd52f7",
   "metadata": {
    "papermill": {
     "duration": 0.030617,
     "end_time": "2024-03-28T22:23:59.817866",
     "exception": false,
     "start_time": "2024-03-28T22:23:59.787249",
     "status": "completed"
    },
    "tags": []
   },
   "source": [
    "Pattern for Port side seems to exhibit no connection with Cabin number. Starboard side on the other hand does seem to. We will **preserve bins for Starboard, but not for Port side.**\n",
    "Imputing **NA's** seems impossible, so we will simply **ignore them**."
   ]
  },
  {
   "cell_type": "markdown",
   "id": "c00c39fe",
   "metadata": {
    "papermill": {
     "duration": 0.02928,
     "end_time": "2024-03-28T22:23:59.876582",
     "exception": false,
     "start_time": "2024-03-28T22:23:59.847302",
     "status": "completed"
    },
    "tags": []
   },
   "source": [
    "Now we have to finally construct the model. First we need to build a Pipeline."
   ]
  },
  {
   "cell_type": "code",
   "execution_count": 34,
   "id": "c2a4ce4f",
   "metadata": {
    "execution": {
     "iopub.execute_input": "2024-03-28T22:23:59.938804Z",
     "iopub.status.busy": "2024-03-28T22:23:59.938416Z",
     "iopub.status.idle": "2024-03-28T22:24:01.980457Z",
     "shell.execute_reply": "2024-03-28T22:24:01.979252Z"
    },
    "papermill": {
     "duration": 2.075646,
     "end_time": "2024-03-28T22:24:01.983028",
     "exception": false,
     "start_time": "2024-03-28T22:23:59.907382",
     "status": "completed"
    },
    "tags": []
   },
   "outputs": [],
   "source": [
    "from sklearn.pipeline import Pipeline\n",
    "from sklearn.compose import ColumnTransformer\n",
    "from sklearn.impute import SimpleImputer\n",
    "from sklearn.preprocessing import OneHotEncoder\n",
    "from sklearn.preprocessing import FunctionTransformer\n",
    "from sklearn.preprocessing import StandardScaler\n",
    "\n",
    "from category_encoders import TargetEncoder\n",
    "\n",
    "from sklearn import set_config\n",
    "set_config(transform_output = \"pandas\")\n"
   ]
  },
  {
   "cell_type": "code",
   "execution_count": 35,
   "id": "ecc5b170",
   "metadata": {
    "execution": {
     "iopub.execute_input": "2024-03-28T22:24:02.043517Z",
     "iopub.status.busy": "2024-03-28T22:24:02.042981Z",
     "iopub.status.idle": "2024-03-28T22:24:02.063206Z",
     "shell.execute_reply": "2024-03-28T22:24:02.061613Z"
    },
    "papermill": {
     "duration": 0.05317,
     "end_time": "2024-03-28T22:24:02.065617",
     "exception": false,
     "start_time": "2024-03-28T22:24:02.012447",
     "status": "completed"
    },
    "tags": []
   },
   "outputs": [
    {
     "name": "stderr",
     "output_type": "stream",
     "text": [
      "/opt/conda/lib/python3.10/site-packages/sklearn/preprocessing/_function_transformer.py:343: UserWarning: With transform=\"pandas\", `func` should return a DataFrame to follow the set_output API.\n",
      "  warnings.warn(\n"
     ]
    }
   ],
   "source": [
    "amenities_imputer = SimpleImputer(strategy = 'constant', fill_value = 0).set_output(transform=\"pandas\")\n",
    "amenities_log1p = FunctionTransformer(np.log1p)\n",
    "amenities_scaler = StandardScaler()\n",
    "\n",
    "destination_imputer = SimpleImputer(strategy = 'constant', fill_value='PSO J318.5-22').set_output(transform=\"pandas\")\n",
    "\n",
    "vip_imputer = SimpleImputer(strategy = 'constant', fill_value=False).set_output(transform=\"pandas\")\n",
    "\n",
    "age_imputer = SimpleImputer(strategy = 'mean').set_output(transform=\"pandas\")\n",
    "\n",
    "def bucketer(df):\n",
    "    df['AgeBinned'] = pd.cut(df['Age'],bins = [0,5,18,80], labels = ['5_or_less', '5-17', '18_or_more'],include_lowest = True)\n",
    "    return df[['AgeBinned']]\n",
    "age_to_buckets = FunctionTransformer(bucketer).set_output(transform=\"pandas\")\n",
    "\n",
    "home_planet_imputer = SimpleImputer(strategy = 'constant', fill_value='Mars').set_output(transform=\"pandas\")\n",
    "\n",
    "family_imputer = SimpleImputer(strategy = 'constant', fill_value='2').set_output(transform=\"pandas\")\n",
    "def family_size(df):\n",
    "    df['PassengerGroupId'] = df['PassengerId'].str[:4]\n",
    "    df['Surname'] =df['Name'].str.extract(pat=r' (\\w+)$')\n",
    "    df = df[['PassengerGroupId','Surname']]\n",
    "    df['placeholder'] = 1\n",
    "    df['Family_Size'] = df.groupby(by=['Surname','PassengerGroupId']).transform(lambda x: len(x))\n",
    "    return df[['Family_Size']]\n",
    "family_size_creator =  FunctionTransformer(family_size).set_output(transform=\"pandas\")\n",
    "\n",
    "def cabin_encoder(df):\n",
    "    small_decks = ['B', 'A', 'E', 'D', 'C']\n",
    "    df['Deck'] = df['Cabin'].str.extract(pat='^(.+?)/')  \n",
    "    df['CabinNumber'] = df['Cabin'].str.extract(pat='^[^/]*?/(.+?)/').astype('float64')\n",
    "    df['ShipSide'] = df['Cabin'].str.extract(pat='/([^/]*)$')\n",
    "    df['Cabin_encoded'] = df['Cabin']\n",
    "    df.loc[df['Deck'].isin(small_decks),'Cabin_encoded'] = df.loc[df['Deck'].isin(small_decks),'Deck'] + df.loc[df['Deck'].isin(small_decks),'ShipSide']\n",
    "    \n",
    "    big_decks = ['F', 'G']\n",
    "    num_bins = [250*i for i in range(8)]\n",
    "    df['CabinBins'] = 0\n",
    "    df.loc[df['Deck'].isin(big_decks),'CabinBins'] = pd.cut(df.loc[df['Deck'].isin(big_decks),'CabinNumber'], bins = num_bins, labels = [str(250*i) for i in range(1,8)], include_lowest=True)\n",
    "    df.loc[df['Deck'].isin(big_decks),'Cabin_encoded'] = df.loc[df['Deck'].isin(big_decks),'Deck'] + df.loc[df['Deck'].isin(big_decks),'ShipSide'] + df.loc[df['Deck'].isin(big_decks),'CabinBins']\n",
    "    \n",
    "    df.loc[(df['Deck'].isin(big_decks)) & (df['ShipSide'] == 'P'),'Cabin_encoded'] = df.loc[(df['Deck'].isin(big_decks)) & (df['ShipSide'] == 'P'),'Deck'] + df.loc[(df['Deck'].isin(big_decks)) & (df['ShipSide'] == 'P'),'ShipSide']\n",
    "    \n",
    "    \n",
    "    df.loc[df['Deck'] == 'T', 'Cabin_encoded'] = np.nan\n",
    "\n",
    "    return df[['Cabin_encoded']]\n",
    "\n",
    "cabin_creator = FunctionTransformer(cabin_encoder).set_output(transform=\"pandas\")"
   ]
  },
  {
   "cell_type": "code",
   "execution_count": 36,
   "id": "70c05158",
   "metadata": {
    "execution": {
     "iopub.execute_input": "2024-03-28T22:24:02.126650Z",
     "iopub.status.busy": "2024-03-28T22:24:02.125656Z",
     "iopub.status.idle": "2024-03-28T22:24:02.134661Z",
     "shell.execute_reply": "2024-03-28T22:24:02.133803Z"
    },
    "papermill": {
     "duration": 0.041978,
     "end_time": "2024-03-28T22:24:02.136892",
     "exception": false,
     "start_time": "2024-03-28T22:24:02.094914",
     "status": "completed"
    },
    "tags": []
   },
   "outputs": [],
   "source": [
    "amenities_tranformer = Pipeline([('amenities_imputer', amenities_imputer),('amenities_log1p', amenities_log1p),('amenities_scaler',amenities_scaler)])\n",
    "destination_transformer = Pipeline([('destination_imputer', destination_imputer),('destination_encoder', OneHotEncoder(sparse=False).set_output(transform=\"pandas\"))])\n",
    "vip_transformer =  Pipeline([('vip_imputer', vip_imputer),('vip_encoder', OneHotEncoder(sparse=False).set_output(transform=\"pandas\"))])\n",
    "age_transformer = Pipeline([('age_imputer', age_imputer),('age_to_buckets', age_to_buckets),('age_encoder', OneHotEncoder(sparse=False).set_output(transform=\"pandas\"))])\n",
    "home_planet_transformer = Pipeline([('home_planet_imputer', home_planet_imputer),('home_planet_encoder', OneHotEncoder(sparse=False).set_output(transform=\"pandas\"))])\n",
    "cryo_transformer = Pipeline([('cryo_encoder',OneHotEncoder(handle_unknown = 'ignore',sparse_output = False))])\n",
    "family_transformer = Pipeline([('family_imputer',family_imputer),('family_size_creator',family_size_creator)])\n",
    "#cabin_transformer = Pipeline([('cabin_creator',cabin_creator),('cabin_encoder',(TargetEncoder().set_output(transform=\"pandas\")))])\n",
    "cabin_transformer = Pipeline([('cabin_creator',cabin_creator),('cabin_encoder',OneHotEncoder(handle_unknown = 'ignore',sparse_output = False))])"
   ]
  },
  {
   "cell_type": "code",
   "execution_count": 37,
   "id": "b1d30c57",
   "metadata": {
    "execution": {
     "iopub.execute_input": "2024-03-28T22:24:02.201635Z",
     "iopub.status.busy": "2024-03-28T22:24:02.200397Z",
     "iopub.status.idle": "2024-03-28T22:24:02.207175Z",
     "shell.execute_reply": "2024-03-28T22:24:02.206249Z"
    },
    "papermill": {
     "duration": 0.040339,
     "end_time": "2024-03-28T22:24:02.209541",
     "exception": false,
     "start_time": "2024-03-28T22:24:02.169202",
     "status": "completed"
    },
    "tags": []
   },
   "outputs": [],
   "source": [
    "rooms = ['RoomService', 'FoodCourt', 'ShoppingMall', 'Spa', 'VRDeck']\n",
    "\n",
    "transforms_composed = ColumnTransformer([('amenities_tranformer',amenities_tranformer,rooms),\n",
    "                                        ('destination_transformer',destination_transformer,['Destination']),\n",
    "                                        ('vip_transformer',vip_transformer,['VIP']),\n",
    "                                        ('age_transformer',age_transformer,['Age']),\n",
    "                                        ('home_planet_transformer',home_planet_transformer,['HomePlanet']),\n",
    "                                        ('cryo_transformer',cryo_transformer,['CryoSleep']),\n",
    "                                        ('family_transformer',family_transformer,['PassengerId','Name']),\n",
    "                                        ('cabin_transformer',cabin_transformer,['Cabin'])])\n"
   ]
  },
  {
   "cell_type": "markdown",
   "id": "42981467",
   "metadata": {
    "papermill": {
     "duration": 0.029267,
     "end_time": "2024-03-28T22:24:02.267891",
     "exception": false,
     "start_time": "2024-03-28T22:24:02.238624",
     "status": "completed"
    },
    "tags": []
   },
   "source": [
    "Now let's optimize our model. We will do it step-wise. First we will set some relatively high learning rate and optimize n_estimators for it."
   ]
  },
  {
   "cell_type": "code",
   "execution_count": 38,
   "id": "8ac01d55",
   "metadata": {
    "execution": {
     "iopub.execute_input": "2024-03-28T22:24:02.328707Z",
     "iopub.status.busy": "2024-03-28T22:24:02.327550Z",
     "iopub.status.idle": "2024-03-28T22:24:02.518682Z",
     "shell.execute_reply": "2024-03-28T22:24:02.517315Z"
    },
    "papermill": {
     "duration": 0.224474,
     "end_time": "2024-03-28T22:24:02.521585",
     "exception": false,
     "start_time": "2024-03-28T22:24:02.297111",
     "status": "completed"
    },
    "tags": []
   },
   "outputs": [],
   "source": [
    "from xgboost import XGBClassifier\n",
    "from sklearn.metrics import accuracy_score\n",
    "from sklearn.model_selection import cross_val_score\n",
    "\n",
    "import warnings\n",
    "warnings.filterwarnings('ignore')\n",
    "\n",
    "y_train = X_train['Transported']"
   ]
  },
  {
   "cell_type": "code",
   "execution_count": 39,
   "id": "588fe4d7",
   "metadata": {
    "execution": {
     "iopub.execute_input": "2024-03-28T22:24:02.582452Z",
     "iopub.status.busy": "2024-03-28T22:24:02.582028Z",
     "iopub.status.idle": "2024-03-28T22:24:02.588246Z",
     "shell.execute_reply": "2024-03-28T22:24:02.587403Z"
    },
    "jupyter": {
     "source_hidden": true
    },
    "papermill": {
     "duration": 0.038904,
     "end_time": "2024-03-28T22:24:02.590224",
     "exception": false,
     "start_time": "2024-03-28T22:24:02.551320",
     "status": "completed"
    },
    "tags": []
   },
   "outputs": [
    {
     "data": {
      "text/plain": [
       "\"n_estimators_t = [500 + 250*i for i in range(5)]\\n\\nfor n_estimators in n_estimators_t:\\n    model = XGBClassifier(n_estimators = n_estimators, learning_rate = 0.05)\\n    my_pipeline = Pipeline([('transformer',transforms_composed),('model', model)])\\n    scores = cross_val_score(my_pipeline,X_train,y_train,cv=5,scoring='accuracy')\\n    print(f'scores for n_estimators = {n_estimators}', scores, f'mean scores: {scores.mean()}')\""
      ]
     },
     "execution_count": 39,
     "metadata": {},
     "output_type": "execute_result"
    }
   ],
   "source": [
    "'''n_estimators_t = [500 + 250*i for i in range(5)]\n",
    "\n",
    "for n_estimators in n_estimators_t:\n",
    "    model = XGBClassifier(n_estimators = n_estimators, learning_rate = 0.05)\n",
    "    my_pipeline = Pipeline([('transformer',transforms_composed),('model', model)])\n",
    "    scores = cross_val_score(my_pipeline,X_train,y_train,cv=5,scoring='accuracy')\n",
    "    print(f'scores for n_estimators = {n_estimators}', scores, f'mean scores: {scores.mean()}')'''\n",
    "    "
   ]
  },
  {
   "cell_type": "markdown",
   "id": "b5dadcc2",
   "metadata": {
    "papermill": {
     "duration": 0.030642,
     "end_time": "2024-03-28T22:24:02.650698",
     "exception": false,
     "start_time": "2024-03-28T22:24:02.620056",
     "status": "completed"
    },
    "tags": []
   },
   "source": [
    "After itterative narrowing down, we find that 85 gives best results and move on to the max_depth and min_child_weight"
   ]
  },
  {
   "cell_type": "code",
   "execution_count": 40,
   "id": "419d47e3",
   "metadata": {
    "execution": {
     "iopub.execute_input": "2024-03-28T22:24:02.712971Z",
     "iopub.status.busy": "2024-03-28T22:24:02.712223Z",
     "iopub.status.idle": "2024-03-28T22:24:02.718120Z",
     "shell.execute_reply": "2024-03-28T22:24:02.717090Z"
    },
    "jupyter": {
     "source_hidden": true
    },
    "papermill": {
     "duration": 0.03938,
     "end_time": "2024-03-28T22:24:02.720186",
     "exception": false,
     "start_time": "2024-03-28T22:24:02.680806",
     "status": "completed"
    },
    "tags": []
   },
   "outputs": [
    {
     "data": {
      "text/plain": [
       "\"max_depths = [4,5,6,7,8]\\nmin_child_weights = [0.5,1,2,3,4]\\n\\nfor max_depth in max_depths:\\n    for min_child_weight in min_child_weights:\\n        model = XGBClassifier(n_estimators = 85, learning_rate = 0.05, max_depth = max_depth, min_child_weight=min_child_weight)\\n        my_pipeline = Pipeline([('transformer',transforms_composed),('model', model)])\\n        scores = cross_val_score(my_pipeline,X_train,y_train,cv=5,scoring='accuracy')\\n        print(f'scores for max_depth = {max_depth} and min_child_weights = {min_child_weight}', scores, f'mean score: {scores.mean()}')\""
      ]
     },
     "execution_count": 40,
     "metadata": {},
     "output_type": "execute_result"
    }
   ],
   "source": [
    "'''max_depths = [4,5,6,7,8]\n",
    "min_child_weights = [0.5,1,2,3,4]\n",
    "\n",
    "for max_depth in max_depths:\n",
    "    for min_child_weight in min_child_weights:\n",
    "        model = XGBClassifier(n_estimators = 85, learning_rate = 0.05, max_depth = max_depth, min_child_weight=min_child_weight)\n",
    "        my_pipeline = Pipeline([('transformer',transforms_composed),('model', model)])\n",
    "        scores = cross_val_score(my_pipeline,X_train,y_train,cv=5,scoring='accuracy')\n",
    "        print(f'scores for max_depth = {max_depth} and min_child_weights = {min_child_weight}', scores, f'mean score: {scores.mean()}')'''\n",
    "        "
   ]
  },
  {
   "cell_type": "code",
   "execution_count": 41,
   "id": "9b608dd4",
   "metadata": {
    "execution": {
     "iopub.execute_input": "2024-03-28T22:24:02.781074Z",
     "iopub.status.busy": "2024-03-28T22:24:02.780647Z",
     "iopub.status.idle": "2024-03-28T22:24:02.786813Z",
     "shell.execute_reply": "2024-03-28T22:24:02.785705Z"
    },
    "jupyter": {
     "source_hidden": true
    },
    "papermill": {
     "duration": 0.038702,
     "end_time": "2024-03-28T22:24:02.788790",
     "exception": false,
     "start_time": "2024-03-28T22:24:02.750088",
     "status": "completed"
    },
    "tags": []
   },
   "outputs": [
    {
     "data": {
      "text/plain": [
       "\"max_depths = [3,4,5,6,7,8]\\nmin_child_weights = [5,6,7,8]\\n\\nfor max_depth in max_depths:\\n    for min_child_weight in min_child_weights:\\n        model = XGBClassifier(n_estimators = 85, learning_rate = 0.05, max_depth = max_depth, min_child_weight=min_child_weight)\\n        my_pipeline = Pipeline([('transformer',transforms_composed),('model', model)])\\n        scores = cross_val_score(my_pipeline,X_train,y_train,cv=5,scoring='accuracy')\\n        print(f'scores for max_depth = {max_depth} and min_child_weights = {min_child_weight}', scores, f'mean score: {scores.mean()}')\""
      ]
     },
     "execution_count": 41,
     "metadata": {},
     "output_type": "execute_result"
    }
   ],
   "source": [
    "'''max_depths = [3,4,5,6,7,8]\n",
    "min_child_weights = [5,6,7,8]\n",
    "\n",
    "for max_depth in max_depths:\n",
    "    for min_child_weight in min_child_weights:\n",
    "        model = XGBClassifier(n_estimators = 85, learning_rate = 0.05, max_depth = max_depth, min_child_weight=min_child_weight)\n",
    "        my_pipeline = Pipeline([('transformer',transforms_composed),('model', model)])\n",
    "        scores = cross_val_score(my_pipeline,X_train,y_train,cv=5,scoring='accuracy')\n",
    "        print(f'scores for max_depth = {max_depth} and min_child_weights = {min_child_weight}', scores, f'mean score: {scores.mean()}')'''\n",
    "        "
   ]
  },
  {
   "cell_type": "code",
   "execution_count": 42,
   "id": "1748a5b1",
   "metadata": {
    "execution": {
     "iopub.execute_input": "2024-03-28T22:24:02.852388Z",
     "iopub.status.busy": "2024-03-28T22:24:02.851419Z",
     "iopub.status.idle": "2024-03-28T22:24:02.857390Z",
     "shell.execute_reply": "2024-03-28T22:24:02.856620Z"
    },
    "jupyter": {
     "source_hidden": true
    },
    "papermill": {
     "duration": 0.038892,
     "end_time": "2024-03-28T22:24:02.859583",
     "exception": false,
     "start_time": "2024-03-28T22:24:02.820691",
     "status": "completed"
    },
    "tags": []
   },
   "outputs": [
    {
     "data": {
      "text/plain": [
       "\"max_depths = [8,9,10]\\nmin_child_weights = [9,10,11,12]\\n\\nfor max_depth in max_depths:\\n    for min_child_weight in min_child_weights:\\n        model = XGBClassifier(n_estimators = 85, learning_rate = 0.05, max_depth = max_depth, min_child_weight=min_child_weight)\\n        my_pipeline = Pipeline([('transformer',transforms_composed),('model', model)])\\n        scores = cross_val_score(my_pipeline,X_train,y_train,cv=5,scoring='accuracy')\\n        print(f'scores for max_depth = {max_depth} and min_child_weights = {min_child_weight}', scores, f'mean score: {scores.mean()}')\""
      ]
     },
     "execution_count": 42,
     "metadata": {},
     "output_type": "execute_result"
    }
   ],
   "source": [
    "'''max_depths = [8,9,10]\n",
    "min_child_weights = [9,10,11,12]\n",
    "\n",
    "for max_depth in max_depths:\n",
    "    for min_child_weight in min_child_weights:\n",
    "        model = XGBClassifier(n_estimators = 85, learning_rate = 0.05, max_depth = max_depth, min_child_weight=min_child_weight)\n",
    "        my_pipeline = Pipeline([('transformer',transforms_composed),('model', model)])\n",
    "        scores = cross_val_score(my_pipeline,X_train,y_train,cv=5,scoring='accuracy')\n",
    "        print(f'scores for max_depth = {max_depth} and min_child_weights = {min_child_weight}', scores, f'mean score: {scores.mean()}')'''"
   ]
  },
  {
   "cell_type": "markdown",
   "id": "36e83720",
   "metadata": {
    "papermill": {
     "duration": 0.029272,
     "end_time": "2024-03-28T22:24:02.919337",
     "exception": false,
     "start_time": "2024-03-28T22:24:02.890065",
     "status": "completed"
    },
    "tags": []
   },
   "source": [
    "The best results are in this range:\n",
    "* scores for max_depth = 6 and min_child_weights = 5 [0.78723404 0.79758482 0.79700978 0.82508631 0.80552359] mean score: 0.8024877067160935\n",
    "* scores for max_depth = 6 and min_child_weights = 6 [0.78493387 0.79873491 0.80103508 0.82278481 0.80379747] mean score: 0.8022572262539944\n",
    "* scores for max_depth = 6 and min_child_weights = 7 [0.78550891 0.79700978 0.79873491 0.82566168 0.80494822] mean score: 0.8023726980904465\n",
    "* scores for max_depth = 6 and min_child_weights = 8 [0.78780909 0.79585969 0.80046003 0.81530495 0.80437284] mean score: 0.8007613200449182\n",
    "* scores for max_depth = 7 and min_child_weights = 5 [0.786659   0.79528465 0.79873491 0.82681243 0.80609896] mean score: 0.802717988659276\n",
    "* scores for max_depth = 7 and min_child_weights = 6 [0.79010926 0.79183439 0.79988499 0.8273878  0.80149597] mean score: 0.8021424823202363\n",
    "* scores for max_depth = 7 and min_child_weights = 7 [0.79183439 0.79585969 0.80391029 0.82220944 0.80379747] mean score: 0.8035222549631383\n",
    "* scores for max_depth = 7 and min_child_weights = 8 [0.79413456 0.79700978 0.80103508 0.81357883 0.80149597] mean score: 0.8014508424150222\n",
    "* scores for max_depth = 8 and min_child_weights = 5 [0.78895917 0.79700978 0.80046003 0.82853855 0.7986191 ] mean score: 0.8027173269295542\n",
    "* scores for max_depth = 8 and min_child_weights = 6 [0.786659   0.79355952 0.79988499 0.83256617 0.7986191 ] mean score: 0.8022577556377719\n",
    "* scores for max_depth = 8 and min_child_weights = 7 [0.79355952 0.79700978 0.80046003 0.83141542 0.80207135] mean score: 0.8049032187195397\n",
    "* scores for max_depth = 8 and min_child_weights = 8 [0.79183439 0.79643473 0.80333525 0.81933257 0.80034522] mean score: 0.8022564321783282\n",
    " \n",
    "Let's pick max_depth = 8, min_child_weights = 7"
   ]
  },
  {
   "cell_type": "markdown",
   "id": "2af16034",
   "metadata": {
    "papermill": {
     "duration": 0.029822,
     "end_time": "2024-03-28T22:24:02.979723",
     "exception": false,
     "start_time": "2024-03-28T22:24:02.949901",
     "status": "completed"
    },
    "tags": []
   },
   "source": [
    "Now let's adjust gamma"
   ]
  },
  {
   "cell_type": "code",
   "execution_count": 43,
   "id": "726862b5",
   "metadata": {
    "execution": {
     "iopub.execute_input": "2024-03-28T22:24:03.041196Z",
     "iopub.status.busy": "2024-03-28T22:24:03.040565Z",
     "iopub.status.idle": "2024-03-28T22:24:03.046395Z",
     "shell.execute_reply": "2024-03-28T22:24:03.045514Z"
    },
    "jupyter": {
     "source_hidden": true
    },
    "papermill": {
     "duration": 0.039107,
     "end_time": "2024-03-28T22:24:03.048549",
     "exception": false,
     "start_time": "2024-03-28T22:24:03.009442",
     "status": "completed"
    },
    "tags": []
   },
   "outputs": [
    {
     "data": {
      "text/plain": [
       "\"gammas = [0.0,0.1,0.2,0.3,0.4]\\n\\nfor gamma in gammas:\\n    model = XGBClassifier(n_estimators = 85, learning_rate = 0.05, max_depth = 8, min_child_weight = 7, gamma = gamma)\\n    my_pipeline = Pipeline([('transformer',transforms_composed),('model', model)])\\n    scores = cross_val_score(my_pipeline,X_train,y_train,cv=5,scoring='accuracy')\\n    print(f'scores for gamma = {gamma}', scores, f'mean score: {scores.mean()}')\""
      ]
     },
     "execution_count": 43,
     "metadata": {},
     "output_type": "execute_result"
    }
   ],
   "source": [
    "'''gammas = [0.0,0.1,0.2,0.3,0.4]\n",
    "\n",
    "for gamma in gammas:\n",
    "    model = XGBClassifier(n_estimators = 85, learning_rate = 0.05, max_depth = 8, min_child_weight = 7, gamma = gamma)\n",
    "    my_pipeline = Pipeline([('transformer',transforms_composed),('model', model)])\n",
    "    scores = cross_val_score(my_pipeline,X_train,y_train,cv=5,scoring='accuracy')\n",
    "    print(f'scores for gamma = {gamma}', scores, f'mean score: {scores.mean()}')'''"
   ]
  },
  {
   "cell_type": "markdown",
   "id": "a28169c6",
   "metadata": {
    "papermill": {
     "duration": 0.030129,
     "end_time": "2024-03-28T22:24:03.108652",
     "exception": false,
     "start_time": "2024-03-28T22:24:03.078523",
     "status": "completed"
    },
    "tags": []
   },
   "source": [
    "Gamma 0.2 gives slightly better result."
   ]
  },
  {
   "cell_type": "markdown",
   "id": "d3ad93dc",
   "metadata": {
    "papermill": {
     "duration": 0.029922,
     "end_time": "2024-03-28T22:24:03.168120",
     "exception": false,
     "start_time": "2024-03-28T22:24:03.138198",
     "status": "completed"
    },
    "tags": []
   },
   "source": [
    "Now let's do subsample and colsample_bytree"
   ]
  },
  {
   "cell_type": "code",
   "execution_count": 44,
   "id": "607cdb00",
   "metadata": {
    "execution": {
     "iopub.execute_input": "2024-03-28T22:24:03.230583Z",
     "iopub.status.busy": "2024-03-28T22:24:03.229962Z",
     "iopub.status.idle": "2024-03-28T22:24:03.235655Z",
     "shell.execute_reply": "2024-03-28T22:24:03.234787Z"
    },
    "jupyter": {
     "source_hidden": true
    },
    "papermill": {
     "duration": 0.03915,
     "end_time": "2024-03-28T22:24:03.237715",
     "exception": false,
     "start_time": "2024-03-28T22:24:03.198565",
     "status": "completed"
    },
    "tags": []
   },
   "outputs": [
    {
     "data": {
      "text/plain": [
       "\"subsamples = [0.5,0.6,0.7,0.8,0.9,1.0]\\ncolsample_bytrees = [0.5,0.6,0.7,0.8,0.9,1.0]\\n\\nfor subsample in subsamples:\\n    for colsample_bytree in colsample_bytrees:\\n        model = XGBClassifier(n_estimators = 85, learning_rate = 0.05, max_depth = 8, min_child_weight=7, gamma = 0.2, subsample = subsample, colsample_bytree = colsample_bytree)\\n        my_pipeline = Pipeline([('transformer',transforms_composed),('model', model)])\\n        scores = cross_val_score(my_pipeline,X_train,y_train,cv=5,scoring='accuracy')\\n        print(f'scores for subsample = {subsample} and colsample_bytree = {colsample_bytree}', scores, f'mean score: {scores.mean()}')\\n        \""
      ]
     },
     "execution_count": 44,
     "metadata": {},
     "output_type": "execute_result"
    }
   ],
   "source": [
    "'''subsamples = [0.5,0.6,0.7,0.8,0.9,1.0]\n",
    "colsample_bytrees = [0.5,0.6,0.7,0.8,0.9,1.0]\n",
    "\n",
    "for subsample in subsamples:\n",
    "    for colsample_bytree in colsample_bytrees:\n",
    "        model = XGBClassifier(n_estimators = 85, learning_rate = 0.05, max_depth = 8, min_child_weight=7, gamma = 0.2, subsample = subsample, colsample_bytree = colsample_bytree)\n",
    "        my_pipeline = Pipeline([('transformer',transforms_composed),('model', model)])\n",
    "        scores = cross_val_score(my_pipeline,X_train,y_train,cv=5,scoring='accuracy')\n",
    "        print(f'scores for subsample = {subsample} and colsample_bytree = {colsample_bytree}', scores, f'mean score: {scores.mean()}')\n",
    "        '''"
   ]
  },
  {
   "cell_type": "markdown",
   "id": "043f524a",
   "metadata": {
    "papermill": {
     "duration": 0.029905,
     "end_time": "2024-03-28T22:24:03.297556",
     "exception": false,
     "start_time": "2024-03-28T22:24:03.267651",
     "status": "completed"
    },
    "tags": []
   },
   "source": [
    "subsample = 0.5, colsample_bytree = 1 seems good."
   ]
  },
  {
   "cell_type": "markdown",
   "id": "decf4ec8",
   "metadata": {
    "papermill": {
     "duration": 0.029637,
     "end_time": "2024-03-28T22:24:03.357050",
     "exception": false,
     "start_time": "2024-03-28T22:24:03.327413",
     "status": "completed"
    },
    "tags": []
   },
   "source": [
    "Now finally, go back to learning_rate and n_estimators."
   ]
  },
  {
   "cell_type": "code",
   "execution_count": 45,
   "id": "81029463",
   "metadata": {
    "execution": {
     "iopub.execute_input": "2024-03-28T22:24:03.419331Z",
     "iopub.status.busy": "2024-03-28T22:24:03.418442Z",
     "iopub.status.idle": "2024-03-28T22:24:03.424740Z",
     "shell.execute_reply": "2024-03-28T22:24:03.423883Z"
    },
    "jupyter": {
     "source_hidden": true
    },
    "papermill": {
     "duration": 0.039674,
     "end_time": "2024-03-28T22:24:03.426754",
     "exception": false,
     "start_time": "2024-03-28T22:24:03.387080",
     "status": "completed"
    },
    "tags": []
   },
   "outputs": [
    {
     "data": {
      "text/plain": [
       "\"n_estimators_t = [85,95,105,115]\\nlearning_rates = [0.02,0.03,0.04,0.05]\\n\\nfor n_estimators in n_estimators_t:\\n    for learning_rate in learning_rates:\\n        model = XGBClassifier(n_estimators = n_estimators, learning_rate = learning_rate, max_depth = 8, min_child_weight=7, gamma = 0.2, subsample = 0.5, colsample_bytree = 1)\\n        my_pipeline = Pipeline([('transformer',transforms_composed),('model', model)])\\n        scores = cross_val_score(my_pipeline,X_train,y_train,cv=5,scoring='accuracy')\\n        print(f'scores for n_estimators = {n_estimators} and learning_rate = {learning_rate}', scores, f'mean score: {scores.mean()}')\\n        \""
      ]
     },
     "execution_count": 45,
     "metadata": {},
     "output_type": "execute_result"
    }
   ],
   "source": [
    "'''n_estimators_t = [85,95,105,115]\n",
    "learning_rates = [0.02,0.03,0.04,0.05]\n",
    "\n",
    "for n_estimators in n_estimators_t:\n",
    "    for learning_rate in learning_rates:\n",
    "        model = XGBClassifier(n_estimators = n_estimators, learning_rate = learning_rate, max_depth = 8, min_child_weight=7, gamma = 0.2, subsample = 0.5, colsample_bytree = 1)\n",
    "        my_pipeline = Pipeline([('transformer',transforms_composed),('model', model)])\n",
    "        scores = cross_val_score(my_pipeline,X_train,y_train,cv=5,scoring='accuracy')\n",
    "        print(f'scores for n_estimators = {n_estimators} and learning_rate = {learning_rate}', scores, f'mean score: {scores.mean()}')\n",
    "        '''"
   ]
  },
  {
   "cell_type": "code",
   "execution_count": 46,
   "id": "b5c9ee04",
   "metadata": {
    "execution": {
     "iopub.execute_input": "2024-03-28T22:24:03.489814Z",
     "iopub.status.busy": "2024-03-28T22:24:03.489167Z",
     "iopub.status.idle": "2024-03-28T22:24:03.494733Z",
     "shell.execute_reply": "2024-03-28T22:24:03.493913Z"
    },
    "jupyter": {
     "source_hidden": true
    },
    "papermill": {
     "duration": 0.039978,
     "end_time": "2024-03-28T22:24:03.496746",
     "exception": false,
     "start_time": "2024-03-28T22:24:03.456768",
     "status": "completed"
    },
    "tags": []
   },
   "outputs": [
    {
     "data": {
      "text/plain": [
       "\"n_estimators_t = [125,135,145]\\nlearning_rates = [0.05]\\n\\nfor n_estimators in n_estimators_t:\\n    for learning_rate in learning_rates:\\n        model = XGBClassifier(n_estimators = n_estimators, learning_rate = learning_rate, max_depth = 8, min_child_weight=7, gamma = 0.2, subsample = 0.5, colsample_bytree = 1)\\n        my_pipeline = Pipeline([('transformer',transforms_composed),('model', model)])\\n        scores = cross_val_score(my_pipeline,X_train,y_train,cv=5,scoring='accuracy')\\n        print(f'scores for n_estimators = {n_estimators} and learning_rate = {learning_rate}', scores, f'mean score: {scores.mean()}')\\n        \""
      ]
     },
     "execution_count": 46,
     "metadata": {},
     "output_type": "execute_result"
    }
   ],
   "source": [
    "'''n_estimators_t = [125,135,145]\n",
    "learning_rates = [0.05]\n",
    "\n",
    "for n_estimators in n_estimators_t:\n",
    "    for learning_rate in learning_rates:\n",
    "        model = XGBClassifier(n_estimators = n_estimators, learning_rate = learning_rate, max_depth = 8, min_child_weight=7, gamma = 0.2, subsample = 0.5, colsample_bytree = 1)\n",
    "        my_pipeline = Pipeline([('transformer',transforms_composed),('model', model)])\n",
    "        scores = cross_val_score(my_pipeline,X_train,y_train,cv=5,scoring='accuracy')\n",
    "        print(f'scores for n_estimators = {n_estimators} and learning_rate = {learning_rate}', scores, f'mean score: {scores.mean()}')\n",
    "        '''"
   ]
  },
  {
   "cell_type": "code",
   "execution_count": 47,
   "id": "5933277b",
   "metadata": {
    "execution": {
     "iopub.execute_input": "2024-03-28T22:24:03.559899Z",
     "iopub.status.busy": "2024-03-28T22:24:03.558688Z",
     "iopub.status.idle": "2024-03-28T22:24:03.565647Z",
     "shell.execute_reply": "2024-03-28T22:24:03.564407Z"
    },
    "jupyter": {
     "source_hidden": true
    },
    "papermill": {
     "duration": 0.040742,
     "end_time": "2024-03-28T22:24:03.567782",
     "exception": false,
     "start_time": "2024-03-28T22:24:03.527040",
     "status": "completed"
    },
    "tags": []
   },
   "outputs": [
    {
     "data": {
      "text/plain": [
       "\"pairs = [(125,0.04),(150,0.03),(175,0.02)]\\n\\nfor n_estimators, learning_rate in pairs:\\n    model = XGBClassifier(n_estimators = n_estimators, learning_rate = learning_rate, max_depth = 8, min_child_weight=7, gamma = 0.2, subsample = 0.5, colsample_bytree = 1)\\n    my_pipeline = Pipeline([('transformer',transforms_composed),('model', model)])\\n    scores = cross_val_score(my_pipeline,X_train,y_train,cv=5,scoring='accuracy')\\n    print(f'scores for n_estimators = {n_estimators} and learning_rate = {learning_rate}', scores, f'mean score: {scores.mean()}')\\n\""
      ]
     },
     "execution_count": 47,
     "metadata": {},
     "output_type": "execute_result"
    }
   ],
   "source": [
    "'''pairs = [(125,0.04),(150,0.03),(175,0.02)]\n",
    "\n",
    "for n_estimators, learning_rate in pairs:\n",
    "    model = XGBClassifier(n_estimators = n_estimators, learning_rate = learning_rate, max_depth = 8, min_child_weight=7, gamma = 0.2, subsample = 0.5, colsample_bytree = 1)\n",
    "    my_pipeline = Pipeline([('transformer',transforms_composed),('model', model)])\n",
    "    scores = cross_val_score(my_pipeline,X_train,y_train,cv=5,scoring='accuracy')\n",
    "    print(f'scores for n_estimators = {n_estimators} and learning_rate = {learning_rate}', scores, f'mean score: {scores.mean()}')\n",
    "'''"
   ]
  },
  {
   "cell_type": "code",
   "execution_count": 48,
   "id": "290df93d",
   "metadata": {
    "execution": {
     "iopub.execute_input": "2024-03-28T22:24:03.632549Z",
     "iopub.status.busy": "2024-03-28T22:24:03.631848Z",
     "iopub.status.idle": "2024-03-28T22:24:03.638919Z",
     "shell.execute_reply": "2024-03-28T22:24:03.637887Z"
    },
    "jupyter": {
     "source_hidden": true
    },
    "papermill": {
     "duration": 0.041715,
     "end_time": "2024-03-28T22:24:03.641110",
     "exception": false,
     "start_time": "2024-03-28T22:24:03.599395",
     "status": "completed"
    },
    "tags": []
   },
   "outputs": [
    {
     "data": {
      "text/plain": [
       "\"pairs = [(135,0.04),(175,0.03),(225,0.02)]\\n\\nfor n_estimators, learning_rate in pairs:\\n    model = XGBClassifier(n_estimators = n_estimators, learning_rate = learning_rate, max_depth = 8, min_child_weight=7, gamma = 0.2, subsample = 0.5, colsample_bytree = 1)\\n    my_pipeline = Pipeline([('transformer',transforms_composed),('model', model)])\\n    scores = cross_val_score(my_pipeline,X_train,y_train,cv=5,scoring='accuracy')\\n    print(f'scores for n_estimators = {n_estimators} and learning_rate = {learning_rate}', scores, f'mean score: {scores.mean()}')\\n\""
      ]
     },
     "execution_count": 48,
     "metadata": {},
     "output_type": "execute_result"
    }
   ],
   "source": [
    "'''pairs = [(135,0.04),(175,0.03),(225,0.02)]\n",
    "\n",
    "for n_estimators, learning_rate in pairs:\n",
    "    model = XGBClassifier(n_estimators = n_estimators, learning_rate = learning_rate, max_depth = 8, min_child_weight=7, gamma = 0.2, subsample = 0.5, colsample_bytree = 1)\n",
    "    my_pipeline = Pipeline([('transformer',transforms_composed),('model', model)])\n",
    "    scores = cross_val_score(my_pipeline,X_train,y_train,cv=5,scoring='accuracy')\n",
    "    print(f'scores for n_estimators = {n_estimators} and learning_rate = {learning_rate}', scores, f'mean score: {scores.mean()}')\n",
    "'''"
   ]
  },
  {
   "cell_type": "code",
   "execution_count": 49,
   "id": "767e9eef",
   "metadata": {
    "execution": {
     "iopub.execute_input": "2024-03-28T22:24:03.705170Z",
     "iopub.status.busy": "2024-03-28T22:24:03.704140Z",
     "iopub.status.idle": "2024-03-28T22:24:03.711418Z",
     "shell.execute_reply": "2024-03-28T22:24:03.710291Z"
    },
    "jupyter": {
     "source_hidden": true
    },
    "papermill": {
     "duration": 0.041506,
     "end_time": "2024-03-28T22:24:03.713733",
     "exception": false,
     "start_time": "2024-03-28T22:24:03.672227",
     "status": "completed"
    },
    "tags": []
   },
   "outputs": [
    {
     "data": {
      "text/plain": [
       "\"pairs = [(175,0.04),(225,0.03),(300,0.02)]\\n\\nfor n_estimators, learning_rate in pairs:\\n    model = XGBClassifier(n_estimators = n_estimators, learning_rate = learning_rate, max_depth = 8, min_child_weight=7, gamma = 0.2, subsample = 0.5, colsample_bytree = 1)\\n    my_pipeline = Pipeline([('transformer',transforms_composed),('model', model)])\\n    scores = cross_val_score(my_pipeline,X_train,y_train,cv=5,scoring='accuracy')\\n    print(f'scores for n_estimators = {n_estimators} and learning_rate = {learning_rate}', scores, f'mean score: {scores.mean()}')\\n\""
      ]
     },
     "execution_count": 49,
     "metadata": {},
     "output_type": "execute_result"
    }
   ],
   "source": [
    "'''pairs = [(175,0.04),(225,0.03),(300,0.02)]\n",
    "\n",
    "for n_estimators, learning_rate in pairs:\n",
    "    model = XGBClassifier(n_estimators = n_estimators, learning_rate = learning_rate, max_depth = 8, min_child_weight=7, gamma = 0.2, subsample = 0.5, colsample_bytree = 1)\n",
    "    my_pipeline = Pipeline([('transformer',transforms_composed),('model', model)])\n",
    "    scores = cross_val_score(my_pipeline,X_train,y_train,cv=5,scoring='accuracy')\n",
    "    print(f'scores for n_estimators = {n_estimators} and learning_rate = {learning_rate}', scores, f'mean score: {scores.mean()}')\n",
    "'''"
   ]
  },
  {
   "cell_type": "code",
   "execution_count": 50,
   "id": "33533f70",
   "metadata": {
    "execution": {
     "iopub.execute_input": "2024-03-28T22:24:03.777757Z",
     "iopub.status.busy": "2024-03-28T22:24:03.777355Z",
     "iopub.status.idle": "2024-03-28T22:24:03.783897Z",
     "shell.execute_reply": "2024-03-28T22:24:03.782755Z"
    },
    "jupyter": {
     "source_hidden": true
    },
    "papermill": {
     "duration": 0.040715,
     "end_time": "2024-03-28T22:24:03.785840",
     "exception": false,
     "start_time": "2024-03-28T22:24:03.745125",
     "status": "completed"
    },
    "tags": []
   },
   "outputs": [
    {
     "data": {
      "text/plain": [
       "\"n_estimators_t = [135,145,155]\\nlearning_rates = [0.04]\\n\\nfor n_estimators in n_estimators_t:\\n    for learning_rate in learning_rates:\\n        model = XGBClassifier(n_estimators = n_estimators, learning_rate = learning_rate, max_depth = 8, min_child_weight=7, gamma = 0.2, subsample = 0.5, colsample_bytree = 1)\\n        my_pipeline = Pipeline([('transformer',transforms_composed),('model', model)])\\n        scores = cross_val_score(my_pipeline,X_train,y_train,cv=5,scoring='accuracy')\\n        print(f'scores for n_estimators = {n_estimators} and learning_rate = {learning_rate}', scores, f'mean score: {scores.mean()}')\\n        \""
      ]
     },
     "execution_count": 50,
     "metadata": {},
     "output_type": "execute_result"
    }
   ],
   "source": [
    "'''n_estimators_t = [135,145,155]\n",
    "learning_rates = [0.04]\n",
    "\n",
    "for n_estimators in n_estimators_t:\n",
    "    for learning_rate in learning_rates:\n",
    "        model = XGBClassifier(n_estimators = n_estimators, learning_rate = learning_rate, max_depth = 8, min_child_weight=7, gamma = 0.2, subsample = 0.5, colsample_bytree = 1)\n",
    "        my_pipeline = Pipeline([('transformer',transforms_composed),('model', model)])\n",
    "        scores = cross_val_score(my_pipeline,X_train,y_train,cv=5,scoring='accuracy')\n",
    "        print(f'scores for n_estimators = {n_estimators} and learning_rate = {learning_rate}', scores, f'mean score: {scores.mean()}')\n",
    "        '''"
   ]
  },
  {
   "cell_type": "code",
   "execution_count": 51,
   "id": "e1579d1c",
   "metadata": {
    "execution": {
     "iopub.execute_input": "2024-03-28T22:24:03.851721Z",
     "iopub.status.busy": "2024-03-28T22:24:03.850950Z",
     "iopub.status.idle": "2024-03-28T22:24:03.857650Z",
     "shell.execute_reply": "2024-03-28T22:24:03.856487Z"
    },
    "jupyter": {
     "source_hidden": true
    },
    "papermill": {
     "duration": 0.042252,
     "end_time": "2024-03-28T22:24:03.860054",
     "exception": false,
     "start_time": "2024-03-28T22:24:03.817802",
     "status": "completed"
    },
    "tags": []
   },
   "outputs": [
    {
     "data": {
      "text/plain": [
       "\"n_estimators_t = [185,195,215]\\nlearning_rates = [0.03]\\n\\nfor n_estimators in n_estimators_t:\\n    for learning_rate in learning_rates:\\n        model = XGBClassifier(n_estimators = n_estimators, learning_rate = learning_rate, max_depth = 8, min_child_weight=7, gamma = 0.2, subsample = 0.5, colsample_bytree = 1)\\n        my_pipeline = Pipeline([('transformer',transforms_composed),('model', model)])\\n        scores = cross_val_score(my_pipeline,X_train,y_train,cv=5,scoring='accuracy')\\n        print(f'scores for n_estimators = {n_estimators} and learning_rate = {learning_rate}', scores, f'mean score: {scores.mean()}')\\n        \""
      ]
     },
     "execution_count": 51,
     "metadata": {},
     "output_type": "execute_result"
    }
   ],
   "source": [
    "'''n_estimators_t = [185,195,215]\n",
    "learning_rates = [0.03]\n",
    "\n",
    "for n_estimators in n_estimators_t:\n",
    "    for learning_rate in learning_rates:\n",
    "        model = XGBClassifier(n_estimators = n_estimators, learning_rate = learning_rate, max_depth = 8, min_child_weight=7, gamma = 0.2, subsample = 0.5, colsample_bytree = 1)\n",
    "        my_pipeline = Pipeline([('transformer',transforms_composed),('model', model)])\n",
    "        scores = cross_val_score(my_pipeline,X_train,y_train,cv=5,scoring='accuracy')\n",
    "        print(f'scores for n_estimators = {n_estimators} and learning_rate = {learning_rate}', scores, f'mean score: {scores.mean()}')\n",
    "        '''"
   ]
  },
  {
   "cell_type": "code",
   "execution_count": 52,
   "id": "9d954382",
   "metadata": {
    "execution": {
     "iopub.execute_input": "2024-03-28T22:24:03.926907Z",
     "iopub.status.busy": "2024-03-28T22:24:03.926482Z",
     "iopub.status.idle": "2024-03-28T22:24:03.932653Z",
     "shell.execute_reply": "2024-03-28T22:24:03.931850Z"
    },
    "jupyter": {
     "source_hidden": true
    },
    "papermill": {
     "duration": 0.043283,
     "end_time": "2024-03-28T22:24:03.934538",
     "exception": false,
     "start_time": "2024-03-28T22:24:03.891255",
     "status": "completed"
    },
    "tags": []
   },
   "outputs": [
    {
     "data": {
      "text/plain": [
       "\"n_estimators_t = [160,165,170]\\nlearning_rates = [0.03]\\n\\nfor n_estimators in n_estimators_t:\\n    for learning_rate in learning_rates:\\n        model = XGBClassifier(n_estimators = n_estimators, learning_rate = learning_rate, max_depth = 8, min_child_weight=7, gamma = 0.2, subsample = 0.5, colsample_bytree = 1)\\n        my_pipeline = Pipeline([('transformer',transforms_composed),('model', model)])\\n        scores = cross_val_score(my_pipeline,X_train,y_train,cv=5,scoring='accuracy')\\n        print(f'scores for n_estimators = {n_estimators} and learning_rate = {learning_rate}', scores, f'mean score: {scores.mean()}')\\n        \""
      ]
     },
     "execution_count": 52,
     "metadata": {},
     "output_type": "execute_result"
    }
   ],
   "source": [
    "'''n_estimators_t = [160,165,170]\n",
    "learning_rates = [0.03]\n",
    "\n",
    "for n_estimators in n_estimators_t:\n",
    "    for learning_rate in learning_rates:\n",
    "        model = XGBClassifier(n_estimators = n_estimators, learning_rate = learning_rate, max_depth = 8, min_child_weight=7, gamma = 0.2, subsample = 0.5, colsample_bytree = 1)\n",
    "        my_pipeline = Pipeline([('transformer',transforms_composed),('model', model)])\n",
    "        scores = cross_val_score(my_pipeline,X_train,y_train,cv=5,scoring='accuracy')\n",
    "        print(f'scores for n_estimators = {n_estimators} and learning_rate = {learning_rate}', scores, f'mean score: {scores.mean()}')\n",
    "        '''"
   ]
  },
  {
   "cell_type": "markdown",
   "id": "4785116c",
   "metadata": {
    "papermill": {
     "duration": 0.031798,
     "end_time": "2024-03-28T22:24:03.997644",
     "exception": false,
     "start_time": "2024-03-28T22:24:03.965846",
     "status": "completed"
    },
    "tags": []
   },
   "source": [
    "Let's see learning rate 0.05 and some a bit bigger trees than 105"
   ]
  },
  {
   "cell_type": "code",
   "execution_count": 53,
   "id": "cb43fd66",
   "metadata": {
    "execution": {
     "iopub.execute_input": "2024-03-28T22:24:04.063925Z",
     "iopub.status.busy": "2024-03-28T22:24:04.062944Z",
     "iopub.status.idle": "2024-03-28T22:24:04.071497Z",
     "shell.execute_reply": "2024-03-28T22:24:04.070601Z"
    },
    "jupyter": {
     "source_hidden": true
    },
    "papermill": {
     "duration": 0.044184,
     "end_time": "2024-03-28T22:24:04.073813",
     "exception": false,
     "start_time": "2024-03-28T22:24:04.029629",
     "status": "completed"
    },
    "tags": []
   },
   "outputs": [
    {
     "data": {
      "text/plain": [
       "\"n_estimators_t = [108,111,114,117]\\nlearning_rates = [0.05]\\n\\nfor n_estimators in n_estimators_t:\\n    for learning_rate in learning_rates:\\n        model = XGBClassifier(n_estimators = n_estimators, learning_rate = learning_rate, max_depth = 8, min_child_weight=7, gamma = 0.2, subsample = 0.5, colsample_bytree = 1)\\n        my_pipeline = Pipeline([('transformer',transforms_composed),('model', model)])\\n        scores = cross_val_score(my_pipeline,X_train,y_train,cv=5,scoring='accuracy')\\n        print(f'scores for n_estimators = {n_estimators} and learning_rate = {learning_rate}', scores, f'mean score: {scores.mean()}')\\n        \""
      ]
     },
     "execution_count": 53,
     "metadata": {},
     "output_type": "execute_result"
    }
   ],
   "source": [
    "'''n_estimators_t = [108,111,114,117]\n",
    "learning_rates = [0.05]\n",
    "\n",
    "for n_estimators in n_estimators_t:\n",
    "    for learning_rate in learning_rates:\n",
    "        model = XGBClassifier(n_estimators = n_estimators, learning_rate = learning_rate, max_depth = 8, min_child_weight=7, gamma = 0.2, subsample = 0.5, colsample_bytree = 1)\n",
    "        my_pipeline = Pipeline([('transformer',transforms_composed),('model', model)])\n",
    "        scores = cross_val_score(my_pipeline,X_train,y_train,cv=5,scoring='accuracy')\n",
    "        print(f'scores for n_estimators = {n_estimators} and learning_rate = {learning_rate}', scores, f'mean score: {scores.mean()}')\n",
    "        '''"
   ]
  },
  {
   "cell_type": "markdown",
   "id": "2622ecbe",
   "metadata": {
    "papermill": {
     "duration": 0.031252,
     "end_time": "2024-03-28T22:24:04.136840",
     "exception": false,
     "start_time": "2024-03-28T22:24:04.105588",
     "status": "completed"
    },
    "tags": []
   },
   "source": [
    "and smaller:"
   ]
  },
  {
   "cell_type": "code",
   "execution_count": 54,
   "id": "926ee173",
   "metadata": {
    "execution": {
     "iopub.execute_input": "2024-03-28T22:24:04.201527Z",
     "iopub.status.busy": "2024-03-28T22:24:04.200880Z",
     "iopub.status.idle": "2024-03-28T22:24:04.206698Z",
     "shell.execute_reply": "2024-03-28T22:24:04.205699Z"
    },
    "papermill": {
     "duration": 0.041105,
     "end_time": "2024-03-28T22:24:04.208849",
     "exception": false,
     "start_time": "2024-03-28T22:24:04.167744",
     "status": "completed"
    },
    "tags": []
   },
   "outputs": [
    {
     "data": {
      "text/plain": [
       "\"n_estimators_t = [400]\\nlearning_rates = [0.05]\\n\\nfor n_estimators in n_estimators_t:\\n    for learning_rate in learning_rates:\\n        model = XGBClassifier(n_estimators = n_estimators, learning_rate = learning_rate, max_depth = 8, min_child_weight=7, gamma = 0.2, subsample = 0.5, colsample_bytree = 1)\\n        my_pipeline = Pipeline([('transformer',transforms_composed),('model', model)])\\n        scores = cross_val_score(my_pipeline,X_train,y_train,cv=5,scoring='accuracy')\\n        print(f'scores for n_estimators = {n_estimators} and learning_rate = {learning_rate}', scores, f'mean score: {scores.mean()}')\""
      ]
     },
     "execution_count": 54,
     "metadata": {},
     "output_type": "execute_result"
    }
   ],
   "source": [
    "'''n_estimators_t = [400]\n",
    "learning_rates = [0.05]\n",
    "\n",
    "for n_estimators in n_estimators_t:\n",
    "    for learning_rate in learning_rates:\n",
    "        model = XGBClassifier(n_estimators = n_estimators, learning_rate = learning_rate, max_depth = 8, min_child_weight=7, gamma = 0.2, subsample = 0.5, colsample_bytree = 1)\n",
    "        my_pipeline = Pipeline([('transformer',transforms_composed),('model', model)])\n",
    "        scores = cross_val_score(my_pipeline,X_train,y_train,cv=5,scoring='accuracy')\n",
    "        print(f'scores for n_estimators = {n_estimators} and learning_rate = {learning_rate}', scores, f'mean score: {scores.mean()}')'''\n",
    "        "
   ]
  },
  {
   "cell_type": "markdown",
   "id": "2937e346",
   "metadata": {
    "papermill": {
     "duration": 0.030777,
     "end_time": "2024-03-28T22:24:04.270734",
     "exception": false,
     "start_time": "2024-03-28T22:24:04.239957",
     "status": "completed"
    },
    "tags": []
   },
   "source": [
    "n_estimators = 103, learning_rate = 0.05 turned out best"
   ]
  },
  {
   "cell_type": "markdown",
   "id": "09a99377",
   "metadata": {
    "papermill": {
     "duration": 0.036003,
     "end_time": "2024-03-28T22:24:04.338160",
     "exception": false,
     "start_time": "2024-03-28T22:24:04.302157",
     "status": "completed"
    },
    "tags": []
   },
   "source": [
    "Let's try using Optuna. "
   ]
  },
  {
   "cell_type": "code",
   "execution_count": 55,
   "id": "cf7ac0ca",
   "metadata": {
    "execution": {
     "iopub.execute_input": "2024-03-28T22:24:04.407112Z",
     "iopub.status.busy": "2024-03-28T22:24:04.406336Z",
     "iopub.status.idle": "2024-03-28T22:24:05.773017Z",
     "shell.execute_reply": "2024-03-28T22:24:05.772070Z"
    },
    "papermill": {
     "duration": 1.403841,
     "end_time": "2024-03-28T22:24:05.775616",
     "exception": false,
     "start_time": "2024-03-28T22:24:04.371775",
     "status": "completed"
    },
    "tags": []
   },
   "outputs": [],
   "source": [
    "import optuna\n",
    "\n",
    "def objective(trial):\n",
    "    n_estimators = trial.suggest_int('n_estimators',100,1000)\n",
    "    learning_rate = trial.suggest_float('learning_rate',0.01,0.5)\n",
    "    max_depth = trial.suggest_int('max_depth',4,10)\n",
    "    min_child_weight = trial.suggest_float('min_child_weight',1,100)\n",
    "    gamma = trial.suggest_float('gamma', 0, 0.5)\n",
    "    subsample = trial.suggest_float('subsample',0.2,1)\n",
    "    colsample_bytree = trial.suggest_float('colsample_bytree',0.5,1)\n",
    "    \n",
    "    model = XGBClassifier(n_estimators = n_estimators, learning_rate = learning_rate, max_depth = max_depth, min_child_weight=min_child_weight, \\\n",
    "                          gamma = gamma, subsample = subsample, colsample_bytree = colsample_bytree)\n",
    "    my_pipeline = Pipeline([('transformer',transforms_composed),('model', model)])\n",
    "    scores = cross_val_score(my_pipeline,X_train,y_train,cv=5,scoring='accuracy')\n",
    "    \n",
    "    return scores.mean()\n",
    "    "
   ]
  },
  {
   "cell_type": "code",
   "execution_count": 56,
   "id": "cdcfa1f9",
   "metadata": {
    "execution": {
     "iopub.execute_input": "2024-03-28T22:24:05.842314Z",
     "iopub.status.busy": "2024-03-28T22:24:05.841134Z",
     "iopub.status.idle": "2024-03-28T22:24:05.847504Z",
     "shell.execute_reply": "2024-03-28T22:24:05.846451Z"
    },
    "papermill": {
     "duration": 0.042594,
     "end_time": "2024-03-28T22:24:05.849682",
     "exception": false,
     "start_time": "2024-03-28T22:24:05.807088",
     "status": "completed"
    },
    "tags": []
   },
   "outputs": [
    {
     "data": {
      "text/plain": [
       "\"study = optuna.create_study(study_name = 'SpaceshipTitani_study1',sampler = optuna.samplers.TPESampler(), direction = 'maximize')\""
      ]
     },
     "execution_count": 56,
     "metadata": {},
     "output_type": "execute_result"
    }
   ],
   "source": [
    "'''study = optuna.create_study(study_name = 'SpaceshipTitani_study1',sampler = optuna.samplers.TPESampler(), direction = 'maximize')'''"
   ]
  },
  {
   "cell_type": "code",
   "execution_count": 57,
   "id": "d48156de",
   "metadata": {
    "execution": {
     "iopub.execute_input": "2024-03-28T22:24:05.913898Z",
     "iopub.status.busy": "2024-03-28T22:24:05.913489Z",
     "iopub.status.idle": "2024-03-28T22:24:05.919172Z",
     "shell.execute_reply": "2024-03-28T22:24:05.918423Z"
    },
    "papermill": {
     "duration": 0.040019,
     "end_time": "2024-03-28T22:24:05.921037",
     "exception": false,
     "start_time": "2024-03-28T22:24:05.881018",
     "status": "completed"
    },
    "tags": []
   },
   "outputs": [
    {
     "data": {
      "text/plain": [
       "'study.optimize(objective, n_trials = 100)'"
      ]
     },
     "execution_count": 57,
     "metadata": {},
     "output_type": "execute_result"
    }
   ],
   "source": [
    "'''study.optimize(objective, n_trials = 100)'''"
   ]
  },
  {
   "cell_type": "code",
   "execution_count": 58,
   "id": "d1dbedb4",
   "metadata": {
    "execution": {
     "iopub.execute_input": "2024-03-28T22:24:05.986165Z",
     "iopub.status.busy": "2024-03-28T22:24:05.985723Z",
     "iopub.status.idle": "2024-03-28T22:24:05.991754Z",
     "shell.execute_reply": "2024-03-28T22:24:05.990814Z"
    },
    "papermill": {
     "duration": 0.041846,
     "end_time": "2024-03-28T22:24:05.994371",
     "exception": false,
     "start_time": "2024-03-28T22:24:05.952525",
     "status": "completed"
    },
    "tags": []
   },
   "outputs": [
    {
     "data": {
      "text/plain": [
       "'study.best_trial\\nstudy.best_params'"
      ]
     },
     "execution_count": 58,
     "metadata": {},
     "output_type": "execute_result"
    }
   ],
   "source": [
    "'''study.best_trial\n",
    "study.best_params'''"
   ]
  },
  {
   "cell_type": "code",
   "execution_count": 59,
   "id": "106b7106",
   "metadata": {
    "execution": {
     "iopub.execute_input": "2024-03-28T22:24:06.061931Z",
     "iopub.status.busy": "2024-03-28T22:24:06.060676Z",
     "iopub.status.idle": "2024-03-28T22:24:06.066982Z",
     "shell.execute_reply": "2024-03-28T22:24:06.066079Z"
    },
    "papermill": {
     "duration": 0.042984,
     "end_time": "2024-03-28T22:24:06.069458",
     "exception": false,
     "start_time": "2024-03-28T22:24:06.026474",
     "status": "completed"
    },
    "tags": []
   },
   "outputs": [
    {
     "data": {
      "text/plain": [
       "'study.best_value'"
      ]
     },
     "execution_count": 59,
     "metadata": {},
     "output_type": "execute_result"
    }
   ],
   "source": [
    "'''study.best_value'''"
   ]
  },
  {
   "cell_type": "markdown",
   "id": "d462e47a",
   "metadata": {
    "papermill": {
     "duration": 0.031308,
     "end_time": "2024-03-28T22:24:06.133851",
     "exception": false,
     "start_time": "2024-03-28T22:24:06.102543",
     "status": "completed"
    },
    "tags": []
   },
   "source": [
    "{'n_estimators': 395,\n",
    " 'learning_rate': 0.01769507617632657,\n",
    " 'max_depth': 5,\n",
    " 'min_child_weight': 9.434016020871315,\n",
    " 'gamma': 0.11430656416343789,\n",
    " 'subsample': 0.47154109449604587,\n",
    " 'colsample_bytree': 0.7662892488549456}\n",
    " 0.8067445478433898"
   ]
  },
  {
   "cell_type": "markdown",
   "id": "47a066ac",
   "metadata": {
    "papermill": {
     "duration": 0.031781,
     "end_time": "2024-03-28T22:24:06.197664",
     "exception": false,
     "start_time": "2024-03-28T22:24:06.165883",
     "status": "completed"
    },
    "tags": []
   },
   "source": [
    "best for version with one-hot encoded cabins:\n",
    "{'n_estimators': 311,\n",
    " 'learning_rate': 0.04193975399628737,\n",
    " 'max_depth': 4,\n",
    " 'min_child_weight': 4.130900483127343,\n",
    " 'gamma': 0.1968817566967786,\n",
    " 'subsample': 0.7542444088957558,\n",
    " 'colsample_bytree': 0.9186893098410408}\n",
    " study.best_value"
   ]
  },
  {
   "cell_type": "code",
   "execution_count": 60,
   "id": "5bd6006d",
   "metadata": {
    "execution": {
     "iopub.execute_input": "2024-03-28T22:24:06.263169Z",
     "iopub.status.busy": "2024-03-28T22:24:06.262737Z",
     "iopub.status.idle": "2024-03-28T22:24:10.123376Z",
     "shell.execute_reply": "2024-03-28T22:24:10.122226Z"
    },
    "papermill": {
     "duration": 3.89623,
     "end_time": "2024-03-28T22:24:10.125869",
     "exception": false,
     "start_time": "2024-03-28T22:24:06.229639",
     "status": "completed"
    },
    "tags": []
   },
   "outputs": [
    {
     "data": {
      "text/html": [
       "<style>#sk-container-id-1 {color: black;background-color: white;}#sk-container-id-1 pre{padding: 0;}#sk-container-id-1 div.sk-toggleable {background-color: white;}#sk-container-id-1 label.sk-toggleable__label {cursor: pointer;display: block;width: 100%;margin-bottom: 0;padding: 0.3em;box-sizing: border-box;text-align: center;}#sk-container-id-1 label.sk-toggleable__label-arrow:before {content: \"▸\";float: left;margin-right: 0.25em;color: #696969;}#sk-container-id-1 label.sk-toggleable__label-arrow:hover:before {color: black;}#sk-container-id-1 div.sk-estimator:hover label.sk-toggleable__label-arrow:before {color: black;}#sk-container-id-1 div.sk-toggleable__content {max-height: 0;max-width: 0;overflow: hidden;text-align: left;background-color: #f0f8ff;}#sk-container-id-1 div.sk-toggleable__content pre {margin: 0.2em;color: black;border-radius: 0.25em;background-color: #f0f8ff;}#sk-container-id-1 input.sk-toggleable__control:checked~div.sk-toggleable__content {max-height: 200px;max-width: 100%;overflow: auto;}#sk-container-id-1 input.sk-toggleable__control:checked~label.sk-toggleable__label-arrow:before {content: \"▾\";}#sk-container-id-1 div.sk-estimator input.sk-toggleable__control:checked~label.sk-toggleable__label {background-color: #d4ebff;}#sk-container-id-1 div.sk-label input.sk-toggleable__control:checked~label.sk-toggleable__label {background-color: #d4ebff;}#sk-container-id-1 input.sk-hidden--visually {border: 0;clip: rect(1px 1px 1px 1px);clip: rect(1px, 1px, 1px, 1px);height: 1px;margin: -1px;overflow: hidden;padding: 0;position: absolute;width: 1px;}#sk-container-id-1 div.sk-estimator {font-family: monospace;background-color: #f0f8ff;border: 1px dotted black;border-radius: 0.25em;box-sizing: border-box;margin-bottom: 0.5em;}#sk-container-id-1 div.sk-estimator:hover {background-color: #d4ebff;}#sk-container-id-1 div.sk-parallel-item::after {content: \"\";width: 100%;border-bottom: 1px solid gray;flex-grow: 1;}#sk-container-id-1 div.sk-label:hover label.sk-toggleable__label {background-color: #d4ebff;}#sk-container-id-1 div.sk-serial::before {content: \"\";position: absolute;border-left: 1px solid gray;box-sizing: border-box;top: 0;bottom: 0;left: 50%;z-index: 0;}#sk-container-id-1 div.sk-serial {display: flex;flex-direction: column;align-items: center;background-color: white;padding-right: 0.2em;padding-left: 0.2em;position: relative;}#sk-container-id-1 div.sk-item {position: relative;z-index: 1;}#sk-container-id-1 div.sk-parallel {display: flex;align-items: stretch;justify-content: center;background-color: white;position: relative;}#sk-container-id-1 div.sk-item::before, #sk-container-id-1 div.sk-parallel-item::before {content: \"\";position: absolute;border-left: 1px solid gray;box-sizing: border-box;top: 0;bottom: 0;left: 50%;z-index: -1;}#sk-container-id-1 div.sk-parallel-item {display: flex;flex-direction: column;z-index: 1;position: relative;background-color: white;}#sk-container-id-1 div.sk-parallel-item:first-child::after {align-self: flex-end;width: 50%;}#sk-container-id-1 div.sk-parallel-item:last-child::after {align-self: flex-start;width: 50%;}#sk-container-id-1 div.sk-parallel-item:only-child::after {width: 0;}#sk-container-id-1 div.sk-dashed-wrapped {border: 1px dashed gray;margin: 0 0.4em 0.5em 0.4em;box-sizing: border-box;padding-bottom: 0.4em;background-color: white;}#sk-container-id-1 div.sk-label label {font-family: monospace;font-weight: bold;display: inline-block;line-height: 1.2em;}#sk-container-id-1 div.sk-label-container {text-align: center;}#sk-container-id-1 div.sk-container {/* jupyter's `normalize.less` sets `[hidden] { display: none; }` but bootstrap.min.css set `[hidden] { display: none !important; }` so we also need the `!important` here to be able to override the default hidden behavior on the sphinx rendered scikit-learn.org. See: https://github.com/scikit-learn/scikit-learn/issues/21755 */display: inline-block !important;position: relative;}#sk-container-id-1 div.sk-text-repr-fallback {display: none;}</style><div id=\"sk-container-id-1\" class=\"sk-top-container\"><div class=\"sk-text-repr-fallback\"><pre>Pipeline(steps=[(&#x27;transformer&#x27;,\n",
       "                 ColumnTransformer(transformers=[(&#x27;amenities_tranformer&#x27;,\n",
       "                                                  Pipeline(steps=[(&#x27;amenities_imputer&#x27;,\n",
       "                                                                   SimpleImputer(fill_value=0,\n",
       "                                                                                 strategy=&#x27;constant&#x27;)),\n",
       "                                                                  (&#x27;amenities_log1p&#x27;,\n",
       "                                                                   FunctionTransformer(func=&lt;ufunc &#x27;log1p&#x27;&gt;)),\n",
       "                                                                  (&#x27;amenities_scaler&#x27;,\n",
       "                                                                   StandardScaler())]),\n",
       "                                                  [&#x27;RoomService&#x27;, &#x27;FoodCourt&#x27;,\n",
       "                                                   &#x27;ShoppingMall&#x27;, &#x27;Spa&#x27;,\n",
       "                                                   &#x27;VRDeck&#x27;]),\n",
       "                                                 (&#x27;destination_tra...\n",
       "                               grow_policy=None, importance_type=None,\n",
       "                               interaction_constraints=None,\n",
       "                               learning_rate=0.04193975399628737, max_bin=None,\n",
       "                               max_cat_threshold=None, max_cat_to_onehot=None,\n",
       "                               max_delta_step=None, max_depth=4,\n",
       "                               max_leaves=None,\n",
       "                               min_child_weight=4.130900483127343, missing=nan,\n",
       "                               monotone_constraints=None, multi_strategy=None,\n",
       "                               n_estimators=311, n_jobs=None,\n",
       "                               num_parallel_tree=None, random_state=None, ...))])</pre><b>In a Jupyter environment, please rerun this cell to show the HTML representation or trust the notebook. <br />On GitHub, the HTML representation is unable to render, please try loading this page with nbviewer.org.</b></div><div class=\"sk-container\" hidden><div class=\"sk-item sk-dashed-wrapped\"><div class=\"sk-label-container\"><div class=\"sk-label sk-toggleable\"><input class=\"sk-toggleable__control sk-hidden--visually\" id=\"sk-estimator-id-1\" type=\"checkbox\" ><label for=\"sk-estimator-id-1\" class=\"sk-toggleable__label sk-toggleable__label-arrow\">Pipeline</label><div class=\"sk-toggleable__content\"><pre>Pipeline(steps=[(&#x27;transformer&#x27;,\n",
       "                 ColumnTransformer(transformers=[(&#x27;amenities_tranformer&#x27;,\n",
       "                                                  Pipeline(steps=[(&#x27;amenities_imputer&#x27;,\n",
       "                                                                   SimpleImputer(fill_value=0,\n",
       "                                                                                 strategy=&#x27;constant&#x27;)),\n",
       "                                                                  (&#x27;amenities_log1p&#x27;,\n",
       "                                                                   FunctionTransformer(func=&lt;ufunc &#x27;log1p&#x27;&gt;)),\n",
       "                                                                  (&#x27;amenities_scaler&#x27;,\n",
       "                                                                   StandardScaler())]),\n",
       "                                                  [&#x27;RoomService&#x27;, &#x27;FoodCourt&#x27;,\n",
       "                                                   &#x27;ShoppingMall&#x27;, &#x27;Spa&#x27;,\n",
       "                                                   &#x27;VRDeck&#x27;]),\n",
       "                                                 (&#x27;destination_tra...\n",
       "                               grow_policy=None, importance_type=None,\n",
       "                               interaction_constraints=None,\n",
       "                               learning_rate=0.04193975399628737, max_bin=None,\n",
       "                               max_cat_threshold=None, max_cat_to_onehot=None,\n",
       "                               max_delta_step=None, max_depth=4,\n",
       "                               max_leaves=None,\n",
       "                               min_child_weight=4.130900483127343, missing=nan,\n",
       "                               monotone_constraints=None, multi_strategy=None,\n",
       "                               n_estimators=311, n_jobs=None,\n",
       "                               num_parallel_tree=None, random_state=None, ...))])</pre></div></div></div><div class=\"sk-serial\"><div class=\"sk-item sk-dashed-wrapped\"><div class=\"sk-label-container\"><div class=\"sk-label sk-toggleable\"><input class=\"sk-toggleable__control sk-hidden--visually\" id=\"sk-estimator-id-2\" type=\"checkbox\" ><label for=\"sk-estimator-id-2\" class=\"sk-toggleable__label sk-toggleable__label-arrow\">transformer: ColumnTransformer</label><div class=\"sk-toggleable__content\"><pre>ColumnTransformer(transformers=[(&#x27;amenities_tranformer&#x27;,\n",
       "                                 Pipeline(steps=[(&#x27;amenities_imputer&#x27;,\n",
       "                                                  SimpleImputer(fill_value=0,\n",
       "                                                                strategy=&#x27;constant&#x27;)),\n",
       "                                                 (&#x27;amenities_log1p&#x27;,\n",
       "                                                  FunctionTransformer(func=&lt;ufunc &#x27;log1p&#x27;&gt;)),\n",
       "                                                 (&#x27;amenities_scaler&#x27;,\n",
       "                                                  StandardScaler())]),\n",
       "                                 [&#x27;RoomService&#x27;, &#x27;FoodCourt&#x27;, &#x27;ShoppingMall&#x27;,\n",
       "                                  &#x27;Spa&#x27;, &#x27;VRDeck&#x27;]),\n",
       "                                (&#x27;destination_transformer&#x27;,\n",
       "                                 Pipeline(steps=[(&#x27;des...\n",
       "                                                  SimpleImputer(fill_value=&#x27;2&#x27;,\n",
       "                                                                strategy=&#x27;constant&#x27;)),\n",
       "                                                 (&#x27;family_size_creator&#x27;,\n",
       "                                                  FunctionTransformer(func=&lt;function family_size at 0x7f47092cb880&gt;))]),\n",
       "                                 [&#x27;PassengerId&#x27;, &#x27;Name&#x27;]),\n",
       "                                (&#x27;cabin_transformer&#x27;,\n",
       "                                 Pipeline(steps=[(&#x27;cabin_creator&#x27;,\n",
       "                                                  FunctionTransformer(func=&lt;function cabin_encoder at 0x7f47092cb910&gt;)),\n",
       "                                                 (&#x27;cabin_encoder&#x27;,\n",
       "                                                  OneHotEncoder(handle_unknown=&#x27;ignore&#x27;,\n",
       "                                                                sparse_output=False))]),\n",
       "                                 [&#x27;Cabin&#x27;])])</pre></div></div></div><div class=\"sk-parallel\"><div class=\"sk-parallel-item\"><div class=\"sk-item\"><div class=\"sk-label-container\"><div class=\"sk-label sk-toggleable\"><input class=\"sk-toggleable__control sk-hidden--visually\" id=\"sk-estimator-id-3\" type=\"checkbox\" ><label for=\"sk-estimator-id-3\" class=\"sk-toggleable__label sk-toggleable__label-arrow\">amenities_tranformer</label><div class=\"sk-toggleable__content\"><pre>[&#x27;RoomService&#x27;, &#x27;FoodCourt&#x27;, &#x27;ShoppingMall&#x27;, &#x27;Spa&#x27;, &#x27;VRDeck&#x27;]</pre></div></div></div><div class=\"sk-serial\"><div class=\"sk-item\"><div class=\"sk-serial\"><div class=\"sk-item\"><div class=\"sk-estimator sk-toggleable\"><input class=\"sk-toggleable__control sk-hidden--visually\" id=\"sk-estimator-id-4\" type=\"checkbox\" ><label for=\"sk-estimator-id-4\" class=\"sk-toggleable__label sk-toggleable__label-arrow\">SimpleImputer</label><div class=\"sk-toggleable__content\"><pre>SimpleImputer(fill_value=0, strategy=&#x27;constant&#x27;)</pre></div></div></div><div class=\"sk-item\"><div class=\"sk-estimator sk-toggleable\"><input class=\"sk-toggleable__control sk-hidden--visually\" id=\"sk-estimator-id-5\" type=\"checkbox\" ><label for=\"sk-estimator-id-5\" class=\"sk-toggleable__label sk-toggleable__label-arrow\">FunctionTransformer</label><div class=\"sk-toggleable__content\"><pre>FunctionTransformer(func=&lt;ufunc &#x27;log1p&#x27;&gt;)</pre></div></div></div><div class=\"sk-item\"><div class=\"sk-estimator sk-toggleable\"><input class=\"sk-toggleable__control sk-hidden--visually\" id=\"sk-estimator-id-6\" type=\"checkbox\" ><label for=\"sk-estimator-id-6\" class=\"sk-toggleable__label sk-toggleable__label-arrow\">StandardScaler</label><div class=\"sk-toggleable__content\"><pre>StandardScaler()</pre></div></div></div></div></div></div></div></div><div class=\"sk-parallel-item\"><div class=\"sk-item\"><div class=\"sk-label-container\"><div class=\"sk-label sk-toggleable\"><input class=\"sk-toggleable__control sk-hidden--visually\" id=\"sk-estimator-id-7\" type=\"checkbox\" ><label for=\"sk-estimator-id-7\" class=\"sk-toggleable__label sk-toggleable__label-arrow\">destination_transformer</label><div class=\"sk-toggleable__content\"><pre>[&#x27;Destination&#x27;]</pre></div></div></div><div class=\"sk-serial\"><div class=\"sk-item\"><div class=\"sk-serial\"><div class=\"sk-item\"><div class=\"sk-estimator sk-toggleable\"><input class=\"sk-toggleable__control sk-hidden--visually\" id=\"sk-estimator-id-8\" type=\"checkbox\" ><label for=\"sk-estimator-id-8\" class=\"sk-toggleable__label sk-toggleable__label-arrow\">SimpleImputer</label><div class=\"sk-toggleable__content\"><pre>SimpleImputer(fill_value=&#x27;PSO J318.5-22&#x27;, strategy=&#x27;constant&#x27;)</pre></div></div></div><div class=\"sk-item\"><div class=\"sk-estimator sk-toggleable\"><input class=\"sk-toggleable__control sk-hidden--visually\" id=\"sk-estimator-id-9\" type=\"checkbox\" ><label for=\"sk-estimator-id-9\" class=\"sk-toggleable__label sk-toggleable__label-arrow\">OneHotEncoder</label><div class=\"sk-toggleable__content\"><pre>OneHotEncoder(sparse=False)</pre></div></div></div></div></div></div></div></div><div class=\"sk-parallel-item\"><div class=\"sk-item\"><div class=\"sk-label-container\"><div class=\"sk-label sk-toggleable\"><input class=\"sk-toggleable__control sk-hidden--visually\" id=\"sk-estimator-id-10\" type=\"checkbox\" ><label for=\"sk-estimator-id-10\" class=\"sk-toggleable__label sk-toggleable__label-arrow\">vip_transformer</label><div class=\"sk-toggleable__content\"><pre>[&#x27;VIP&#x27;]</pre></div></div></div><div class=\"sk-serial\"><div class=\"sk-item\"><div class=\"sk-serial\"><div class=\"sk-item\"><div class=\"sk-estimator sk-toggleable\"><input class=\"sk-toggleable__control sk-hidden--visually\" id=\"sk-estimator-id-11\" type=\"checkbox\" ><label for=\"sk-estimator-id-11\" class=\"sk-toggleable__label sk-toggleable__label-arrow\">SimpleImputer</label><div class=\"sk-toggleable__content\"><pre>SimpleImputer(fill_value=False, strategy=&#x27;constant&#x27;)</pre></div></div></div><div class=\"sk-item\"><div class=\"sk-estimator sk-toggleable\"><input class=\"sk-toggleable__control sk-hidden--visually\" id=\"sk-estimator-id-12\" type=\"checkbox\" ><label for=\"sk-estimator-id-12\" class=\"sk-toggleable__label sk-toggleable__label-arrow\">OneHotEncoder</label><div class=\"sk-toggleable__content\"><pre>OneHotEncoder(sparse=False)</pre></div></div></div></div></div></div></div></div><div class=\"sk-parallel-item\"><div class=\"sk-item\"><div class=\"sk-label-container\"><div class=\"sk-label sk-toggleable\"><input class=\"sk-toggleable__control sk-hidden--visually\" id=\"sk-estimator-id-13\" type=\"checkbox\" ><label for=\"sk-estimator-id-13\" class=\"sk-toggleable__label sk-toggleable__label-arrow\">age_transformer</label><div class=\"sk-toggleable__content\"><pre>[&#x27;Age&#x27;]</pre></div></div></div><div class=\"sk-serial\"><div class=\"sk-item\"><div class=\"sk-serial\"><div class=\"sk-item\"><div class=\"sk-estimator sk-toggleable\"><input class=\"sk-toggleable__control sk-hidden--visually\" id=\"sk-estimator-id-14\" type=\"checkbox\" ><label for=\"sk-estimator-id-14\" class=\"sk-toggleable__label sk-toggleable__label-arrow\">SimpleImputer</label><div class=\"sk-toggleable__content\"><pre>SimpleImputer()</pre></div></div></div><div class=\"sk-item\"><div class=\"sk-estimator sk-toggleable\"><input class=\"sk-toggleable__control sk-hidden--visually\" id=\"sk-estimator-id-15\" type=\"checkbox\" ><label for=\"sk-estimator-id-15\" class=\"sk-toggleable__label sk-toggleable__label-arrow\">FunctionTransformer</label><div class=\"sk-toggleable__content\"><pre>FunctionTransformer(func=&lt;function bucketer at 0x7f46ead21f30&gt;)</pre></div></div></div><div class=\"sk-item\"><div class=\"sk-estimator sk-toggleable\"><input class=\"sk-toggleable__control sk-hidden--visually\" id=\"sk-estimator-id-16\" type=\"checkbox\" ><label for=\"sk-estimator-id-16\" class=\"sk-toggleable__label sk-toggleable__label-arrow\">OneHotEncoder</label><div class=\"sk-toggleable__content\"><pre>OneHotEncoder(sparse=False)</pre></div></div></div></div></div></div></div></div><div class=\"sk-parallel-item\"><div class=\"sk-item\"><div class=\"sk-label-container\"><div class=\"sk-label sk-toggleable\"><input class=\"sk-toggleable__control sk-hidden--visually\" id=\"sk-estimator-id-17\" type=\"checkbox\" ><label for=\"sk-estimator-id-17\" class=\"sk-toggleable__label sk-toggleable__label-arrow\">home_planet_transformer</label><div class=\"sk-toggleable__content\"><pre>[&#x27;HomePlanet&#x27;]</pre></div></div></div><div class=\"sk-serial\"><div class=\"sk-item\"><div class=\"sk-serial\"><div class=\"sk-item\"><div class=\"sk-estimator sk-toggleable\"><input class=\"sk-toggleable__control sk-hidden--visually\" id=\"sk-estimator-id-18\" type=\"checkbox\" ><label for=\"sk-estimator-id-18\" class=\"sk-toggleable__label sk-toggleable__label-arrow\">SimpleImputer</label><div class=\"sk-toggleable__content\"><pre>SimpleImputer(fill_value=&#x27;Mars&#x27;, strategy=&#x27;constant&#x27;)</pre></div></div></div><div class=\"sk-item\"><div class=\"sk-estimator sk-toggleable\"><input class=\"sk-toggleable__control sk-hidden--visually\" id=\"sk-estimator-id-19\" type=\"checkbox\" ><label for=\"sk-estimator-id-19\" class=\"sk-toggleable__label sk-toggleable__label-arrow\">OneHotEncoder</label><div class=\"sk-toggleable__content\"><pre>OneHotEncoder(sparse=False)</pre></div></div></div></div></div></div></div></div><div class=\"sk-parallel-item\"><div class=\"sk-item\"><div class=\"sk-label-container\"><div class=\"sk-label sk-toggleable\"><input class=\"sk-toggleable__control sk-hidden--visually\" id=\"sk-estimator-id-20\" type=\"checkbox\" ><label for=\"sk-estimator-id-20\" class=\"sk-toggleable__label sk-toggleable__label-arrow\">cryo_transformer</label><div class=\"sk-toggleable__content\"><pre>[&#x27;CryoSleep&#x27;]</pre></div></div></div><div class=\"sk-serial\"><div class=\"sk-item\"><div class=\"sk-serial\"><div class=\"sk-item\"><div class=\"sk-estimator sk-toggleable\"><input class=\"sk-toggleable__control sk-hidden--visually\" id=\"sk-estimator-id-21\" type=\"checkbox\" ><label for=\"sk-estimator-id-21\" class=\"sk-toggleable__label sk-toggleable__label-arrow\">OneHotEncoder</label><div class=\"sk-toggleable__content\"><pre>OneHotEncoder(handle_unknown=&#x27;ignore&#x27;, sparse_output=False)</pre></div></div></div></div></div></div></div></div><div class=\"sk-parallel-item\"><div class=\"sk-item\"><div class=\"sk-label-container\"><div class=\"sk-label sk-toggleable\"><input class=\"sk-toggleable__control sk-hidden--visually\" id=\"sk-estimator-id-22\" type=\"checkbox\" ><label for=\"sk-estimator-id-22\" class=\"sk-toggleable__label sk-toggleable__label-arrow\">family_transformer</label><div class=\"sk-toggleable__content\"><pre>[&#x27;PassengerId&#x27;, &#x27;Name&#x27;]</pre></div></div></div><div class=\"sk-serial\"><div class=\"sk-item\"><div class=\"sk-serial\"><div class=\"sk-item\"><div class=\"sk-estimator sk-toggleable\"><input class=\"sk-toggleable__control sk-hidden--visually\" id=\"sk-estimator-id-23\" type=\"checkbox\" ><label for=\"sk-estimator-id-23\" class=\"sk-toggleable__label sk-toggleable__label-arrow\">SimpleImputer</label><div class=\"sk-toggleable__content\"><pre>SimpleImputer(fill_value=&#x27;2&#x27;, strategy=&#x27;constant&#x27;)</pre></div></div></div><div class=\"sk-item\"><div class=\"sk-estimator sk-toggleable\"><input class=\"sk-toggleable__control sk-hidden--visually\" id=\"sk-estimator-id-24\" type=\"checkbox\" ><label for=\"sk-estimator-id-24\" class=\"sk-toggleable__label sk-toggleable__label-arrow\">FunctionTransformer</label><div class=\"sk-toggleable__content\"><pre>FunctionTransformer(func=&lt;function family_size at 0x7f47092cb880&gt;)</pre></div></div></div></div></div></div></div></div><div class=\"sk-parallel-item\"><div class=\"sk-item\"><div class=\"sk-label-container\"><div class=\"sk-label sk-toggleable\"><input class=\"sk-toggleable__control sk-hidden--visually\" id=\"sk-estimator-id-25\" type=\"checkbox\" ><label for=\"sk-estimator-id-25\" class=\"sk-toggleable__label sk-toggleable__label-arrow\">cabin_transformer</label><div class=\"sk-toggleable__content\"><pre>[&#x27;Cabin&#x27;]</pre></div></div></div><div class=\"sk-serial\"><div class=\"sk-item\"><div class=\"sk-serial\"><div class=\"sk-item\"><div class=\"sk-estimator sk-toggleable\"><input class=\"sk-toggleable__control sk-hidden--visually\" id=\"sk-estimator-id-26\" type=\"checkbox\" ><label for=\"sk-estimator-id-26\" class=\"sk-toggleable__label sk-toggleable__label-arrow\">FunctionTransformer</label><div class=\"sk-toggleable__content\"><pre>FunctionTransformer(func=&lt;function cabin_encoder at 0x7f47092cb910&gt;)</pre></div></div></div><div class=\"sk-item\"><div class=\"sk-estimator sk-toggleable\"><input class=\"sk-toggleable__control sk-hidden--visually\" id=\"sk-estimator-id-27\" type=\"checkbox\" ><label for=\"sk-estimator-id-27\" class=\"sk-toggleable__label sk-toggleable__label-arrow\">OneHotEncoder</label><div class=\"sk-toggleable__content\"><pre>OneHotEncoder(handle_unknown=&#x27;ignore&#x27;, sparse_output=False)</pre></div></div></div></div></div></div></div></div></div></div><div class=\"sk-item\"><div class=\"sk-estimator sk-toggleable\"><input class=\"sk-toggleable__control sk-hidden--visually\" id=\"sk-estimator-id-28\" type=\"checkbox\" ><label for=\"sk-estimator-id-28\" class=\"sk-toggleable__label sk-toggleable__label-arrow\">XGBClassifier</label><div class=\"sk-toggleable__content\"><pre>XGBClassifier(base_score=None, booster=None, callbacks=None,\n",
       "              colsample_bylevel=None, colsample_bynode=None,\n",
       "              colsample_bytree=0.9186893098410408, device=None,\n",
       "              early_stopping_rounds=None, enable_categorical=False,\n",
       "              eval_metric=None, feature_types=None, gamma=0.1968817566967786,\n",
       "              grow_policy=None, importance_type=None,\n",
       "              interaction_constraints=None, learning_rate=0.04193975399628737,\n",
       "              max_bin=None, max_cat_threshold=None, max_cat_to_onehot=None,\n",
       "              max_delta_step=None, max_depth=4, max_leaves=None,\n",
       "              min_child_weight=4.130900483127343, missing=nan,\n",
       "              monotone_constraints=None, multi_strategy=None, n_estimators=311,\n",
       "              n_jobs=None, num_parallel_tree=None, random_state=None, ...)</pre></div></div></div></div></div></div></div>"
      ],
      "text/plain": [
       "Pipeline(steps=[('transformer',\n",
       "                 ColumnTransformer(transformers=[('amenities_tranformer',\n",
       "                                                  Pipeline(steps=[('amenities_imputer',\n",
       "                                                                   SimpleImputer(fill_value=0,\n",
       "                                                                                 strategy='constant')),\n",
       "                                                                  ('amenities_log1p',\n",
       "                                                                   FunctionTransformer(func=<ufunc 'log1p'>)),\n",
       "                                                                  ('amenities_scaler',\n",
       "                                                                   StandardScaler())]),\n",
       "                                                  ['RoomService', 'FoodCourt',\n",
       "                                                   'ShoppingMall', 'Spa',\n",
       "                                                   'VRDeck']),\n",
       "                                                 ('destination_tra...\n",
       "                               grow_policy=None, importance_type=None,\n",
       "                               interaction_constraints=None,\n",
       "                               learning_rate=0.04193975399628737, max_bin=None,\n",
       "                               max_cat_threshold=None, max_cat_to_onehot=None,\n",
       "                               max_delta_step=None, max_depth=4,\n",
       "                               max_leaves=None,\n",
       "                               min_child_weight=4.130900483127343, missing=nan,\n",
       "                               monotone_constraints=None, multi_strategy=None,\n",
       "                               n_estimators=311, n_jobs=None,\n",
       "                               num_parallel_tree=None, random_state=None, ...))])"
      ]
     },
     "execution_count": 60,
     "metadata": {},
     "output_type": "execute_result"
    }
   ],
   "source": [
    "final_model = XGBClassifier(n_estimators = 311, learning_rate = 0.04193975399628737, max_depth = 4, min_child_weight=4.130900483127343, gamma = 0.1968817566967786, subsample = 0.7542444088957558, colsample_bytree = 0.9186893098410408)\n",
    "final_pipeline = Pipeline([('transformer',transforms_composed),('model', final_model)])\n",
    "\n",
    "final_pipeline.fit(X_train,y_train)"
   ]
  },
  {
   "cell_type": "code",
   "execution_count": 61,
   "id": "83ed420d",
   "metadata": {
    "execution": {
     "iopub.execute_input": "2024-03-28T22:24:10.196488Z",
     "iopub.status.busy": "2024-03-28T22:24:10.196119Z",
     "iopub.status.idle": "2024-03-28T22:24:13.138147Z",
     "shell.execute_reply": "2024-03-28T22:24:13.137014Z"
    },
    "papermill": {
     "duration": 2.980496,
     "end_time": "2024-03-28T22:24:13.140687",
     "exception": false,
     "start_time": "2024-03-28T22:24:10.160191",
     "status": "completed"
    },
    "tags": []
   },
   "outputs": [],
   "source": [
    "trs = transforms_composed.fit_transform(X_train,y_train)"
   ]
  },
  {
   "cell_type": "code",
   "execution_count": 62,
   "id": "579a210a",
   "metadata": {
    "collapsed": true,
    "execution": {
     "iopub.execute_input": "2024-03-28T22:24:13.208805Z",
     "iopub.status.busy": "2024-03-28T22:24:13.207688Z",
     "iopub.status.idle": "2024-03-28T22:24:14.190878Z",
     "shell.execute_reply": "2024-03-28T22:24:14.189923Z"
    },
    "jupyter": {
     "outputs_hidden": true,
     "source_hidden": true
    },
    "papermill": {
     "duration": 1.021103,
     "end_time": "2024-03-28T22:24:14.194978",
     "exception": false,
     "start_time": "2024-03-28T22:24:13.173875",
     "status": "completed"
    },
    "tags": []
   },
   "outputs": [
    {
     "data": {
      "text/plain": [
       "<Axes: >"
      ]
     },
     "execution_count": 62,
     "metadata": {},
     "output_type": "execute_result"
    },
    {
     "data": {
      "image/png": "[encoded data removed]",
      "text/plain": [
       "<Figure size 640x480 with 2 Axes>"
      ]
     },
     "metadata": {},
     "output_type": "display_data"
    }
   ],
   "source": [
    "trs.columns\n",
    "trs.head(5)\n",
    "import seaborn as sns\n",
    "sns.heatmap(trs.corr())"
   ]
  },
  {
   "cell_type": "code",
   "execution_count": 63,
   "id": "6402d187",
   "metadata": {
    "execution": {
     "iopub.execute_input": "2024-03-28T22:24:14.269635Z",
     "iopub.status.busy": "2024-03-28T22:24:14.268932Z",
     "iopub.status.idle": "2024-03-28T22:24:15.733875Z",
     "shell.execute_reply": "2024-03-28T22:24:15.732767Z"
    },
    "papermill": {
     "duration": 1.504741,
     "end_time": "2024-03-28T22:24:15.736670",
     "exception": false,
     "start_time": "2024-03-28T22:24:14.231929",
     "status": "completed"
    },
    "tags": []
   },
   "outputs": [
    {
     "data": {
      "text/html": [
       "<div>\n",
       "<style scoped>\n",
       "    .dataframe tbody tr th:only-of-type {\n",
       "        vertical-align: middle;\n",
       "    }\n",
       "\n",
       "    .dataframe tbody tr th {\n",
       "        vertical-align: top;\n",
       "    }\n",
       "\n",
       "    .dataframe thead th {\n",
       "        text-align: right;\n",
       "    }\n",
       "</style>\n",
       "<table border=\"1\" class=\"dataframe\">\n",
       "  <thead>\n",
       "    <tr style=\"text-align: right;\">\n",
       "      <th></th>\n",
       "      <th>PassengerId</th>\n",
       "      <th>Transported</th>\n",
       "    </tr>\n",
       "  </thead>\n",
       "  <tbody>\n",
       "    <tr>\n",
       "      <th>0</th>\n",
       "      <td>0013_01</td>\n",
       "      <td>True</td>\n",
       "    </tr>\n",
       "    <tr>\n",
       "      <th>1</th>\n",
       "      <td>0018_01</td>\n",
       "      <td>False</td>\n",
       "    </tr>\n",
       "    <tr>\n",
       "      <th>2</th>\n",
       "      <td>0019_01</td>\n",
       "      <td>True</td>\n",
       "    </tr>\n",
       "    <tr>\n",
       "      <th>3</th>\n",
       "      <td>0021_01</td>\n",
       "      <td>True</td>\n",
       "    </tr>\n",
       "    <tr>\n",
       "      <th>4</th>\n",
       "      <td>0023_01</td>\n",
       "      <td>True</td>\n",
       "    </tr>\n",
       "    <tr>\n",
       "      <th>...</th>\n",
       "      <td>...</td>\n",
       "      <td>...</td>\n",
       "    </tr>\n",
       "    <tr>\n",
       "      <th>4272</th>\n",
       "      <td>9266_02</td>\n",
       "      <td>True</td>\n",
       "    </tr>\n",
       "    <tr>\n",
       "      <th>4273</th>\n",
       "      <td>9269_01</td>\n",
       "      <td>False</td>\n",
       "    </tr>\n",
       "    <tr>\n",
       "      <th>4274</th>\n",
       "      <td>9271_01</td>\n",
       "      <td>True</td>\n",
       "    </tr>\n",
       "    <tr>\n",
       "      <th>4275</th>\n",
       "      <td>9273_01</td>\n",
       "      <td>True</td>\n",
       "    </tr>\n",
       "    <tr>\n",
       "      <th>4276</th>\n",
       "      <td>9277_01</td>\n",
       "      <td>True</td>\n",
       "    </tr>\n",
       "  </tbody>\n",
       "</table>\n",
       "<p>4277 rows × 2 columns</p>\n",
       "</div>"
      ],
      "text/plain": [
       "     PassengerId  Transported\n",
       "0        0013_01         True\n",
       "1        0018_01        False\n",
       "2        0019_01         True\n",
       "3        0021_01         True\n",
       "4        0023_01         True\n",
       "...          ...          ...\n",
       "4272     9266_02         True\n",
       "4273     9269_01        False\n",
       "4274     9271_01         True\n",
       "4275     9273_01         True\n",
       "4276     9277_01         True\n",
       "\n",
       "[4277 rows x 2 columns]"
      ]
     },
     "execution_count": 63,
     "metadata": {},
     "output_type": "execute_result"
    }
   ],
   "source": [
    "predictions = final_pipeline.predict(X_test)\n",
    "X_test['Transported'] = predictions\n",
    "predictions_df = X_test[['PassengerId', 'Transported']]\n",
    "predictions_df['Transported'] = predictions_df['Transported'].map(lambda x: True if x == 1 else False)\n",
    "predictions_df\n",
    "#predictions_df.set_index('PassengerId')"
   ]
  },
  {
   "cell_type": "code",
   "execution_count": 64,
   "id": "8c5813a0",
   "metadata": {
    "execution": {
     "iopub.execute_input": "2024-03-28T22:24:15.815899Z",
     "iopub.status.busy": "2024-03-28T22:24:15.814700Z",
     "iopub.status.idle": "2024-03-28T22:24:15.826219Z",
     "shell.execute_reply": "2024-03-28T22:24:15.825096Z"
    },
    "papermill": {
     "duration": 0.052137,
     "end_time": "2024-03-28T22:24:15.828658",
     "exception": false,
     "start_time": "2024-03-28T22:24:15.776521",
     "status": "completed"
    },
    "tags": []
   },
   "outputs": [],
   "source": [
    "predictions_df.to_csv('submission.csv', index=False)"
   ]
  }
 ],
 "metadata": {
  "kaggle": {
   "accelerator": "none",
   "dataSources": [
    {
     "databundleVersionId": 3220602,
     "sourceId": 34377,
     "sourceType": "competition"
    }
   ],
   "dockerImageVersionId": 30664,
   "isGpuEnabled": false,
   "isInternetEnabled": true,
   "language": "python",
   "sourceType": "notebook"
  },
  "kernelspec": {
   "display_name": "Python 3",
   "language": "python",
   "name": "python3"
  },
  "language_info": {
   "codemirror_mode": {
    "name": "ipython",
    "version": 3
   },
   "file_extension": ".py",
   "mimetype": "text/x-python",
   "name": "python",
   "nbconvert_exporter": "python",
   "pygments_lexer": "ipython3",
   "version": "3.10.13"
  },
  "papermill": {
   "default_parameters": {},
   "duration": 37.671364,
   "end_time": "2024-03-28T22:24:16.688427",
   "environment_variables": {},
   "exception": null,
   "input_path": "__notebook__.ipynb",
   "output_path": "__notebook__.ipynb",
   "parameters": {},
   "start_time": "2024-03-28T22:23:39.017063",
   "version": "2.5.0"
  }
 },
 "nbformat": 4,
 "nbformat_minor": 5
}
