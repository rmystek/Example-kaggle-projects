{
 "cells": [
  {
   "cell_type": "code",
   "execution_count": 1,
   "id": "a8e63966",
   "metadata": {
    "_cell_guid": "b1076dfc-b9ad-4769-8c92-a6c4dae69d19",
    "_uuid": "8f2839f25d086af736a60e9eeb907d3b93b6e0e5",
    "execution": {
     "iopub.execute_input": "2024-04-03T23:04:09.988696Z",
     "iopub.status.busy": "2024-04-03T23:04:09.988144Z",
     "iopub.status.idle": "2024-04-03T23:04:11.494368Z",
     "shell.execute_reply": "2024-04-03T23:04:11.493041Z"
    },
    "papermill": {
     "duration": 1.537176,
     "end_time": "2024-04-03T23:04:11.497675",
     "exception": false,
     "start_time": "2024-04-03T23:04:09.960499",
     "status": "completed"
    },
    "tags": []
   },
   "outputs": [
    {
     "name": "stdout",
     "output_type": "stream",
     "text": [
      "/kaggle/input/playground-series-s4e2/sample_submission.csv\n",
      "/kaggle/input/playground-series-s4e2/train.csv\n",
      "/kaggle/input/playground-series-s4e2/test.csv\n"
     ]
    }
   ],
   "source": [
    "# This Python 3 environment comes with many helpful analytics libraries installed\n",
    "# It is defined by the kaggle/python Docker image: https://github.com/kaggle/docker-python\n",
    "# For example, here's several helpful packages to load\n",
    "\n",
    "import numpy as np # linear algebra\n",
    "import pandas as pd # data processing, CSV file I/O (e.g. pd.read_csv)\n",
    "\n",
    "# Input data files are available in the read-only \"../input/\" directory\n",
    "# For example, running this (by clicking run or pressing Shift+Enter) will list all files under the input directory\n",
    "\n",
    "import os\n",
    "for dirname, _, filenames in os.walk('/kaggle/input'):\n",
    "    for filename in filenames:\n",
    "        print(os.path.join(dirname, filename))\n",
    "\n",
    "# You can write up to 20GB to the current directory (/kaggle/working/) that gets preserved as output when you create a version using \"Save & Run All\" \n",
    "# You can also write temporary files to /kaggle/temp/, but they won't be saved outside of the current session"
   ]
  },
  {
   "cell_type": "code",
   "execution_count": 2,
   "id": "bd277cfd",
   "metadata": {
    "execution": {
     "iopub.execute_input": "2024-04-03T23:04:11.550278Z",
     "iopub.status.busy": "2024-04-03T23:04:11.549233Z",
     "iopub.status.idle": "2024-04-03T23:04:13.602990Z",
     "shell.execute_reply": "2024-04-03T23:04:13.601256Z"
    },
    "papermill": {
     "duration": 2.085397,
     "end_time": "2024-04-03T23:04:13.606952",
     "exception": false,
     "start_time": "2024-04-03T23:04:11.521555",
     "status": "completed"
    },
    "tags": []
   },
   "outputs": [],
   "source": [
    "import matplotlib.pyplot as plt\n",
    "import seaborn as sns\n",
    "%matplotlib inline\n",
    "\n",
    "import warnings\n",
    "warnings.filterwarnings('ignore')"
   ]
  },
  {
   "cell_type": "code",
   "execution_count": 3,
   "id": "aa89c324",
   "metadata": {
    "execution": {
     "iopub.execute_input": "2024-04-03T23:04:13.652974Z",
     "iopub.status.busy": "2024-04-03T23:04:13.652568Z",
     "iopub.status.idle": "2024-04-03T23:04:14.264947Z",
     "shell.execute_reply": "2024-04-03T23:04:14.262733Z"
    },
    "papermill": {
     "duration": 0.639485,
     "end_time": "2024-04-03T23:04:14.268235",
     "exception": false,
     "start_time": "2024-04-03T23:04:13.628750",
     "status": "completed"
    },
    "tags": []
   },
   "outputs": [],
   "source": [
    "from sklearn.preprocessing import OrdinalEncoder\n",
    "\n",
    "X_train = pd.read_csv('/kaggle/input/playground-series-s4e2/train.csv', index_col='id')\n",
    "X_test = pd.read_csv('/kaggle/input/playground-series-s4e2/test.csv', index_col='id')\n",
    "\n",
    "lenc = OrdinalEncoder(categories = [['Insufficient_Weight','Normal_Weight', 'Overweight_Level_I','Overweight_Level_II','Obesity_Type_I','Obesity_Type_II', 'Obesity_Type_III']])\n",
    "#lenc.fit(['Insufficient_Weight','Normal_Weight', 'Overweight_Level_I','Overweight_Level_II','Obesity_Type_I','Obesity_Type_II', 'Obesity_Type_III'])\n",
    "y_train = X_train[['NObeyesdad']]\n",
    "y_train['NObeyesdad'] = lenc.fit_transform(X_train[['NObeyesdad']])\n",
    "X_train['NObeyesdad'] = y_train"
   ]
  },
  {
   "cell_type": "code",
   "execution_count": 4,
   "id": "41902f64",
   "metadata": {
    "execution": {
     "iopub.execute_input": "2024-04-03T23:04:14.318710Z",
     "iopub.status.busy": "2024-04-03T23:04:14.317395Z",
     "iopub.status.idle": "2024-04-03T23:04:14.328068Z",
     "shell.execute_reply": "2024-04-03T23:04:14.326755Z"
    },
    "papermill": {
     "duration": 0.039935,
     "end_time": "2024-04-03T23:04:14.331558",
     "exception": false,
     "start_time": "2024-04-03T23:04:14.291623",
     "status": "completed"
    },
    "tags": []
   },
   "outputs": [
    {
     "data": {
      "text/plain": [
       "(20758, 17)"
      ]
     },
     "execution_count": 4,
     "metadata": {},
     "output_type": "execute_result"
    }
   ],
   "source": [
    "X_train.shape"
   ]
  },
  {
   "cell_type": "code",
   "execution_count": 5,
   "id": "cef78aa6",
   "metadata": {
    "execution": {
     "iopub.execute_input": "2024-04-03T23:04:14.379902Z",
     "iopub.status.busy": "2024-04-03T23:04:14.379466Z",
     "iopub.status.idle": "2024-04-03T23:04:14.423010Z",
     "shell.execute_reply": "2024-04-03T23:04:14.420913Z"
    },
    "papermill": {
     "duration": 0.071752,
     "end_time": "2024-04-03T23:04:14.426573",
     "exception": false,
     "start_time": "2024-04-03T23:04:14.354821",
     "status": "completed"
    },
    "tags": []
   },
   "outputs": [
    {
     "data": {
      "text/html": [
       "<div>\n",
       "<style scoped>\n",
       "    .dataframe tbody tr th:only-of-type {\n",
       "        vertical-align: middle;\n",
       "    }\n",
       "\n",
       "    .dataframe tbody tr th {\n",
       "        vertical-align: top;\n",
       "    }\n",
       "\n",
       "    .dataframe thead th {\n",
       "        text-align: right;\n",
       "    }\n",
       "</style>\n",
       "<table border=\"1\" class=\"dataframe\">\n",
       "  <thead>\n",
       "    <tr style=\"text-align: right;\">\n",
       "      <th></th>\n",
       "      <th>Gender</th>\n",
       "      <th>Age</th>\n",
       "      <th>Height</th>\n",
       "      <th>Weight</th>\n",
       "      <th>family_history_with_overweight</th>\n",
       "      <th>FAVC</th>\n",
       "      <th>FCVC</th>\n",
       "      <th>NCP</th>\n",
       "      <th>CAEC</th>\n",
       "      <th>SMOKE</th>\n",
       "      <th>CH2O</th>\n",
       "      <th>SCC</th>\n",
       "      <th>FAF</th>\n",
       "      <th>TUE</th>\n",
       "      <th>CALC</th>\n",
       "      <th>MTRANS</th>\n",
       "      <th>NObeyesdad</th>\n",
       "    </tr>\n",
       "    <tr>\n",
       "      <th>id</th>\n",
       "      <th></th>\n",
       "      <th></th>\n",
       "      <th></th>\n",
       "      <th></th>\n",
       "      <th></th>\n",
       "      <th></th>\n",
       "      <th></th>\n",
       "      <th></th>\n",
       "      <th></th>\n",
       "      <th></th>\n",
       "      <th></th>\n",
       "      <th></th>\n",
       "      <th></th>\n",
       "      <th></th>\n",
       "      <th></th>\n",
       "      <th></th>\n",
       "      <th></th>\n",
       "    </tr>\n",
       "  </thead>\n",
       "  <tbody>\n",
       "    <tr>\n",
       "      <th>0</th>\n",
       "      <td>Male</td>\n",
       "      <td>24.443011</td>\n",
       "      <td>1.699998</td>\n",
       "      <td>81.669950</td>\n",
       "      <td>yes</td>\n",
       "      <td>yes</td>\n",
       "      <td>2.000000</td>\n",
       "      <td>2.983297</td>\n",
       "      <td>Sometimes</td>\n",
       "      <td>no</td>\n",
       "      <td>2.763573</td>\n",
       "      <td>no</td>\n",
       "      <td>0.000000</td>\n",
       "      <td>0.976473</td>\n",
       "      <td>Sometimes</td>\n",
       "      <td>Public_Transportation</td>\n",
       "      <td>3.0</td>\n",
       "    </tr>\n",
       "    <tr>\n",
       "      <th>1</th>\n",
       "      <td>Female</td>\n",
       "      <td>18.000000</td>\n",
       "      <td>1.560000</td>\n",
       "      <td>57.000000</td>\n",
       "      <td>yes</td>\n",
       "      <td>yes</td>\n",
       "      <td>2.000000</td>\n",
       "      <td>3.000000</td>\n",
       "      <td>Frequently</td>\n",
       "      <td>no</td>\n",
       "      <td>2.000000</td>\n",
       "      <td>no</td>\n",
       "      <td>1.000000</td>\n",
       "      <td>1.000000</td>\n",
       "      <td>no</td>\n",
       "      <td>Automobile</td>\n",
       "      <td>1.0</td>\n",
       "    </tr>\n",
       "    <tr>\n",
       "      <th>2</th>\n",
       "      <td>Female</td>\n",
       "      <td>18.000000</td>\n",
       "      <td>1.711460</td>\n",
       "      <td>50.165754</td>\n",
       "      <td>yes</td>\n",
       "      <td>yes</td>\n",
       "      <td>1.880534</td>\n",
       "      <td>1.411685</td>\n",
       "      <td>Sometimes</td>\n",
       "      <td>no</td>\n",
       "      <td>1.910378</td>\n",
       "      <td>no</td>\n",
       "      <td>0.866045</td>\n",
       "      <td>1.673584</td>\n",
       "      <td>no</td>\n",
       "      <td>Public_Transportation</td>\n",
       "      <td>0.0</td>\n",
       "    </tr>\n",
       "    <tr>\n",
       "      <th>3</th>\n",
       "      <td>Female</td>\n",
       "      <td>20.952737</td>\n",
       "      <td>1.710730</td>\n",
       "      <td>131.274851</td>\n",
       "      <td>yes</td>\n",
       "      <td>yes</td>\n",
       "      <td>3.000000</td>\n",
       "      <td>3.000000</td>\n",
       "      <td>Sometimes</td>\n",
       "      <td>no</td>\n",
       "      <td>1.674061</td>\n",
       "      <td>no</td>\n",
       "      <td>1.467863</td>\n",
       "      <td>0.780199</td>\n",
       "      <td>Sometimes</td>\n",
       "      <td>Public_Transportation</td>\n",
       "      <td>6.0</td>\n",
       "    </tr>\n",
       "    <tr>\n",
       "      <th>4</th>\n",
       "      <td>Male</td>\n",
       "      <td>31.641081</td>\n",
       "      <td>1.914186</td>\n",
       "      <td>93.798055</td>\n",
       "      <td>yes</td>\n",
       "      <td>yes</td>\n",
       "      <td>2.679664</td>\n",
       "      <td>1.971472</td>\n",
       "      <td>Sometimes</td>\n",
       "      <td>no</td>\n",
       "      <td>1.979848</td>\n",
       "      <td>no</td>\n",
       "      <td>1.967973</td>\n",
       "      <td>0.931721</td>\n",
       "      <td>Sometimes</td>\n",
       "      <td>Public_Transportation</td>\n",
       "      <td>3.0</td>\n",
       "    </tr>\n",
       "    <tr>\n",
       "      <th>...</th>\n",
       "      <td>...</td>\n",
       "      <td>...</td>\n",
       "      <td>...</td>\n",
       "      <td>...</td>\n",
       "      <td>...</td>\n",
       "      <td>...</td>\n",
       "      <td>...</td>\n",
       "      <td>...</td>\n",
       "      <td>...</td>\n",
       "      <td>...</td>\n",
       "      <td>...</td>\n",
       "      <td>...</td>\n",
       "      <td>...</td>\n",
       "      <td>...</td>\n",
       "      <td>...</td>\n",
       "      <td>...</td>\n",
       "      <td>...</td>\n",
       "    </tr>\n",
       "    <tr>\n",
       "      <th>20753</th>\n",
       "      <td>Male</td>\n",
       "      <td>25.137087</td>\n",
       "      <td>1.766626</td>\n",
       "      <td>114.187096</td>\n",
       "      <td>yes</td>\n",
       "      <td>yes</td>\n",
       "      <td>2.919584</td>\n",
       "      <td>3.000000</td>\n",
       "      <td>Sometimes</td>\n",
       "      <td>no</td>\n",
       "      <td>2.151809</td>\n",
       "      <td>no</td>\n",
       "      <td>1.330519</td>\n",
       "      <td>0.196680</td>\n",
       "      <td>Sometimes</td>\n",
       "      <td>Public_Transportation</td>\n",
       "      <td>5.0</td>\n",
       "    </tr>\n",
       "    <tr>\n",
       "      <th>20754</th>\n",
       "      <td>Male</td>\n",
       "      <td>18.000000</td>\n",
       "      <td>1.710000</td>\n",
       "      <td>50.000000</td>\n",
       "      <td>no</td>\n",
       "      <td>yes</td>\n",
       "      <td>3.000000</td>\n",
       "      <td>4.000000</td>\n",
       "      <td>Frequently</td>\n",
       "      <td>no</td>\n",
       "      <td>1.000000</td>\n",
       "      <td>no</td>\n",
       "      <td>2.000000</td>\n",
       "      <td>1.000000</td>\n",
       "      <td>Sometimes</td>\n",
       "      <td>Public_Transportation</td>\n",
       "      <td>0.0</td>\n",
       "    </tr>\n",
       "    <tr>\n",
       "      <th>20755</th>\n",
       "      <td>Male</td>\n",
       "      <td>20.101026</td>\n",
       "      <td>1.819557</td>\n",
       "      <td>105.580491</td>\n",
       "      <td>yes</td>\n",
       "      <td>yes</td>\n",
       "      <td>2.407817</td>\n",
       "      <td>3.000000</td>\n",
       "      <td>Sometimes</td>\n",
       "      <td>no</td>\n",
       "      <td>2.000000</td>\n",
       "      <td>no</td>\n",
       "      <td>1.158040</td>\n",
       "      <td>1.198439</td>\n",
       "      <td>no</td>\n",
       "      <td>Public_Transportation</td>\n",
       "      <td>5.0</td>\n",
       "    </tr>\n",
       "    <tr>\n",
       "      <th>20756</th>\n",
       "      <td>Male</td>\n",
       "      <td>33.852953</td>\n",
       "      <td>1.700000</td>\n",
       "      <td>83.520113</td>\n",
       "      <td>yes</td>\n",
       "      <td>yes</td>\n",
       "      <td>2.671238</td>\n",
       "      <td>1.971472</td>\n",
       "      <td>Sometimes</td>\n",
       "      <td>no</td>\n",
       "      <td>2.144838</td>\n",
       "      <td>no</td>\n",
       "      <td>0.000000</td>\n",
       "      <td>0.973834</td>\n",
       "      <td>no</td>\n",
       "      <td>Automobile</td>\n",
       "      <td>3.0</td>\n",
       "    </tr>\n",
       "    <tr>\n",
       "      <th>20757</th>\n",
       "      <td>Male</td>\n",
       "      <td>26.680376</td>\n",
       "      <td>1.816547</td>\n",
       "      <td>118.134898</td>\n",
       "      <td>yes</td>\n",
       "      <td>yes</td>\n",
       "      <td>3.000000</td>\n",
       "      <td>3.000000</td>\n",
       "      <td>Sometimes</td>\n",
       "      <td>no</td>\n",
       "      <td>2.003563</td>\n",
       "      <td>no</td>\n",
       "      <td>0.684487</td>\n",
       "      <td>0.713823</td>\n",
       "      <td>Sometimes</td>\n",
       "      <td>Public_Transportation</td>\n",
       "      <td>5.0</td>\n",
       "    </tr>\n",
       "  </tbody>\n",
       "</table>\n",
       "<p>20758 rows × 17 columns</p>\n",
       "</div>"
      ],
      "text/plain": [
       "       Gender        Age    Height      Weight family_history_with_overweight  \\\n",
       "id                                                                              \n",
       "0        Male  24.443011  1.699998   81.669950                            yes   \n",
       "1      Female  18.000000  1.560000   57.000000                            yes   \n",
       "2      Female  18.000000  1.711460   50.165754                            yes   \n",
       "3      Female  20.952737  1.710730  131.274851                            yes   \n",
       "4        Male  31.641081  1.914186   93.798055                            yes   \n",
       "...       ...        ...       ...         ...                            ...   \n",
       "20753    Male  25.137087  1.766626  114.187096                            yes   \n",
       "20754    Male  18.000000  1.710000   50.000000                             no   \n",
       "20755    Male  20.101026  1.819557  105.580491                            yes   \n",
       "20756    Male  33.852953  1.700000   83.520113                            yes   \n",
       "20757    Male  26.680376  1.816547  118.134898                            yes   \n",
       "\n",
       "      FAVC      FCVC       NCP        CAEC SMOKE      CH2O SCC       FAF  \\\n",
       "id                                                                         \n",
       "0      yes  2.000000  2.983297   Sometimes    no  2.763573  no  0.000000   \n",
       "1      yes  2.000000  3.000000  Frequently    no  2.000000  no  1.000000   \n",
       "2      yes  1.880534  1.411685   Sometimes    no  1.910378  no  0.866045   \n",
       "3      yes  3.000000  3.000000   Sometimes    no  1.674061  no  1.467863   \n",
       "4      yes  2.679664  1.971472   Sometimes    no  1.979848  no  1.967973   \n",
       "...    ...       ...       ...         ...   ...       ...  ..       ...   \n",
       "20753  yes  2.919584  3.000000   Sometimes    no  2.151809  no  1.330519   \n",
       "20754  yes  3.000000  4.000000  Frequently    no  1.000000  no  2.000000   \n",
       "20755  yes  2.407817  3.000000   Sometimes    no  2.000000  no  1.158040   \n",
       "20756  yes  2.671238  1.971472   Sometimes    no  2.144838  no  0.000000   \n",
       "20757  yes  3.000000  3.000000   Sometimes    no  2.003563  no  0.684487   \n",
       "\n",
       "            TUE       CALC                 MTRANS  NObeyesdad  \n",
       "id                                                             \n",
       "0      0.976473  Sometimes  Public_Transportation         3.0  \n",
       "1      1.000000         no             Automobile         1.0  \n",
       "2      1.673584         no  Public_Transportation         0.0  \n",
       "3      0.780199  Sometimes  Public_Transportation         6.0  \n",
       "4      0.931721  Sometimes  Public_Transportation         3.0  \n",
       "...         ...        ...                    ...         ...  \n",
       "20753  0.196680  Sometimes  Public_Transportation         5.0  \n",
       "20754  1.000000  Sometimes  Public_Transportation         0.0  \n",
       "20755  1.198439         no  Public_Transportation         5.0  \n",
       "20756  0.973834         no             Automobile         3.0  \n",
       "20757  0.713823  Sometimes  Public_Transportation         5.0  \n",
       "\n",
       "[20758 rows x 17 columns]"
      ]
     },
     "execution_count": 5,
     "metadata": {},
     "output_type": "execute_result"
    }
   ],
   "source": [
    "X_train"
   ]
  },
  {
   "cell_type": "code",
   "execution_count": 6,
   "id": "d04fa869",
   "metadata": {
    "execution": {
     "iopub.execute_input": "2024-04-03T23:04:14.477334Z",
     "iopub.status.busy": "2024-04-03T23:04:14.476038Z",
     "iopub.status.idle": "2024-04-03T23:04:14.505604Z",
     "shell.execute_reply": "2024-04-03T23:04:14.504154Z"
    },
    "papermill": {
     "duration": 0.059284,
     "end_time": "2024-04-03T23:04:14.508865",
     "exception": false,
     "start_time": "2024-04-03T23:04:14.449581",
     "status": "completed"
    },
    "tags": []
   },
   "outputs": [
    {
     "data": {
      "text/plain": [
       "Gender                            0\n",
       "Age                               0\n",
       "Height                            0\n",
       "Weight                            0\n",
       "family_history_with_overweight    0\n",
       "FAVC                              0\n",
       "FCVC                              0\n",
       "NCP                               0\n",
       "CAEC                              0\n",
       "SMOKE                             0\n",
       "CH2O                              0\n",
       "SCC                               0\n",
       "FAF                               0\n",
       "TUE                               0\n",
       "CALC                              0\n",
       "MTRANS                            0\n",
       "NObeyesdad                        0\n",
       "dtype: int64"
      ]
     },
     "execution_count": 6,
     "metadata": {},
     "output_type": "execute_result"
    }
   ],
   "source": [
    "X_train.isna().sum()"
   ]
  },
  {
   "cell_type": "markdown",
   "id": "cbb651d6",
   "metadata": {
    "papermill": {
     "duration": 0.022108,
     "end_time": "2024-04-03T23:04:14.553299",
     "exception": false,
     "start_time": "2024-04-03T23:04:14.531191",
     "status": "completed"
    },
    "tags": []
   },
   "source": [
    "No missing values"
   ]
  },
  {
   "cell_type": "code",
   "execution_count": 7,
   "id": "76e92b49",
   "metadata": {
    "execution": {
     "iopub.execute_input": "2024-04-03T23:04:14.599980Z",
     "iopub.status.busy": "2024-04-03T23:04:14.599494Z",
     "iopub.status.idle": "2024-04-03T23:04:14.629959Z",
     "shell.execute_reply": "2024-04-03T23:04:14.628549Z"
    },
    "papermill": {
     "duration": 0.05786,
     "end_time": "2024-04-03T23:04:14.632816",
     "exception": false,
     "start_time": "2024-04-03T23:04:14.574956",
     "status": "completed"
    },
    "tags": []
   },
   "outputs": [
    {
     "data": {
      "text/plain": [
       "Gender                            2\n",
       "family_history_with_overweight    2\n",
       "FAVC                              2\n",
       "CAEC                              4\n",
       "SMOKE                             2\n",
       "SCC                               2\n",
       "CALC                              3\n",
       "MTRANS                            5\n",
       "dtype: int64"
      ]
     },
     "execution_count": 7,
     "metadata": {},
     "output_type": "execute_result"
    }
   ],
   "source": [
    "X_train.select_dtypes(include=['category', 'object']).nunique()"
   ]
  },
  {
   "cell_type": "code",
   "execution_count": 8,
   "id": "a6ee978c",
   "metadata": {
    "execution": {
     "iopub.execute_input": "2024-04-03T23:04:14.680233Z",
     "iopub.status.busy": "2024-04-03T23:04:14.679583Z",
     "iopub.status.idle": "2024-04-03T23:04:14.709013Z",
     "shell.execute_reply": "2024-04-03T23:04:14.707123Z"
    },
    "papermill": {
     "duration": 0.057366,
     "end_time": "2024-04-03T23:04:14.712509",
     "exception": false,
     "start_time": "2024-04-03T23:04:14.655143",
     "status": "completed"
    },
    "tags": []
   },
   "outputs": [
    {
     "name": "stdout",
     "output_type": "stream",
     "text": [
      "['Male' 'Female']\n",
      "['yes' 'no']\n",
      "['yes' 'no']\n",
      "['Sometimes' 'Frequently' 'no' 'Always']\n",
      "['no' 'yes']\n",
      "['no' 'yes']\n",
      "['Sometimes' 'no' 'Frequently']\n",
      "['Public_Transportation' 'Automobile' 'Walking' 'Motorbike' 'Bike']\n"
     ]
    }
   ],
   "source": [
    "for col in X_train.select_dtypes(include=['category', 'object']).columns:\n",
    "    print(X_train[col].unique())"
   ]
  },
  {
   "cell_type": "markdown",
   "id": "b2adb174",
   "metadata": {
    "papermill": {
     "duration": 0.022,
     "end_time": "2024-04-03T23:04:14.757375",
     "exception": false,
     "start_time": "2024-04-03T23:04:14.735375",
     "status": "completed"
    },
    "tags": []
   },
   "source": [
    "There are not typos in labels"
   ]
  },
  {
   "cell_type": "markdown",
   "id": "67591ff0",
   "metadata": {
    "papermill": {
     "duration": 0.024595,
     "end_time": "2024-04-03T23:04:14.806331",
     "exception": false,
     "start_time": "2024-04-03T23:04:14.781736",
     "status": "completed"
    },
    "tags": []
   },
   "source": [
    "Let's define basic model for evaluation"
   ]
  },
  {
   "cell_type": "code",
   "execution_count": 9,
   "id": "40834342",
   "metadata": {
    "execution": {
     "iopub.execute_input": "2024-04-03T23:04:14.859087Z",
     "iopub.status.busy": "2024-04-03T23:04:14.857690Z",
     "iopub.status.idle": "2024-04-03T23:04:15.352534Z",
     "shell.execute_reply": "2024-04-03T23:04:15.350016Z"
    },
    "papermill": {
     "duration": 0.529623,
     "end_time": "2024-04-03T23:04:15.358174",
     "exception": false,
     "start_time": "2024-04-03T23:04:14.828551",
     "status": "completed"
    },
    "tags": []
   },
   "outputs": [],
   "source": [
    "from sklearn.model_selection import cross_val_score\n",
    "from xgboost import XGBClassifier\n",
    "from sklearn.metrics import accuracy_score\n",
    "from sklearn.model_selection import KFold\n",
    "\n",
    "def evaluate_data(data, target):\n",
    "    model = XGBClassifier(n_estimators = 100, eval_metric = 'mlogloss', random_state=0)\n",
    "    data = data.select_dtypes(exclude=['category','object'])\n",
    "    return cross_val_score(model,data.loc[:,data.columns != 'NObeyesdad'], target, scoring='accuracy').mean()\n",
    "\n",
    "def evaluate_outlier_removal(new_data,ref_data,ref_target):\n",
    "    model = XGBClassifier(n_estimators = 100, eval_metric = 'mlogloss', random_state=0)\n",
    "    kfold = KFold(5)\n",
    "    \n",
    "    new_data = new_data.select_dtypes(exclude=['category','object'])\n",
    "    new_data = new_data.loc[:,new_data.columns != 'NObeyesdad']\n",
    "    ref_data = ref_data.select_dtypes(exclude=['category','object'])\n",
    "    ref_data = ref_data.loc[:,ref_data.columns != 'NObeyesdad']\n",
    "    \n",
    "    acc = 0\n",
    "    \n",
    "    for train_index, test_index in kfold.split(ref_data,ref_target):\n",
    "        train_index = ref_data.iloc[train_index].index\n",
    "        model.fit(new_data.loc[[x for x in train_index if x in new_data.index]], ref_target.loc[[x for x in train_index if x in new_data.index]])\n",
    "        pred = model.predict(ref_data.iloc[test_index])\n",
    "        acc += accuracy_score(pred, ref_target.iloc[test_index])\n",
    "        \n",
    "    return acc/5\n",
    "    \n",
    "\n",
    "def misclassified(data,target,model = None):\n",
    "    if model is None:\n",
    "        model = XGBClassifier(n_estimators = 100, eval_metric = 'mlogloss', random_state=0)\n",
    "        kfold = KFold(5)\n",
    "\n",
    "        data = data.select_dtypes(exclude=['category','object'])\n",
    "        data = data.loc[:,data.columns != 'NObeyesdad']\n",
    "        mc = []\n",
    "        for train_index, test_index in kfold.split(data,target):\n",
    "            model.fit(data.iloc[train_index], target[train_index])\n",
    "            pred = model.predict(data.iloc[test_index])\n",
    "            misclass = data.iloc[test_index]\n",
    "            misclass['NObeyesdad'] = target[test_index]\n",
    "            misclass['preds'] = pred\n",
    "            mc.append(misclass[misclass['preds'] != target[test_index]])\n",
    "            \n",
    "        mc = pd.concat(mc)\n",
    "    else:\n",
    "        pred = model.predict(data)\n",
    "        data['target'] = target\n",
    "        data['preds'] = pred\n",
    "        mc = data[data['target']!=data['preds']]\n",
    "        data.drop(columns = ['target', 'preds'], inplace=True)\n",
    "        \n",
    "    return mc\n",
    "        "
   ]
  },
  {
   "cell_type": "code",
   "execution_count": 10,
   "id": "2c1d9339",
   "metadata": {
    "execution": {
     "iopub.execute_input": "2024-04-03T23:04:15.422314Z",
     "iopub.status.busy": "2024-04-03T23:04:15.420435Z",
     "iopub.status.idle": "2024-04-03T23:04:23.915775Z",
     "shell.execute_reply": "2024-04-03T23:04:23.914706Z"
    },
    "papermill": {
     "duration": 8.52737,
     "end_time": "2024-04-03T23:04:23.918837",
     "exception": false,
     "start_time": "2024-04-03T23:04:15.391467",
     "status": "completed"
    },
    "tags": []
   },
   "outputs": [
    {
     "data": {
      "text/plain": [
       "0.8910299256998222"
      ]
     },
     "execution_count": 10,
     "metadata": {},
     "output_type": "execute_result"
    }
   ],
   "source": [
    "evaluate_data(X_train, y_train)"
   ]
  },
  {
   "cell_type": "code",
   "execution_count": 11,
   "id": "772439f3",
   "metadata": {
    "execution": {
     "iopub.execute_input": "2024-04-03T23:04:23.973830Z",
     "iopub.status.busy": "2024-04-03T23:04:23.973194Z",
     "iopub.status.idle": "2024-04-03T23:04:23.990667Z",
     "shell.execute_reply": "2024-04-03T23:04:23.989339Z"
    },
    "papermill": {
     "duration": 0.053031,
     "end_time": "2024-04-03T23:04:23.995192",
     "exception": false,
     "start_time": "2024-04-03T23:04:23.942161",
     "status": "completed"
    },
    "tags": []
   },
   "outputs": [
    {
     "data": {
      "text/plain": [
       "Age           1.586252\n",
       "Height        0.015803\n",
       "Weight        0.093187\n",
       "FCVC         -0.356611\n",
       "NCP          -1.562253\n",
       "CH2O         -0.212506\n",
       "FAF           0.505726\n",
       "TUE           0.670411\n",
       "NObeyesdad   -0.143680\n",
       "dtype: float64"
      ]
     },
     "execution_count": 11,
     "metadata": {},
     "output_type": "execute_result"
    }
   ],
   "source": [
    "X_train.select_dtypes(exclude=['category', 'object']).skew()"
   ]
  },
  {
   "cell_type": "markdown",
   "id": "f3910337",
   "metadata": {
    "papermill": {
     "duration": 0.02278,
     "end_time": "2024-04-03T23:04:24.044763",
     "exception": false,
     "start_time": "2024-04-03T23:04:24.021983",
     "status": "completed"
    },
    "tags": []
   },
   "source": [
    "Data is a bit skewed, let's experiment if we should try normalizig it"
   ]
  },
  {
   "cell_type": "code",
   "execution_count": 12,
   "id": "3a825a9e",
   "metadata": {
    "execution": {
     "iopub.execute_input": "2024-04-03T23:04:24.097611Z",
     "iopub.status.busy": "2024-04-03T23:04:24.096758Z",
     "iopub.status.idle": "2024-04-03T23:04:24.108938Z",
     "shell.execute_reply": "2024-04-03T23:04:24.106969Z"
    },
    "papermill": {
     "duration": 0.043434,
     "end_time": "2024-04-03T23:04:24.112729",
     "exception": false,
     "start_time": "2024-04-03T23:04:24.069295",
     "status": "completed"
    },
    "tags": []
   },
   "outputs": [],
   "source": [
    "tmp = X_train.copy()\n",
    "tmp['Age'] = np.log10(tmp['Age'])"
   ]
  },
  {
   "cell_type": "code",
   "execution_count": 13,
   "id": "53883713",
   "metadata": {
    "execution": {
     "iopub.execute_input": "2024-04-03T23:04:24.166897Z",
     "iopub.status.busy": "2024-04-03T23:04:24.165202Z",
     "iopub.status.idle": "2024-04-03T23:04:32.694128Z",
     "shell.execute_reply": "2024-04-03T23:04:32.692980Z"
    },
    "papermill": {
     "duration": 8.557729,
     "end_time": "2024-04-03T23:04:32.697108",
     "exception": false,
     "start_time": "2024-04-03T23:04:24.139379",
     "status": "completed"
    },
    "tags": []
   },
   "outputs": [
    {
     "data": {
      "text/plain": [
       "0.8910299256998222"
      ]
     },
     "execution_count": 13,
     "metadata": {},
     "output_type": "execute_result"
    }
   ],
   "source": [
    "evaluate_data(tmp, y_train)"
   ]
  },
  {
   "cell_type": "markdown",
   "id": "9a3125f6",
   "metadata": {
    "papermill": {
     "duration": 0.022668,
     "end_time": "2024-04-03T23:04:32.743168",
     "exception": false,
     "start_time": "2024-04-03T23:04:32.720500",
     "status": "completed"
    },
    "tags": []
   },
   "source": [
    "No impact"
   ]
  },
  {
   "cell_type": "markdown",
   "id": "ebaa2f34",
   "metadata": {
    "papermill": {
     "duration": 0.024185,
     "end_time": "2024-04-03T23:04:32.790676",
     "exception": false,
     "start_time": "2024-04-03T23:04:32.766491",
     "status": "completed"
    },
    "tags": []
   },
   "source": [
    "Let's add BMI column"
   ]
  },
  {
   "cell_type": "code",
   "execution_count": 14,
   "id": "5ebb13f8",
   "metadata": {
    "execution": {
     "iopub.execute_input": "2024-04-03T23:04:32.842895Z",
     "iopub.status.busy": "2024-04-03T23:04:32.840990Z",
     "iopub.status.idle": "2024-04-03T23:04:32.853003Z",
     "shell.execute_reply": "2024-04-03T23:04:32.851397Z"
    },
    "papermill": {
     "duration": 0.040624,
     "end_time": "2024-04-03T23:04:32.855908",
     "exception": false,
     "start_time": "2024-04-03T23:04:32.815284",
     "status": "completed"
    },
    "tags": []
   },
   "outputs": [],
   "source": [
    "X_train['BMI'] = X_train['Weight'] / X_train['Height']**2\n",
    "X_test['BMI'] = X_test['Weight'] / X_test['Height']**2"
   ]
  },
  {
   "cell_type": "code",
   "execution_count": 15,
   "id": "7708ebc0",
   "metadata": {
    "execution": {
     "iopub.execute_input": "2024-04-03T23:04:32.905467Z",
     "iopub.status.busy": "2024-04-03T23:04:32.904977Z",
     "iopub.status.idle": "2024-04-03T23:04:32.913706Z",
     "shell.execute_reply": "2024-04-03T23:04:32.911868Z"
    },
    "papermill": {
     "duration": 0.037135,
     "end_time": "2024-04-03T23:04:32.916558",
     "exception": false,
     "start_time": "2024-04-03T23:04:32.879423",
     "status": "completed"
    },
    "tags": []
   },
   "outputs": [
    {
     "data": {
      "text/plain": [
       "'evaluate_data(X_train, y_train)'"
      ]
     },
     "execution_count": 15,
     "metadata": {},
     "output_type": "execute_result"
    }
   ],
   "source": [
    "'''evaluate_data(X_train, y_train)'''"
   ]
  },
  {
   "cell_type": "markdown",
   "id": "89e124bb",
   "metadata": {
    "papermill": {
     "duration": 0.025983,
     "end_time": "2024-04-03T23:04:33.070394",
     "exception": false,
     "start_time": "2024-04-03T23:04:33.044411",
     "status": "completed"
    },
    "tags": []
   },
   "source": [
    "Let's round height, weight and age"
   ]
  },
  {
   "cell_type": "code",
   "execution_count": 16,
   "id": "32d939c2",
   "metadata": {
    "execution": {
     "iopub.execute_input": "2024-04-03T23:04:33.120465Z",
     "iopub.status.busy": "2024-04-03T23:04:33.119956Z",
     "iopub.status.idle": "2024-04-03T23:04:33.151005Z",
     "shell.execute_reply": "2024-04-03T23:04:33.148815Z"
    },
    "papermill": {
     "duration": 0.059769,
     "end_time": "2024-04-03T23:04:33.154365",
     "exception": false,
     "start_time": "2024-04-03T23:04:33.094596",
     "status": "completed"
    },
    "tags": []
   },
   "outputs": [],
   "source": [
    "X_train = X_train.round({'Age':0, 'Height': 2, 'Weight':1})\n",
    "X_test = X_test.round({'Age':0, 'Height': 2, 'Weight':1})"
   ]
  },
  {
   "cell_type": "markdown",
   "id": "9f8ae61f",
   "metadata": {
    "papermill": {
     "duration": 0.026714,
     "end_time": "2024-04-03T23:04:33.205471",
     "exception": false,
     "start_time": "2024-04-03T23:04:33.178757",
     "status": "completed"
    },
    "tags": []
   },
   "source": [
    "Interestingly enough it doesn't lead to better results, probably because BMI is pretty poor measure actually. If however BMI is small, it is hardly possible for someone to be obese, so we can consider such cases to be outliers and remove them. Similarly if BMI is high it is impossible to be underweight."
   ]
  },
  {
   "cell_type": "code",
   "execution_count": 17,
   "id": "8bd6d92b",
   "metadata": {
    "execution": {
     "iopub.execute_input": "2024-04-03T23:04:33.260372Z",
     "iopub.status.busy": "2024-04-03T23:04:33.259821Z",
     "iopub.status.idle": "2024-04-03T23:04:33.268646Z",
     "shell.execute_reply": "2024-04-03T23:04:33.267143Z"
    },
    "papermill": {
     "duration": 0.038871,
     "end_time": "2024-04-03T23:04:33.271911",
     "exception": false,
     "start_time": "2024-04-03T23:04:33.233040",
     "status": "completed"
    },
    "tags": []
   },
   "outputs": [
    {
     "data": {
      "text/plain": [
       "\"for i in range(8):\\n    idx = ~((X_train['BMI']>=(18.5+0.5*i)) & (X_train['NObeyesdad'] < 1))\\n    print(18.5+0.5*i,evaluate_outlier_removal(X_train[idx],X_train,y_train))\""
      ]
     },
     "execution_count": 17,
     "metadata": {},
     "output_type": "execute_result"
    }
   ],
   "source": [
    "'''for i in range(8):\n",
    "    idx = ~((X_train['BMI']>=(18.5+0.5*i)) & (X_train['NObeyesdad'] < 1))\n",
    "    print(18.5+0.5*i,evaluate_outlier_removal(X_train[idx],X_train,y_train))'''"
   ]
  },
  {
   "cell_type": "markdown",
   "id": "fba5ee13",
   "metadata": {
    "papermill": {
     "duration": 0.025475,
     "end_time": "2024-04-03T23:04:33.321913",
     "exception": false,
     "start_time": "2024-04-03T23:04:33.296438",
     "status": "completed"
    },
    "tags": []
   },
   "source": [
    "20.5 gives best results, so we remove those with BMI over 20.5 and classified as Underweight"
   ]
  },
  {
   "cell_type": "code",
   "execution_count": 18,
   "id": "9f0f8898",
   "metadata": {
    "execution": {
     "iopub.execute_input": "2024-04-03T23:04:33.373729Z",
     "iopub.status.busy": "2024-04-03T23:04:33.373317Z",
     "iopub.status.idle": "2024-04-03T23:04:33.387865Z",
     "shell.execute_reply": "2024-04-03T23:04:33.386208Z"
    },
    "papermill": {
     "duration": 0.044416,
     "end_time": "2024-04-03T23:04:33.391456",
     "exception": false,
     "start_time": "2024-04-03T23:04:33.347040",
     "status": "completed"
    },
    "tags": []
   },
   "outputs": [],
   "source": [
    "idx = ~((X_train['BMI']>=(20.5)) & (X_train['NObeyesdad'] < 1))\n",
    "X_train = X_train[idx]\n",
    "y_train = y_train[idx]"
   ]
  },
  {
   "cell_type": "code",
   "execution_count": 19,
   "id": "2bcf49bc",
   "metadata": {
    "execution": {
     "iopub.execute_input": "2024-04-03T23:04:33.442679Z",
     "iopub.status.busy": "2024-04-03T23:04:33.442263Z",
     "iopub.status.idle": "2024-04-03T23:04:33.463510Z",
     "shell.execute_reply": "2024-04-03T23:04:33.462349Z"
    },
    "papermill": {
     "duration": 0.050522,
     "end_time": "2024-04-03T23:04:33.466284",
     "exception": false,
     "start_time": "2024-04-03T23:04:33.415762",
     "status": "completed"
    },
    "tags": []
   },
   "outputs": [
    {
     "name": "stdout",
     "output_type": "stream",
     "text": [
      "16\n",
      "19\n",
      "21\n",
      "23\n",
      "27\n",
      "36\n",
      "50\n",
      "62\n",
      "90\n",
      "111\n",
      "145\n",
      "192\n",
      "327\n",
      "504\n"
     ]
    }
   ],
   "source": [
    "for i in range(14):\n",
    "    print(len(X_train[((X_train['BMI']<=18.5 + 0.5*i) & (X_train['NObeyesdad'] > 1))]))"
   ]
  },
  {
   "cell_type": "code",
   "execution_count": 20,
   "id": "791817a5",
   "metadata": {
    "execution": {
     "iopub.execute_input": "2024-04-03T23:04:33.515873Z",
     "iopub.status.busy": "2024-04-03T23:04:33.515364Z",
     "iopub.status.idle": "2024-04-03T23:04:33.523538Z",
     "shell.execute_reply": "2024-04-03T23:04:33.522244Z"
    },
    "papermill": {
     "duration": 0.035499,
     "end_time": "2024-04-03T23:04:33.525981",
     "exception": false,
     "start_time": "2024-04-03T23:04:33.490482",
     "status": "completed"
    },
    "tags": []
   },
   "outputs": [
    {
     "data": {
      "text/plain": [
       "\"for i in range(15):\\n    idx = ~((X_train['BMI']<=(19.5+0.1*i)) & (X_train['NObeyesdad'] > 1))\\n    print(19.5 + 0.1*i,evaluate_outlier_removal(X_train[idx],X_train,y_train))\""
      ]
     },
     "execution_count": 20,
     "metadata": {},
     "output_type": "execute_result"
    }
   ],
   "source": [
    "'''for i in range(15):\n",
    "    idx = ~((X_train['BMI']<=(19.5+0.1*i)) & (X_train['NObeyesdad'] > 1))\n",
    "    print(19.5 + 0.1*i,evaluate_outlier_removal(X_train[idx],X_train,y_train))'''"
   ]
  },
  {
   "cell_type": "markdown",
   "id": "6dc5922d",
   "metadata": {
    "papermill": {
     "duration": 0.025641,
     "end_time": "2024-04-03T23:04:33.576333",
     "exception": false,
     "start_time": "2024-04-03T23:04:33.550692",
     "status": "completed"
    },
    "tags": []
   },
   "source": [
    "Best result for 20.0. We romve those with BMI of 20 or less and classified as overweight"
   ]
  },
  {
   "cell_type": "code",
   "execution_count": 21,
   "id": "e5284275",
   "metadata": {
    "execution": {
     "iopub.execute_input": "2024-04-03T23:04:33.628301Z",
     "iopub.status.busy": "2024-04-03T23:04:33.627829Z",
     "iopub.status.idle": "2024-04-03T23:04:33.641978Z",
     "shell.execute_reply": "2024-04-03T23:04:33.640713Z"
    },
    "papermill": {
     "duration": 0.04298,
     "end_time": "2024-04-03T23:04:33.644819",
     "exception": false,
     "start_time": "2024-04-03T23:04:33.601839",
     "status": "completed"
    },
    "tags": []
   },
   "outputs": [],
   "source": [
    "idx =  ~((X_train['BMI']<=(20)) & (X_train['NObeyesdad'] > 1))\n",
    "X_train = X_train[idx]\n",
    "y_train = y_train[idx]"
   ]
  },
  {
   "cell_type": "code",
   "execution_count": 22,
   "id": "353cb852",
   "metadata": {
    "execution": {
     "iopub.execute_input": "2024-04-03T23:04:33.696109Z",
     "iopub.status.busy": "2024-04-03T23:04:33.695546Z",
     "iopub.status.idle": "2024-04-03T23:04:43.700870Z",
     "shell.execute_reply": "2024-04-03T23:04:43.699891Z"
    },
    "papermill": {
     "duration": 10.033871,
     "end_time": "2024-04-03T23:04:43.703308",
     "exception": false,
     "start_time": "2024-04-03T23:04:33.669437",
     "status": "completed"
    },
    "tags": []
   },
   "outputs": [
    {
     "data": {
      "text/plain": [
       "0.8922332446165013"
      ]
     },
     "execution_count": 22,
     "metadata": {},
     "output_type": "execute_result"
    }
   ],
   "source": [
    "evaluate_data(X_train, y_train)"
   ]
  },
  {
   "cell_type": "markdown",
   "id": "1df2a3e1",
   "metadata": {
    "papermill": {
     "duration": 0.02356,
     "end_time": "2024-04-03T23:04:43.750701",
     "exception": false,
     "start_time": "2024-04-03T23:04:43.727141",
     "status": "completed"
    },
    "tags": []
   },
   "source": [
    "People with high weight and high BMI are a harder case, because BMI does not factor in bodyfat percentage and so muscular people are often misclassified. It is reasonable to assume however that if someone is two or more categories above what his BMI suggests, it is probably an outlier. \n",
    "Problem is however that classification does not follow BMI standard, so we need to approach differently."
   ]
  },
  {
   "cell_type": "code",
   "execution_count": 23,
   "id": "365d989b",
   "metadata": {
    "execution": {
     "iopub.execute_input": "2024-04-03T23:04:43.802915Z",
     "iopub.status.busy": "2024-04-03T23:04:43.802337Z",
     "iopub.status.idle": "2024-04-03T23:04:43.850077Z",
     "shell.execute_reply": "2024-04-03T23:04:43.848561Z"
    },
    "papermill": {
     "duration": 0.07662,
     "end_time": "2024-04-03T23:04:43.852611",
     "exception": false,
     "start_time": "2024-04-03T23:04:43.775991",
     "status": "completed"
    },
    "tags": []
   },
   "outputs": [
    {
     "data": {
      "text/html": [
       "<div>\n",
       "<style scoped>\n",
       "    .dataframe tbody tr th:only-of-type {\n",
       "        vertical-align: middle;\n",
       "    }\n",
       "\n",
       "    .dataframe tbody tr th {\n",
       "        vertical-align: top;\n",
       "    }\n",
       "\n",
       "    .dataframe thead th {\n",
       "        text-align: right;\n",
       "    }\n",
       "</style>\n",
       "<table border=\"1\" class=\"dataframe\">\n",
       "  <thead>\n",
       "    <tr style=\"text-align: right;\">\n",
       "      <th></th>\n",
       "      <th>count</th>\n",
       "      <th>mean</th>\n",
       "      <th>std</th>\n",
       "      <th>min</th>\n",
       "      <th>25%</th>\n",
       "      <th>50%</th>\n",
       "      <th>75%</th>\n",
       "      <th>max</th>\n",
       "    </tr>\n",
       "    <tr>\n",
       "      <th>NObeyesdad</th>\n",
       "      <th></th>\n",
       "      <th></th>\n",
       "      <th></th>\n",
       "      <th></th>\n",
       "      <th></th>\n",
       "      <th></th>\n",
       "      <th></th>\n",
       "      <th></th>\n",
       "    </tr>\n",
       "  </thead>\n",
       "  <tbody>\n",
       "    <tr>\n",
       "      <th>0.0</th>\n",
       "      <td>2453.0</td>\n",
       "      <td>17.439496</td>\n",
       "      <td>1.000270</td>\n",
       "      <td>12.868541</td>\n",
       "      <td>16.979592</td>\n",
       "      <td>17.492242</td>\n",
       "      <td>17.944031</td>\n",
       "      <td>20.499483</td>\n",
       "    </tr>\n",
       "    <tr>\n",
       "      <th>1.0</th>\n",
       "      <td>3082.0</td>\n",
       "      <td>22.000999</td>\n",
       "      <td>2.194097</td>\n",
       "      <td>14.631670</td>\n",
       "      <td>20.568937</td>\n",
       "      <td>22.038567</td>\n",
       "      <td>23.661439</td>\n",
       "      <td>32.882414</td>\n",
       "    </tr>\n",
       "    <tr>\n",
       "      <th>2.0</th>\n",
       "      <td>2408.0</td>\n",
       "      <td>26.122946</td>\n",
       "      <td>1.620367</td>\n",
       "      <td>20.195092</td>\n",
       "      <td>25.390625</td>\n",
       "      <td>25.971309</td>\n",
       "      <td>26.672763</td>\n",
       "      <td>35.555556</td>\n",
       "    </tr>\n",
       "    <tr>\n",
       "      <th>3.0</th>\n",
       "      <td>2522.0</td>\n",
       "      <td>28.192491</td>\n",
       "      <td>1.835666</td>\n",
       "      <td>21.513859</td>\n",
       "      <td>27.080170</td>\n",
       "      <td>28.020083</td>\n",
       "      <td>29.086346</td>\n",
       "      <td>36.741456</td>\n",
       "    </tr>\n",
       "    <tr>\n",
       "      <th>4.0</th>\n",
       "      <td>2907.0</td>\n",
       "      <td>32.170332</td>\n",
       "      <td>2.466835</td>\n",
       "      <td>23.529412</td>\n",
       "      <td>31.020408</td>\n",
       "      <td>32.123438</td>\n",
       "      <td>33.298647</td>\n",
       "      <td>46.805188</td>\n",
       "    </tr>\n",
       "    <tr>\n",
       "      <th>5.0</th>\n",
       "      <td>3248.0</td>\n",
       "      <td>36.521958</td>\n",
       "      <td>2.112538</td>\n",
       "      <td>24.048460</td>\n",
       "      <td>35.436970</td>\n",
       "      <td>36.378753</td>\n",
       "      <td>38.023475</td>\n",
       "      <td>46.222483</td>\n",
       "    </tr>\n",
       "    <tr>\n",
       "      <th>6.0</th>\n",
       "      <td>4045.0</td>\n",
       "      <td>41.787580</td>\n",
       "      <td>2.645200</td>\n",
       "      <td>25.910684</td>\n",
       "      <td>40.372008</td>\n",
       "      <td>41.751829</td>\n",
       "      <td>43.615314</td>\n",
       "      <td>54.997991</td>\n",
       "    </tr>\n",
       "  </tbody>\n",
       "</table>\n",
       "</div>"
      ],
      "text/plain": [
       "             count       mean       std        min        25%        50%  \\\n",
       "NObeyesdad                                                                 \n",
       "0.0         2453.0  17.439496  1.000270  12.868541  16.979592  17.492242   \n",
       "1.0         3082.0  22.000999  2.194097  14.631670  20.568937  22.038567   \n",
       "2.0         2408.0  26.122946  1.620367  20.195092  25.390625  25.971309   \n",
       "3.0         2522.0  28.192491  1.835666  21.513859  27.080170  28.020083   \n",
       "4.0         2907.0  32.170332  2.466835  23.529412  31.020408  32.123438   \n",
       "5.0         3248.0  36.521958  2.112538  24.048460  35.436970  36.378753   \n",
       "6.0         4045.0  41.787580  2.645200  25.910684  40.372008  41.751829   \n",
       "\n",
       "                  75%        max  \n",
       "NObeyesdad                        \n",
       "0.0         17.944031  20.499483  \n",
       "1.0         23.661439  32.882414  \n",
       "2.0         26.672763  35.555556  \n",
       "3.0         29.086346  36.741456  \n",
       "4.0         33.298647  46.805188  \n",
       "5.0         38.023475  46.222483  \n",
       "6.0         43.615314  54.997991  "
      ]
     },
     "execution_count": 23,
     "metadata": {},
     "output_type": "execute_result"
    }
   ],
   "source": [
    " X_train.groupby('NObeyesdad')['BMI'].describe()"
   ]
  },
  {
   "cell_type": "code",
   "execution_count": 24,
   "id": "a2660df1",
   "metadata": {
    "execution": {
     "iopub.execute_input": "2024-04-03T23:04:43.905450Z",
     "iopub.status.busy": "2024-04-03T23:04:43.904728Z",
     "iopub.status.idle": "2024-04-03T23:04:43.923796Z",
     "shell.execute_reply": "2024-04-03T23:04:43.922549Z"
    },
    "papermill": {
     "duration": 0.051123,
     "end_time": "2024-04-03T23:04:43.927561",
     "exception": false,
     "start_time": "2024-04-03T23:04:43.876438",
     "status": "completed"
    },
    "tags": []
   },
   "outputs": [],
   "source": [
    "X_train['BMI_target_bound'] = X_train.groupby('NObeyesdad')['BMI'].transform(lambda x: x.mean() - x.std())"
   ]
  },
  {
   "cell_type": "markdown",
   "id": "7e599d7c",
   "metadata": {
    "papermill": {
     "duration": 0.024098,
     "end_time": "2024-04-03T23:04:43.976075",
     "exception": false,
     "start_time": "2024-04-03T23:04:43.951977",
     "status": "completed"
    },
    "tags": []
   },
   "source": [
    "People who have MBI much smaller than mean for category assigned"
   ]
  },
  {
   "cell_type": "code",
   "execution_count": 25,
   "id": "45fbd24a",
   "metadata": {
    "execution": {
     "iopub.execute_input": "2024-04-03T23:04:44.028402Z",
     "iopub.status.busy": "2024-04-03T23:04:44.027895Z",
     "iopub.status.idle": "2024-04-03T23:04:44.047265Z",
     "shell.execute_reply": "2024-04-03T23:04:44.045315Z"
    },
    "papermill": {
     "duration": 0.050395,
     "end_time": "2024-04-03T23:04:44.050221",
     "exception": false,
     "start_time": "2024-04-03T23:04:43.999826",
     "status": "completed"
    },
    "tags": []
   },
   "outputs": [
    {
     "name": "stdout",
     "output_type": "stream",
     "text": [
      "3.0 315\n",
      "3.5 218\n",
      "4.0 152\n",
      "4.5 95\n",
      "5.0 60\n",
      "5.5 38\n",
      "6.0 32\n",
      "6.5 23\n",
      "7.0 15\n",
      "7.5 10\n",
      "8.0 7\n"
     ]
    }
   ],
   "source": [
    "for i in range(11):\n",
    "    print(3 + 0.5*i,len(X_train[(X_train['BMI_target_bound'] - X_train['BMI'] >= 3 + 0.5*i)]))"
   ]
  },
  {
   "cell_type": "code",
   "execution_count": 26,
   "id": "d949e52b",
   "metadata": {
    "execution": {
     "iopub.execute_input": "2024-04-03T23:04:44.103512Z",
     "iopub.status.busy": "2024-04-03T23:04:44.102579Z",
     "iopub.status.idle": "2024-04-03T23:04:44.109694Z",
     "shell.execute_reply": "2024-04-03T23:04:44.108341Z"
    },
    "papermill": {
     "duration": 0.035574,
     "end_time": "2024-04-03T23:04:44.112272",
     "exception": false,
     "start_time": "2024-04-03T23:04:44.076698",
     "status": "completed"
    },
    "tags": []
   },
   "outputs": [
    {
     "data": {
      "text/plain": [
       "\"for i in range(10):\\n    idx = ~(X_train['BMI_target_bound'] - X_train['BMI'] >= 7.5 + 0.1*i)\\n    tmp = X_train.drop(columns='BMI_target_bound')\\n    print(7.5 + 0.1*i,evaluate_outlier_removal(tmp[idx],tmp,y_train))\""
      ]
     },
     "execution_count": 26,
     "metadata": {},
     "output_type": "execute_result"
    }
   ],
   "source": [
    "'''for i in range(10):\n",
    "    idx = ~(X_train['BMI_target_bound'] - X_train['BMI'] >= 7.5 + 0.1*i)\n",
    "    tmp = X_train.drop(columns='BMI_target_bound')\n",
    "    print(7.5 + 0.1*i,evaluate_outlier_removal(tmp[idx],tmp,y_train))'''"
   ]
  },
  {
   "cell_type": "markdown",
   "id": "a22e97b5",
   "metadata": {
    "papermill": {
     "duration": 0.023851,
     "end_time": "2024-04-03T23:04:44.160142",
     "exception": false,
     "start_time": "2024-04-03T23:04:44.136291",
     "status": "completed"
    },
    "tags": []
   },
   "source": [
    "8 gives best result. We remove entries with this difference"
   ]
  },
  {
   "cell_type": "code",
   "execution_count": 27,
   "id": "ae1a0302",
   "metadata": {
    "execution": {
     "iopub.execute_input": "2024-04-03T23:04:44.211325Z",
     "iopub.status.busy": "2024-04-03T23:04:44.210779Z",
     "iopub.status.idle": "2024-04-03T23:04:44.227955Z",
     "shell.execute_reply": "2024-04-03T23:04:44.226560Z"
    },
    "papermill": {
     "duration": 0.046675,
     "end_time": "2024-04-03T23:04:44.230938",
     "exception": false,
     "start_time": "2024-04-03T23:04:44.184263",
     "status": "completed"
    },
    "tags": []
   },
   "outputs": [],
   "source": [
    "idx =  ~(X_train['BMI_target_bound'] - X_train['BMI'] >= 8)\n",
    "X_train = X_train[idx]\n",
    "X_train = X_train.drop(columns='BMI_target_bound')\n",
    "y_train = y_train[idx]"
   ]
  },
  {
   "cell_type": "code",
   "execution_count": 28,
   "id": "36ab0cf7",
   "metadata": {
    "execution": {
     "iopub.execute_input": "2024-04-03T23:04:44.282460Z",
     "iopub.status.busy": "2024-04-03T23:04:44.282032Z",
     "iopub.status.idle": "2024-04-03T23:04:52.209140Z",
     "shell.execute_reply": "2024-04-03T23:04:52.207899Z"
    },
    "papermill": {
     "duration": 7.956514,
     "end_time": "2024-04-03T23:04:52.212633",
     "exception": false,
     "start_time": "2024-04-03T23:04:44.256119",
     "status": "completed"
    },
    "tags": []
   },
   "outputs": [
    {
     "data": {
      "text/plain": [
       "0.8936489105699288"
      ]
     },
     "execution_count": 28,
     "metadata": {},
     "output_type": "execute_result"
    }
   ],
   "source": [
    "evaluate_data(X_train, y_train)"
   ]
  },
  {
   "cell_type": "markdown",
   "id": "292c82ab",
   "metadata": {
    "papermill": {
     "duration": 0.024988,
     "end_time": "2024-04-03T23:04:52.263523",
     "exception": false,
     "start_time": "2024-04-03T23:04:52.238535",
     "status": "completed"
    },
    "tags": []
   },
   "source": [
    "People who have MBI much bigger than mean for category assigned"
   ]
  },
  {
   "cell_type": "code",
   "execution_count": 29,
   "id": "4ad97d58",
   "metadata": {
    "execution": {
     "iopub.execute_input": "2024-04-03T23:04:52.321876Z",
     "iopub.status.busy": "2024-04-03T23:04:52.320763Z",
     "iopub.status.idle": "2024-04-03T23:04:52.340571Z",
     "shell.execute_reply": "2024-04-03T23:04:52.339466Z"
    },
    "papermill": {
     "duration": 0.054594,
     "end_time": "2024-04-03T23:04:52.344076",
     "exception": false,
     "start_time": "2024-04-03T23:04:52.289482",
     "status": "completed"
    },
    "tags": []
   },
   "outputs": [],
   "source": [
    "X_train['BMI_target_bound'] = X_train.groupby('NObeyesdad')['BMI'].transform(lambda x: x.mean() + x.std())"
   ]
  },
  {
   "cell_type": "code",
   "execution_count": 30,
   "id": "76507bff",
   "metadata": {
    "execution": {
     "iopub.execute_input": "2024-04-03T23:04:52.398669Z",
     "iopub.status.busy": "2024-04-03T23:04:52.397006Z",
     "iopub.status.idle": "2024-04-03T23:04:52.421609Z",
     "shell.execute_reply": "2024-04-03T23:04:52.419532Z"
    },
    "papermill": {
     "duration": 0.05465,
     "end_time": "2024-04-03T23:04:52.424826",
     "exception": false,
     "start_time": "2024-04-03T23:04:52.370176",
     "status": "completed"
    },
    "tags": []
   },
   "outputs": [
    {
     "name": "stdout",
     "output_type": "stream",
     "text": [
      "4.0 141\n",
      "4.5 105\n",
      "5.0 79\n",
      "5.5 50\n",
      "6.0 33\n",
      "6.5 23\n",
      "7.0 14\n",
      "7.5 9\n",
      "8.0 6\n",
      "8.5 6\n",
      "9.0 4\n"
     ]
    }
   ],
   "source": [
    "for i in range(11):\n",
    "    print(4 + 0.5*i,len(X_train[(X_train['BMI'] - X_train['BMI_target_bound'] >= 4 + 0.5*i) & (X_train['BMI'] <= 48)]))"
   ]
  },
  {
   "cell_type": "code",
   "execution_count": 31,
   "id": "535f4117",
   "metadata": {
    "execution": {
     "iopub.execute_input": "2024-04-03T23:04:52.484252Z",
     "iopub.status.busy": "2024-04-03T23:04:52.483720Z",
     "iopub.status.idle": "2024-04-03T23:04:52.491631Z",
     "shell.execute_reply": "2024-04-03T23:04:52.490041Z"
    },
    "papermill": {
     "duration": 0.041091,
     "end_time": "2024-04-03T23:04:52.494481",
     "exception": false,
     "start_time": "2024-04-03T23:04:52.453390",
     "status": "completed"
    },
    "tags": []
   },
   "outputs": [
    {
     "data": {
      "text/plain": [
       "\"for i in range(10):\\n    idx = ~(X_train['BMI'] - X_train['BMI_target_bound'] >= 6 + 0.1*i) & (X_train['BMI'] <= 48)\\n    tmp = X_train.drop(columns='BMI_target_bound')\\n    print(6 + 0.1*i,evaluate_outlier_removal(tmp[idx],tmp,y_train))\""
      ]
     },
     "execution_count": 31,
     "metadata": {},
     "output_type": "execute_result"
    }
   ],
   "source": [
    "'''for i in range(10):\n",
    "    idx = ~(X_train['BMI'] - X_train['BMI_target_bound'] >= 6 + 0.1*i) & (X_train['BMI'] <= 48)\n",
    "    tmp = X_train.drop(columns='BMI_target_bound')\n",
    "    print(6 + 0.1*i,evaluate_outlier_removal(tmp[idx],tmp,y_train))'''"
   ]
  },
  {
   "cell_type": "markdown",
   "id": "529d7312",
   "metadata": {
    "papermill": {
     "duration": 0.027322,
     "end_time": "2024-04-03T23:04:52.557159",
     "exception": false,
     "start_time": "2024-04-03T23:04:52.529837",
     "status": "completed"
    },
    "tags": []
   },
   "source": [
    "6.5 gives best result"
   ]
  },
  {
   "cell_type": "code",
   "execution_count": 32,
   "id": "19c107d1",
   "metadata": {
    "execution": {
     "iopub.execute_input": "2024-04-03T23:04:52.612626Z",
     "iopub.status.busy": "2024-04-03T23:04:52.612130Z",
     "iopub.status.idle": "2024-04-03T23:04:52.629818Z",
     "shell.execute_reply": "2024-04-03T23:04:52.628547Z"
    },
    "papermill": {
     "duration": 0.048609,
     "end_time": "2024-04-03T23:04:52.632888",
     "exception": false,
     "start_time": "2024-04-03T23:04:52.584279",
     "status": "completed"
    },
    "tags": []
   },
   "outputs": [],
   "source": [
    "idx =  ~(X_train['BMI'] - X_train['BMI_target_bound'] >= 6.5) & (X_train['BMI'] <= 48)\n",
    "X_train = X_train[idx]\n",
    "X_train = X_train.drop(columns='BMI_target_bound')\n",
    "y_train = y_train[idx]"
   ]
  },
  {
   "cell_type": "code",
   "execution_count": 33,
   "id": "a20dd7ff",
   "metadata": {
    "execution": {
     "iopub.execute_input": "2024-04-03T23:04:52.696687Z",
     "iopub.status.busy": "2024-04-03T23:04:52.695945Z",
     "iopub.status.idle": "2024-04-03T23:05:01.102728Z",
     "shell.execute_reply": "2024-04-03T23:05:01.101396Z"
    },
    "papermill": {
     "duration": 8.445313,
     "end_time": "2024-04-03T23:05:01.106302",
     "exception": false,
     "start_time": "2024-04-03T23:04:52.660989",
     "status": "completed"
    },
    "tags": []
   },
   "outputs": [
    {
     "data": {
      "text/plain": [
       "0.8936876265915892"
      ]
     },
     "execution_count": 33,
     "metadata": {},
     "output_type": "execute_result"
    }
   ],
   "source": [
    "evaluate_data(X_train, y_train)"
   ]
  },
  {
   "cell_type": "code",
   "execution_count": 34,
   "id": "3a5e30ef",
   "metadata": {
    "execution": {
     "iopub.execute_input": "2024-04-03T23:05:01.171164Z",
     "iopub.status.busy": "2024-04-03T23:05:01.170680Z",
     "iopub.status.idle": "2024-04-03T23:05:03.503167Z",
     "shell.execute_reply": "2024-04-03T23:05:03.501785Z"
    },
    "jupyter": {
     "source_hidden": true
    },
    "papermill": {
     "duration": 2.372257,
     "end_time": "2024-04-03T23:05:03.507428",
     "exception": false,
     "start_time": "2024-04-03T23:05:01.135171",
     "status": "completed"
    },
    "tags": []
   },
   "outputs": [
    {
     "data": {
      "image/png": "[encoded data removed]",
      "text/plain": [
       "<Figure size 1200x600 with 8 Axes>"
      ]
     },
     "metadata": {},
     "output_type": "display_data"
    }
   ],
   "source": [
    "fig, ax = plt.subplots(2,4,figsize=(12,6))\n",
    "ax = ax.flatten()\n",
    "cols = X_train.select_dtypes(include=['object','category']).columns\n",
    "\n",
    "for i in range(8):\n",
    "    sns.histplot(data=X_train, x = cols[i], ax=ax[i])\n",
    "    \n",
    "fig.tight_layout()"
   ]
  },
  {
   "cell_type": "code",
   "execution_count": 35,
   "id": "b3944e0b",
   "metadata": {
    "execution": {
     "iopub.execute_input": "2024-04-03T23:05:03.565925Z",
     "iopub.status.busy": "2024-04-03T23:05:03.564553Z",
     "iopub.status.idle": "2024-04-03T23:05:04.012936Z",
     "shell.execute_reply": "2024-04-03T23:05:04.011682Z"
    },
    "jupyter": {
     "source_hidden": true
    },
    "papermill": {
     "duration": 0.480842,
     "end_time": "2024-04-03T23:05:04.016684",
     "exception": false,
     "start_time": "2024-04-03T23:05:03.535842",
     "status": "completed"
    },
    "tags": []
   },
   "outputs": [
    {
     "data": {
      "text/plain": [
       "<Axes: xlabel='Weight', ylabel='Height'>"
      ]
     },
     "execution_count": 35,
     "metadata": {},
     "output_type": "execute_result"
    },
    {
     "data": {
      "image/png": "[encoded data removed]",
      "text/plain": [
       "<Figure size 640x480 with 1 Axes>"
      ]
     },
     "metadata": {},
     "output_type": "display_data"
    }
   ],
   "source": [
    "sns.scatterplot(data=X_train[X_train['NObeyesdad'] < 7], x='Weight', y='Height')"
   ]
  },
  {
   "cell_type": "code",
   "execution_count": 36,
   "id": "4cd245ef",
   "metadata": {
    "execution": {
     "iopub.execute_input": "2024-04-03T23:05:04.081887Z",
     "iopub.status.busy": "2024-04-03T23:05:04.080311Z",
     "iopub.status.idle": "2024-04-03T23:05:04.207874Z",
     "shell.execute_reply": "2024-04-03T23:05:04.205975Z"
    },
    "papermill": {
     "duration": 0.161933,
     "end_time": "2024-04-03T23:05:04.211260",
     "exception": false,
     "start_time": "2024-04-03T23:05:04.049327",
     "status": "completed"
    },
    "tags": []
   },
   "outputs": [],
   "source": [
    "from sklearn.preprocessing import OneHotEncoder\n",
    "\n",
    "cols = ['Gender', 'family_history_with_overweight', 'FAVC', 'SMOKE', 'SCC', 'MTRANS']\n",
    "enc = OneHotEncoder(sparse_output = False).set_output(transform='pandas')\n",
    "enc.fit(X_train[cols])\n",
    "X_train = pd.concat([X_train, enc.transform(X_train[cols])], axis=1)\n",
    "X_test = pd.concat([X_test, enc.transform(X_test[cols])], axis=1)\n",
    "\n",
    "to_drop = ['Gender_Female','family_history_with_overweight_no','FAVC_no','SMOKE_no','SCC_no']\n",
    "X_train = X_train.drop(columns = to_drop)\n",
    "X_test = X_test.drop(columns = to_drop)"
   ]
  },
  {
   "cell_type": "code",
   "execution_count": 37,
   "id": "70764c16",
   "metadata": {
    "execution": {
     "iopub.execute_input": "2024-04-03T23:05:04.276078Z",
     "iopub.status.busy": "2024-04-03T23:05:04.275600Z",
     "iopub.status.idle": "2024-04-03T23:05:16.083958Z",
     "shell.execute_reply": "2024-04-03T23:05:16.082230Z"
    },
    "papermill": {
     "duration": 11.84442,
     "end_time": "2024-04-03T23:05:16.087202",
     "exception": false,
     "start_time": "2024-04-03T23:05:04.242782",
     "status": "completed"
    },
    "tags": []
   },
   "outputs": [
    {
     "data": {
      "text/plain": [
       "0.9040468510682178"
      ]
     },
     "execution_count": 37,
     "metadata": {},
     "output_type": "execute_result"
    }
   ],
   "source": [
    "evaluate_data(X_train, y_train)"
   ]
  },
  {
   "cell_type": "code",
   "execution_count": 38,
   "id": "ec74e993",
   "metadata": {
    "execution": {
     "iopub.execute_input": "2024-04-03T23:05:16.148905Z",
     "iopub.status.busy": "2024-04-03T23:05:16.148430Z",
     "iopub.status.idle": "2024-04-03T23:05:16.204570Z",
     "shell.execute_reply": "2024-04-03T23:05:16.202341Z"
    },
    "papermill": {
     "duration": 0.092006,
     "end_time": "2024-04-03T23:05:16.208704",
     "exception": false,
     "start_time": "2024-04-03T23:05:16.116698",
     "status": "completed"
    },
    "tags": []
   },
   "outputs": [],
   "source": [
    "enc = OrdinalEncoder(categories = [['no', 'Sometimes', 'Frequently', 'Always'],['no', 'Sometimes', 'Frequently', 'Always']]).set_output(transform='pandas')\n",
    "cols = ['CAEC', 'CALC']\n",
    "X_train = pd.concat([X_train, enc.fit_transform(X_train[cols])], axis=1)\n",
    "X_test = pd.concat([X_test, enc.transform(X_test[cols])], axis=1)"
   ]
  },
  {
   "cell_type": "code",
   "execution_count": 39,
   "id": "a30b5452",
   "metadata": {
    "execution": {
     "iopub.execute_input": "2024-04-03T23:05:16.272213Z",
     "iopub.status.busy": "2024-04-03T23:05:16.271712Z",
     "iopub.status.idle": "2024-04-03T23:05:27.001606Z",
     "shell.execute_reply": "2024-04-03T23:05:26.999709Z"
    },
    "papermill": {
     "duration": 10.770272,
     "end_time": "2024-04-03T23:05:27.009779",
     "exception": false,
     "start_time": "2024-04-03T23:05:16.239507",
     "status": "completed"
    },
    "tags": []
   },
   "outputs": [
    {
     "data": {
      "text/plain": [
       "0.9084237271780375"
      ]
     },
     "execution_count": 39,
     "metadata": {},
     "output_type": "execute_result"
    }
   ],
   "source": [
    "evaluate_data(X_train, y_train)"
   ]
  },
  {
   "cell_type": "code",
   "execution_count": 40,
   "id": "12a834d3",
   "metadata": {
    "execution": {
     "iopub.execute_input": "2024-04-03T23:05:27.082771Z",
     "iopub.status.busy": "2024-04-03T23:05:27.081818Z",
     "iopub.status.idle": "2024-04-03T23:05:27.118036Z",
     "shell.execute_reply": "2024-04-03T23:05:27.117080Z"
    },
    "papermill": {
     "duration": 0.075968,
     "end_time": "2024-04-03T23:05:27.122381",
     "exception": false,
     "start_time": "2024-04-03T23:05:27.046413",
     "status": "completed"
    },
    "tags": []
   },
   "outputs": [],
   "source": [
    "from sklearn.preprocessing import StandardScaler\n",
    "\n",
    "scaler = StandardScaler().set_output(transform='pandas')\n",
    "train_add = scaler.fit_transform(X_train[['Age','Weight','BMI']])\n",
    "test_add = scaler.transform(X_test[['Age','Weight','BMI']])\n",
    "\n",
    "X_train[['Age','Weight','BMI']] = train_add\n",
    "X_test[['Age','Weight','BMI']] = test_add"
   ]
  },
  {
   "cell_type": "code",
   "execution_count": 41,
   "id": "6ee434ee",
   "metadata": {
    "execution": {
     "iopub.execute_input": "2024-04-03T23:05:27.194311Z",
     "iopub.status.busy": "2024-04-03T23:05:27.193433Z",
     "iopub.status.idle": "2024-04-03T23:05:37.901318Z",
     "shell.execute_reply": "2024-04-03T23:05:37.900006Z"
    },
    "papermill": {
     "duration": 10.746802,
     "end_time": "2024-04-03T23:05:37.904752",
     "exception": false,
     "start_time": "2024-04-03T23:05:27.157950",
     "status": "completed"
    },
    "tags": []
   },
   "outputs": [
    {
     "data": {
      "text/plain": [
       "0.9084237271780375"
      ]
     },
     "execution_count": 41,
     "metadata": {},
     "output_type": "execute_result"
    }
   ],
   "source": [
    "evaluate_data(X_train, y_train)"
   ]
  },
  {
   "cell_type": "code",
   "execution_count": 42,
   "id": "e33aefaa",
   "metadata": {
    "execution": {
     "iopub.execute_input": "2024-04-03T23:05:37.968256Z",
     "iopub.status.busy": "2024-04-03T23:05:37.967533Z",
     "iopub.status.idle": "2024-04-03T23:05:37.989950Z",
     "shell.execute_reply": "2024-04-03T23:05:37.987989Z"
    },
    "papermill": {
     "duration": 0.058241,
     "end_time": "2024-04-03T23:05:37.993822",
     "exception": false,
     "start_time": "2024-04-03T23:05:37.935581",
     "status": "completed"
    },
    "tags": []
   },
   "outputs": [],
   "source": [
    "X_train = X_train.select_dtypes(include=['int64','float64'])\n",
    "X_test = X_test.select_dtypes(include=['int64','float64'])\n",
    "X_train = X_train.drop(columns = 'NObeyesdad')"
   ]
  },
  {
   "cell_type": "code",
   "execution_count": 43,
   "id": "484d20a4",
   "metadata": {
    "execution": {
     "iopub.execute_input": "2024-04-03T23:05:38.061214Z",
     "iopub.status.busy": "2024-04-03T23:05:38.060711Z",
     "iopub.status.idle": "2024-04-03T23:05:40.030911Z",
     "shell.execute_reply": "2024-04-03T23:05:40.029020Z"
    },
    "papermill": {
     "duration": 2.007388,
     "end_time": "2024-04-03T23:05:40.034914",
     "exception": false,
     "start_time": "2024-04-03T23:05:38.027526",
     "status": "completed"
    },
    "tags": []
   },
   "outputs": [],
   "source": [
    "from lightgbm import LGBMClassifier\n",
    "import optuna\n",
    "\n",
    "def objective(trial):\n",
    "    n_estimators = trial.suggest_int('n_estimators',100,1000)\n",
    "    learning_rate = trial.suggest_float('learning_rate',0.01,1)\n",
    "    min_child_weight = trial.suggest_float('min_child_weight',0.1,50)\n",
    "    max_depth = trial.suggest_int('max_depth',3,10)\n",
    "    colsample_bytree = trial.suggest_float('colsample_bytree',0.7,1)\n",
    "    subsample = trial.suggest_float('subsample',0.5,1)\n",
    "    reg_lambda = trial.suggest_float('reg_lambda', 0.001, 10, log = True)\n",
    "    reg_alpha = trial.suggest_float('reg_alpha', 0.001, 10, log = True)\n",
    "    num_leaves = 2 ** max_depth\n",
    "    \n",
    "    model = LGBMClassifier(n_estimators = n_estimators, learning_rate = learning_rate, min_child_weight = min_child_weight,\n",
    "                        max_depth = max_depth, colsample_bytree = colsample_bytree, subsample = subsample, reg_lambda = reg_lambda,\n",
    "                           reg_alpha = reg_alpha, num_leaves = num_leaves, metric = 'multi_logloss', verbose = -1)\n",
    "    return cross_val_score(model,X_train, y_train, scoring='accuracy').mean()\n",
    "    "
   ]
  },
  {
   "cell_type": "code",
   "execution_count": 44,
   "id": "667866fc",
   "metadata": {
    "execution": {
     "iopub.execute_input": "2024-04-03T23:05:40.102819Z",
     "iopub.status.busy": "2024-04-03T23:05:40.101974Z",
     "iopub.status.idle": "2024-04-03T23:05:40.110994Z",
     "shell.execute_reply": "2024-04-03T23:05:40.109420Z"
    },
    "papermill": {
     "duration": 0.044348,
     "end_time": "2024-04-03T23:05:40.113625",
     "exception": false,
     "start_time": "2024-04-03T23:05:40.069277",
     "status": "completed"
    },
    "tags": []
   },
   "outputs": [
    {
     "data": {
      "text/plain": [
       "\"study = optuna.create_study(study_name = 'study1', direction = 'maximize')\""
      ]
     },
     "execution_count": 44,
     "metadata": {},
     "output_type": "execute_result"
    }
   ],
   "source": [
    "'''study = optuna.create_study(study_name = 'study1', direction = 'maximize')'''"
   ]
  },
  {
   "cell_type": "code",
   "execution_count": 45,
   "id": "1994760a",
   "metadata": {
    "execution": {
     "iopub.execute_input": "2024-04-03T23:05:40.177935Z",
     "iopub.status.busy": "2024-04-03T23:05:40.176921Z",
     "iopub.status.idle": "2024-04-03T23:05:40.185149Z",
     "shell.execute_reply": "2024-04-03T23:05:40.183814Z"
    },
    "papermill": {
     "duration": 0.043483,
     "end_time": "2024-04-03T23:05:40.188285",
     "exception": false,
     "start_time": "2024-04-03T23:05:40.144802",
     "status": "completed"
    },
    "tags": []
   },
   "outputs": [
    {
     "data": {
      "text/plain": [
       "'study.optimize(objective, n_trials = 50)'"
      ]
     },
     "execution_count": 45,
     "metadata": {},
     "output_type": "execute_result"
    }
   ],
   "source": [
    "'''study.optimize(objective, n_trials = 50)'''"
   ]
  },
  {
   "cell_type": "code",
   "execution_count": 46,
   "id": "3bac24e6",
   "metadata": {
    "execution": {
     "iopub.execute_input": "2024-04-03T23:05:40.259748Z",
     "iopub.status.busy": "2024-04-03T23:05:40.258456Z",
     "iopub.status.idle": "2024-04-03T23:05:40.268624Z",
     "shell.execute_reply": "2024-04-03T23:05:40.266967Z"
    },
    "papermill": {
     "duration": 0.050338,
     "end_time": "2024-04-03T23:05:40.272002",
     "exception": false,
     "start_time": "2024-04-03T23:05:40.221664",
     "status": "completed"
    },
    "tags": []
   },
   "outputs": [
    {
     "data": {
      "text/plain": [
       "'study.best_value, study.best_params'"
      ]
     },
     "execution_count": 46,
     "metadata": {},
     "output_type": "execute_result"
    }
   ],
   "source": [
    "'''study.best_value, study.best_params'''"
   ]
  },
  {
   "cell_type": "markdown",
   "id": "f09fd007",
   "metadata": {
    "papermill": {
     "duration": 0.031118,
     "end_time": "2024-04-03T23:05:40.335129",
     "exception": false,
     "start_time": "2024-04-03T23:05:40.304011",
     "status": "completed"
    },
    "tags": []
   },
   "source": [
    "Best for LGBM: 0.91265478349468 {'n_estimators': 551, 'learning_rate': 0.08049852985271347, 'min_child_weight': 12.36001667250277, 'max_depth': 3, 'colsample_bytree': 0.8346441158620809, 'subsample': 0.8574803271255999, 'reg_lambda': 1.6359555481485917, 'reg_alpha': 0.5095976371725309}"
   ]
  },
  {
   "cell_type": "markdown",
   "id": "484274bf",
   "metadata": {
    "papermill": {
     "duration": 0.030012,
     "end_time": "2024-04-03T23:05:40.398001",
     "exception": false,
     "start_time": "2024-04-03T23:05:40.367989",
     "status": "completed"
    },
    "tags": []
   },
   "source": [
    "(0.9122656902617778,\n",
    " {'n_estimators': 183,\n",
    "  'learning_rate': 0.2140988904706678,\n",
    "  'min_child_weight': 7.180522548077616,\n",
    "  'max_depth': 7,\n",
    "  'colsample_bytree': 0.7000396068947157,\n",
    "  'sample': 0.8089390706821744,\n",
    "  'gamma': 0.5109276485597596})"
   ]
  },
  {
   "cell_type": "code",
   "execution_count": 47,
   "id": "354185c3",
   "metadata": {
    "execution": {
     "iopub.execute_input": "2024-04-03T23:05:40.462711Z",
     "iopub.status.busy": "2024-04-03T23:05:40.462229Z",
     "iopub.status.idle": "2024-04-03T23:05:50.258980Z",
     "shell.execute_reply": "2024-04-03T23:05:50.256863Z"
    },
    "papermill": {
     "duration": 9.833067,
     "end_time": "2024-04-03T23:05:50.262228",
     "exception": false,
     "start_time": "2024-04-03T23:05:40.429161",
     "status": "completed"
    },
    "tags": []
   },
   "outputs": [
    {
     "data": {
      "text/html": [
       "<style>#sk-container-id-1 {color: black;background-color: white;}#sk-container-id-1 pre{padding: 0;}#sk-container-id-1 div.sk-toggleable {background-color: white;}#sk-container-id-1 label.sk-toggleable__label {cursor: pointer;display: block;width: 100%;margin-bottom: 0;padding: 0.3em;box-sizing: border-box;text-align: center;}#sk-container-id-1 label.sk-toggleable__label-arrow:before {content: \"▸\";float: left;margin-right: 0.25em;color: #696969;}#sk-container-id-1 label.sk-toggleable__label-arrow:hover:before {color: black;}#sk-container-id-1 div.sk-estimator:hover label.sk-toggleable__label-arrow:before {color: black;}#sk-container-id-1 div.sk-toggleable__content {max-height: 0;max-width: 0;overflow: hidden;text-align: left;background-color: #f0f8ff;}#sk-container-id-1 div.sk-toggleable__content pre {margin: 0.2em;color: black;border-radius: 0.25em;background-color: #f0f8ff;}#sk-container-id-1 input.sk-toggleable__control:checked~div.sk-toggleable__content {max-height: 200px;max-width: 100%;overflow: auto;}#sk-container-id-1 input.sk-toggleable__control:checked~label.sk-toggleable__label-arrow:before {content: \"▾\";}#sk-container-id-1 div.sk-estimator input.sk-toggleable__control:checked~label.sk-toggleable__label {background-color: #d4ebff;}#sk-container-id-1 div.sk-label input.sk-toggleable__control:checked~label.sk-toggleable__label {background-color: #d4ebff;}#sk-container-id-1 input.sk-hidden--visually {border: 0;clip: rect(1px 1px 1px 1px);clip: rect(1px, 1px, 1px, 1px);height: 1px;margin: -1px;overflow: hidden;padding: 0;position: absolute;width: 1px;}#sk-container-id-1 div.sk-estimator {font-family: monospace;background-color: #f0f8ff;border: 1px dotted black;border-radius: 0.25em;box-sizing: border-box;margin-bottom: 0.5em;}#sk-container-id-1 div.sk-estimator:hover {background-color: #d4ebff;}#sk-container-id-1 div.sk-parallel-item::after {content: \"\";width: 100%;border-bottom: 1px solid gray;flex-grow: 1;}#sk-container-id-1 div.sk-label:hover label.sk-toggleable__label {background-color: #d4ebff;}#sk-container-id-1 div.sk-serial::before {content: \"\";position: absolute;border-left: 1px solid gray;box-sizing: border-box;top: 0;bottom: 0;left: 50%;z-index: 0;}#sk-container-id-1 div.sk-serial {display: flex;flex-direction: column;align-items: center;background-color: white;padding-right: 0.2em;padding-left: 0.2em;position: relative;}#sk-container-id-1 div.sk-item {position: relative;z-index: 1;}#sk-container-id-1 div.sk-parallel {display: flex;align-items: stretch;justify-content: center;background-color: white;position: relative;}#sk-container-id-1 div.sk-item::before, #sk-container-id-1 div.sk-parallel-item::before {content: \"\";position: absolute;border-left: 1px solid gray;box-sizing: border-box;top: 0;bottom: 0;left: 50%;z-index: -1;}#sk-container-id-1 div.sk-parallel-item {display: flex;flex-direction: column;z-index: 1;position: relative;background-color: white;}#sk-container-id-1 div.sk-parallel-item:first-child::after {align-self: flex-end;width: 50%;}#sk-container-id-1 div.sk-parallel-item:last-child::after {align-self: flex-start;width: 50%;}#sk-container-id-1 div.sk-parallel-item:only-child::after {width: 0;}#sk-container-id-1 div.sk-dashed-wrapped {border: 1px dashed gray;margin: 0 0.4em 0.5em 0.4em;box-sizing: border-box;padding-bottom: 0.4em;background-color: white;}#sk-container-id-1 div.sk-label label {font-family: monospace;font-weight: bold;display: inline-block;line-height: 1.2em;}#sk-container-id-1 div.sk-label-container {text-align: center;}#sk-container-id-1 div.sk-container {/* jupyter's `normalize.less` sets `[hidden] { display: none; }` but bootstrap.min.css set `[hidden] { display: none !important; }` so we also need the `!important` here to be able to override the default hidden behavior on the sphinx rendered scikit-learn.org. See: https://github.com/scikit-learn/scikit-learn/issues/21755 */display: inline-block !important;position: relative;}#sk-container-id-1 div.sk-text-repr-fallback {display: none;}</style><div id=\"sk-container-id-1\" class=\"sk-top-container\"><div class=\"sk-text-repr-fallback\"><pre>LGBMClassifier(colsample_bytree=0.8346441158620809,\n",
       "               learning_rate=0.08049852985271347, max_depth=3,\n",
       "               metric=&#x27;multi_logloss&#x27;, min_child_weight=12.36001667250277,\n",
       "               n_estimators=551, num_leaves=8, reg_alpha=0.5095976371725309,\n",
       "               reg_lambda=1.6359555481485917, subsample=0.8574803271255999,\n",
       "               verbose=-1)</pre><b>In a Jupyter environment, please rerun this cell to show the HTML representation or trust the notebook. <br />On GitHub, the HTML representation is unable to render, please try loading this page with nbviewer.org.</b></div><div class=\"sk-container\" hidden><div class=\"sk-item\"><div class=\"sk-estimator sk-toggleable\"><input class=\"sk-toggleable__control sk-hidden--visually\" id=\"sk-estimator-id-1\" type=\"checkbox\" checked><label for=\"sk-estimator-id-1\" class=\"sk-toggleable__label sk-toggleable__label-arrow\">LGBMClassifier</label><div class=\"sk-toggleable__content\"><pre>LGBMClassifier(colsample_bytree=0.8346441158620809,\n",
       "               learning_rate=0.08049852985271347, max_depth=3,\n",
       "               metric=&#x27;multi_logloss&#x27;, min_child_weight=12.36001667250277,\n",
       "               n_estimators=551, num_leaves=8, reg_alpha=0.5095976371725309,\n",
       "               reg_lambda=1.6359555481485917, subsample=0.8574803271255999,\n",
       "               verbose=-1)</pre></div></div></div></div></div>"
      ],
      "text/plain": [
       "LGBMClassifier(colsample_bytree=0.8346441158620809,\n",
       "               learning_rate=0.08049852985271347, max_depth=3,\n",
       "               metric='multi_logloss', min_child_weight=12.36001667250277,\n",
       "               n_estimators=551, num_leaves=8, reg_alpha=0.5095976371725309,\n",
       "               reg_lambda=1.6359555481485917, subsample=0.8574803271255999,\n",
       "               verbose=-1)"
      ]
     },
     "execution_count": 47,
     "metadata": {},
     "output_type": "execute_result"
    }
   ],
   "source": [
    "parameters = {'n_estimators': 551, 'learning_rate': 0.08049852985271347, 'min_child_weight': 12.36001667250277, 'max_depth': 3, 'colsample_bytree': 0.8346441158620809, 'subsample': 0.8574803271255999, 'reg_lambda': 1.6359555481485917, 'reg_alpha': 0.5095976371725309}\n",
    "parameters['num_leaves'] = 8\n",
    "parameters['verbose'] = -1\n",
    "parameters['metric'] = 'multi_logloss'\n",
    "model = LGBMClassifier(**parameters)\n",
    "'''model = XGBClassifier(n_estimators = 183, learning_rate = 0.2140988904706678, min_child_weight = 7.180522548077616,\n",
    "                        max_depth = 7, colsample_bytree = 0.7000396068947157, sample = 0.8089390706821744, gamma = 0.5109276485597596, eval_metric = 'mlogloss')'''\n",
    "model.fit(X_train,y_train)"
   ]
  },
  {
   "cell_type": "code",
   "execution_count": 48,
   "id": "81c92830",
   "metadata": {
    "execution": {
     "iopub.execute_input": "2024-04-03T23:05:50.330136Z",
     "iopub.status.busy": "2024-04-03T23:05:50.329583Z",
     "iopub.status.idle": "2024-04-03T23:05:52.917939Z",
     "shell.execute_reply": "2024-04-03T23:05:52.916120Z"
    },
    "papermill": {
     "duration": 2.626251,
     "end_time": "2024-04-03T23:05:52.921430",
     "exception": false,
     "start_time": "2024-04-03T23:05:50.295179",
     "status": "completed"
    },
    "tags": []
   },
   "outputs": [],
   "source": [
    "preds = model.predict(X_test)\n",
    "X_test['NObeyesdad'] = preds\n",
    "ews = X_test[['NObeyesdad']]"
   ]
  },
  {
   "cell_type": "code",
   "execution_count": 49,
   "id": "b915eddc",
   "metadata": {
    "execution": {
     "iopub.execute_input": "2024-04-03T23:05:52.988516Z",
     "iopub.status.busy": "2024-04-03T23:05:52.987664Z",
     "iopub.status.idle": "2024-04-03T23:05:53.047529Z",
     "shell.execute_reply": "2024-04-03T23:05:53.045734Z"
    },
    "papermill": {
     "duration": 0.099698,
     "end_time": "2024-04-03T23:05:53.052878",
     "exception": false,
     "start_time": "2024-04-03T23:05:52.953180",
     "status": "completed"
    },
    "tags": []
   },
   "outputs": [],
   "source": [
    "ews[['NObeyesdad']] = lenc.inverse_transform(ews[['NObeyesdad']])\n",
    "ews.reset_index().to_csv('submission.csv', index=False)"
   ]
  },
  {
   "cell_type": "code",
   "execution_count": 50,
   "id": "7e4f4660",
   "metadata": {
    "execution": {
     "iopub.execute_input": "2024-04-03T23:05:53.120236Z",
     "iopub.status.busy": "2024-04-03T23:05:53.119768Z",
     "iopub.status.idle": "2024-04-03T23:05:53.129562Z",
     "shell.execute_reply": "2024-04-03T23:05:53.127953Z"
    },
    "papermill": {
     "duration": 0.045207,
     "end_time": "2024-04-03T23:05:53.132947",
     "exception": false,
     "start_time": "2024-04-03T23:05:53.087740",
     "status": "completed"
    },
    "tags": []
   },
   "outputs": [
    {
     "data": {
      "text/plain": [
       "'miscls = misclassified(X_train,y_train,model)'"
      ]
     },
     "execution_count": 50,
     "metadata": {},
     "output_type": "execute_result"
    }
   ],
   "source": [
    "'''miscls = misclassified(X_train,y_train,model)'''"
   ]
  },
  {
   "cell_type": "code",
   "execution_count": 51,
   "id": "2536c513",
   "metadata": {
    "execution": {
     "iopub.execute_input": "2024-04-03T23:05:53.196533Z",
     "iopub.status.busy": "2024-04-03T23:05:53.195954Z",
     "iopub.status.idle": "2024-04-03T23:05:53.204666Z",
     "shell.execute_reply": "2024-04-03T23:05:53.203171Z"
    },
    "papermill": {
     "duration": 0.044135,
     "end_time": "2024-04-03T23:05:53.207773",
     "exception": false,
     "start_time": "2024-04-03T23:05:53.163638",
     "status": "completed"
    },
    "tags": []
   },
   "outputs": [
    {
     "data": {
      "text/plain": [
       "'miscls.describe()'"
      ]
     },
     "execution_count": 51,
     "metadata": {},
     "output_type": "execute_result"
    }
   ],
   "source": [
    "'''miscls.describe()'''"
   ]
  },
  {
   "cell_type": "code",
   "execution_count": 52,
   "id": "107db4e6",
   "metadata": {
    "execution": {
     "iopub.execute_input": "2024-04-03T23:05:53.273903Z",
     "iopub.status.busy": "2024-04-03T23:05:53.273501Z",
     "iopub.status.idle": "2024-04-03T23:05:53.282774Z",
     "shell.execute_reply": "2024-04-03T23:05:53.281144Z"
    },
    "papermill": {
     "duration": 0.046501,
     "end_time": "2024-04-03T23:05:53.285959",
     "exception": false,
     "start_time": "2024-04-03T23:05:53.239458",
     "status": "completed"
    },
    "tags": []
   },
   "outputs": [
    {
     "data": {
      "text/plain": [
       "'X_train.describe()'"
      ]
     },
     "execution_count": 52,
     "metadata": {},
     "output_type": "execute_result"
    }
   ],
   "source": [
    "'''X_train.describe()'''"
   ]
  },
  {
   "cell_type": "code",
   "execution_count": 53,
   "id": "7a4841e8",
   "metadata": {
    "execution": {
     "iopub.execute_input": "2024-04-03T23:05:53.351489Z",
     "iopub.status.busy": "2024-04-03T23:05:53.350991Z",
     "iopub.status.idle": "2024-04-03T23:05:53.359788Z",
     "shell.execute_reply": "2024-04-03T23:05:53.358108Z"
    },
    "papermill": {
     "duration": 0.04534,
     "end_time": "2024-04-03T23:05:53.362542",
     "exception": false,
     "start_time": "2024-04-03T23:05:53.317202",
     "status": "completed"
    },
    "tags": []
   },
   "outputs": [
    {
     "data": {
      "text/plain": [
       "\"X_train_enriched = pd.concat([X_train,miscls.iloc[:,:-2]],ignore_index=True)\\ny_train_enriched = pd.concat([y_train['NObeyesdad'],miscls['target']], axis=0, ignore_index=True).to_frame(name='NObeyesdad')\""
      ]
     },
     "execution_count": 53,
     "metadata": {},
     "output_type": "execute_result"
    }
   ],
   "source": [
    "'''X_train_enriched = pd.concat([X_train,miscls.iloc[:,:-2]],ignore_index=True)\n",
    "y_train_enriched = pd.concat([y_train['NObeyesdad'],miscls['target']], axis=0, ignore_index=True).to_frame(name='NObeyesdad')'''"
   ]
  },
  {
   "cell_type": "code",
   "execution_count": 54,
   "id": "fdde121b",
   "metadata": {
    "execution": {
     "iopub.execute_input": "2024-04-03T23:05:53.427849Z",
     "iopub.status.busy": "2024-04-03T23:05:53.427278Z",
     "iopub.status.idle": "2024-04-03T23:05:53.436575Z",
     "shell.execute_reply": "2024-04-03T23:05:53.434935Z"
    },
    "papermill": {
     "duration": 0.045662,
     "end_time": "2024-04-03T23:05:53.439958",
     "exception": false,
     "start_time": "2024-04-03T23:05:53.394296",
     "status": "completed"
    },
    "tags": []
   },
   "outputs": [
    {
     "data": {
      "text/plain": [
       "\"model2 = XGBClassifier(n_estimators = 183, learning_rate = 0.2140988904706678, min_child_weight = 7.180522548077616,\\n                        max_depth = 7, colsample_bytree = 0.7000396068947157, sample = 0.8089390706821744, gamma = 0.5109276485597596, eval_metric = 'mlogloss')\\nmodel2.fit(X_train_enriched,y_train_enriched)\""
      ]
     },
     "execution_count": 54,
     "metadata": {},
     "output_type": "execute_result"
    }
   ],
   "source": [
    "'''model2 = XGBClassifier(n_estimators = 183, learning_rate = 0.2140988904706678, min_child_weight = 7.180522548077616,\n",
    "                        max_depth = 7, colsample_bytree = 0.7000396068947157, sample = 0.8089390706821744, gamma = 0.5109276485597596, eval_metric = 'mlogloss')\n",
    "model2.fit(X_train_enriched,y_train_enriched)'''"
   ]
  },
  {
   "cell_type": "code",
   "execution_count": 55,
   "id": "3bb7afe9",
   "metadata": {
    "execution": {
     "iopub.execute_input": "2024-04-03T23:05:53.507272Z",
     "iopub.status.busy": "2024-04-03T23:05:53.506800Z",
     "iopub.status.idle": "2024-04-03T23:05:53.515450Z",
     "shell.execute_reply": "2024-04-03T23:05:53.513707Z"
    },
    "papermill": {
     "duration": 0.044607,
     "end_time": "2024-04-03T23:05:53.518501",
     "exception": false,
     "start_time": "2024-04-03T23:05:53.473894",
     "status": "completed"
    },
    "tags": []
   },
   "outputs": [
    {
     "data": {
      "text/plain": [
       "'miscls1 = misclassified(X_train_enriched,y_train_enriched,model)\\nmiscls2 = misclassified(X_train_enriched,y_train_enriched,model2)'"
      ]
     },
     "execution_count": 55,
     "metadata": {},
     "output_type": "execute_result"
    }
   ],
   "source": [
    "'''miscls1 = misclassified(X_train_enriched,y_train_enriched,model)\n",
    "miscls2 = misclassified(X_train_enriched,y_train_enriched,model2)'''"
   ]
  },
  {
   "cell_type": "code",
   "execution_count": 56,
   "id": "0256356b",
   "metadata": {
    "execution": {
     "iopub.execute_input": "2024-04-03T23:05:53.583971Z",
     "iopub.status.busy": "2024-04-03T23:05:53.583566Z",
     "iopub.status.idle": "2024-04-03T23:05:53.591789Z",
     "shell.execute_reply": "2024-04-03T23:05:53.590204Z"
    },
    "papermill": {
     "duration": 0.043963,
     "end_time": "2024-04-03T23:05:53.594698",
     "exception": false,
     "start_time": "2024-04-03T23:05:53.550735",
     "status": "completed"
    },
    "tags": []
   },
   "outputs": [
    {
     "data": {
      "text/plain": [
       "\"preds = model2.predict(X_test)\\nX_test['NObeyesdad'] = preds\\news = X_test[['NObeyesdad']]\\n\\news[['NObeyesdad']] = lenc.inverse_transform(ews[['NObeyesdad']])\\news.reset_index().to_csv('submission.csv', index=False)\""
      ]
     },
     "execution_count": 56,
     "metadata": {},
     "output_type": "execute_result"
    }
   ],
   "source": [
    "'''preds = model2.predict(X_test)\n",
    "X_test['NObeyesdad'] = preds\n",
    "ews = X_test[['NObeyesdad']]\n",
    "\n",
    "ews[['NObeyesdad']] = lenc.inverse_transform(ews[['NObeyesdad']])\n",
    "ews.reset_index().to_csv('submission.csv', index=False)'''"
   ]
  }
 ],
 "metadata": {
  "kaggle": {
   "accelerator": "none",
   "dataSources": [
    {
     "databundleVersionId": 7609535,
     "sourceId": 68479,
     "sourceType": "competition"
    }
   ],
   "dockerImageVersionId": 30673,
   "isGpuEnabled": false,
   "isInternetEnabled": true,
   "language": "python",
   "sourceType": "notebook"
  },
  "kernelspec": {
   "display_name": "Python 3",
   "language": "python",
   "name": "python3"
  },
  "language_info": {
   "codemirror_mode": {
    "name": "ipython",
    "version": 3
   },
   "file_extension": ".py",
   "mimetype": "text/x-python",
   "name": "python",
   "nbconvert_exporter": "python",
   "pygments_lexer": "ipython3",
   "version": "3.10.13"
  },
  "papermill": {
   "default_parameters": {},
   "duration": 108.678537,
   "end_time": "2024-04-03T23:05:54.756191",
   "environment_variables": {},
   "exception": null,
   "input_path": "__notebook__.ipynb",
   "output_path": "__notebook__.ipynb",
   "parameters": {},
   "start_time": "2024-04-03T23:04:06.077654",
   "version": "2.5.0"
  }
 },
 "nbformat": 4,
 "nbformat_minor": 5
}
